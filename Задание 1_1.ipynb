{
  "cells": [
    {
      "cell_type": "markdown",
      "metadata": {
        "id": "EUfN2K0OzHIY"
      },
      "source": [
        "# Задание"
      ]
    },
    {
      "cell_type": "markdown",
      "metadata": {
        "id": "s6uhfcvvzHIZ"
      },
      "source": [
        "dataset - данные по продажам игр в зависимости от платформы. Цель - провести препроцессинг + сделать описательную статистику данных\n",
        "\n",
        "    Задачи:\n",
        "        Препроцессинг:\n",
        "       - подгрузить данные, изучить, визуализировать\n",
        "       - названия столбцов к нижнему регистру\n",
        "       - сделать препроцессинг данных - найти повторяющиеся, nan, пустые и тд тп\n",
        "       - придумать что сделать с пропущенными данными\n",
        "       - разобраться с типами данных\n",
        "       - найти некорректные данные, показать их"
      ]
    },
    {
      "cell_type": "markdown",
      "metadata": {
        "id": "SBD0Sw24zHIa"
      },
      "source": [
        "Подсказка:\n",
        "  - Поиск аномалий\n",
        "        Например для оценки критиков и вывод кол-ва на экран некорректные значения можно найти так\n",
        "        count_anomalic_critic = df.loc[df.loc[:, 'critic_score'] == -1]['critic_score'].count()"
      ]
    },
    {
      "cell_type": "code",
      "execution_count": null,
      "metadata": {
        "id": "JrQz0hRczHIa"
      },
      "outputs": [],
      "source": [
        "#Здесь будем импортировать все библиотеки, которые нам нужны будут в ходе выполнения проекта\n",
        "import pandas as pd\n",
        "import matplotlib.pyplot as plt\n",
        "import math\n",
        "import numpy as np\n",
        "from scipy import stats as st\n",
        "import copy\n",
        "import seaborn as sns\n",
        "plt.style.use('bmh')"
      ]
    },
    {
      "cell_type": "markdown",
      "metadata": {
        "id": "ZQ3gMPCOzHIa"
      },
      "source": [
        "## Изученные данных из файла"
      ]
    },
    {
      "cell_type": "code",
      "execution_count": null,
      "metadata": {
        "colab": {
          "base_uri": "https://localhost:8080/"
        },
        "id": "dmue5Uvf3Jjl",
        "outputId": "0363134a-797d-4bbe-d86d-ae515e596ec7"
      },
      "outputs": [
        {
          "name": "stdout",
          "output_type": "stream",
          "text": [
            "Mounted at /content/drive\n"
          ]
        }
      ],
      "source": [
        "from google.colab import drive\n",
        "drive.mount('/content/drive')"
      ]
    },
    {
      "cell_type": "code",
      "execution_count": null,
      "metadata": {
        "colab": {
          "base_uri": "https://localhost:8080/",
          "height": 424
        },
        "id": "DdeQxvk_zHIa",
        "outputId": "0f2f61c0-04f8-41ea-9e76-53c9fa1c239c"
      },
      "outputs": [
        {
          "data": {
            "text/html": [
              "\n",
              "\n",
              "  <div id=\"df-7ef20a62-5cd6-4c33-a6db-1f571869336f\">\n",
              "    <div class=\"colab-df-container\">\n",
              "      <div>\n",
              "<style scoped>\n",
              "    .dataframe tbody tr th:only-of-type {\n",
              "        vertical-align: middle;\n",
              "    }\n",
              "\n",
              "    .dataframe tbody tr th {\n",
              "        vertical-align: top;\n",
              "    }\n",
              "\n",
              "    .dataframe thead th {\n",
              "        text-align: right;\n",
              "    }\n",
              "</style>\n",
              "<table border=\"1\" class=\"dataframe\">\n",
              "  <thead>\n",
              "    <tr style=\"text-align: right;\">\n",
              "      <th></th>\n",
              "      <th>name</th>\n",
              "      <th>platform</th>\n",
              "      <th>year_of_release</th>\n",
              "      <th>genre</th>\n",
              "      <th>na_sales</th>\n",
              "      <th>eu_sales</th>\n",
              "      <th>jp_sales</th>\n",
              "      <th>other_sales</th>\n",
              "      <th>critic_score</th>\n",
              "      <th>user_score</th>\n",
              "      <th>rating</th>\n",
              "    </tr>\n",
              "  </thead>\n",
              "  <tbody>\n",
              "    <tr>\n",
              "      <th>0</th>\n",
              "      <td>Wii Sports</td>\n",
              "      <td>Wii</td>\n",
              "      <td>2006.0</td>\n",
              "      <td>Sports</td>\n",
              "      <td>41.36</td>\n",
              "      <td>28.96</td>\n",
              "      <td>3.77</td>\n",
              "      <td>8.45</td>\n",
              "      <td>76.0</td>\n",
              "      <td>8</td>\n",
              "      <td>E;</td>\n",
              "    </tr>\n",
              "    <tr>\n",
              "      <th>1</th>\n",
              "      <td>Super Mario Bros.</td>\n",
              "      <td>NES</td>\n",
              "      <td>1985.0</td>\n",
              "      <td>Platform</td>\n",
              "      <td>29.08</td>\n",
              "      <td>3.58</td>\n",
              "      <td>6.81</td>\n",
              "      <td>0.77</td>\n",
              "      <td>NaN</td>\n",
              "      <td>NaN</td>\n",
              "      <td>;</td>\n",
              "    </tr>\n",
              "    <tr>\n",
              "      <th>2</th>\n",
              "      <td>Mario Kart Wii</td>\n",
              "      <td>Wii</td>\n",
              "      <td>2008.0</td>\n",
              "      <td>Racing</td>\n",
              "      <td>15.68</td>\n",
              "      <td>12.76</td>\n",
              "      <td>3.79</td>\n",
              "      <td>3.29</td>\n",
              "      <td>82.0</td>\n",
              "      <td>8.3</td>\n",
              "      <td>E;</td>\n",
              "    </tr>\n",
              "    <tr>\n",
              "      <th>3</th>\n",
              "      <td>Wii Sports Resort</td>\n",
              "      <td>Wii</td>\n",
              "      <td>2009.0</td>\n",
              "      <td>Sports</td>\n",
              "      <td>15.61</td>\n",
              "      <td>10.93</td>\n",
              "      <td>3.28</td>\n",
              "      <td>2.95</td>\n",
              "      <td>80.0</td>\n",
              "      <td>8</td>\n",
              "      <td>E;</td>\n",
              "    </tr>\n",
              "    <tr>\n",
              "      <th>4</th>\n",
              "      <td>Pokemon Red/Pokemon Blue</td>\n",
              "      <td>GB</td>\n",
              "      <td>1996.0</td>\n",
              "      <td>Role-Playing</td>\n",
              "      <td>11.27</td>\n",
              "      <td>8.89</td>\n",
              "      <td>10.22</td>\n",
              "      <td>1.00</td>\n",
              "      <td>NaN</td>\n",
              "      <td>NaN</td>\n",
              "      <td>;</td>\n",
              "    </tr>\n",
              "    <tr>\n",
              "      <th>...</th>\n",
              "      <td>...</td>\n",
              "      <td>...</td>\n",
              "      <td>...</td>\n",
              "      <td>...</td>\n",
              "      <td>...</td>\n",
              "      <td>...</td>\n",
              "      <td>...</td>\n",
              "      <td>...</td>\n",
              "      <td>...</td>\n",
              "      <td>...</td>\n",
              "      <td>...</td>\n",
              "    </tr>\n",
              "    <tr>\n",
              "      <th>18013</th>\n",
              "      <td>Samurai Warriors: Sanada Maru</td>\n",
              "      <td>PS3</td>\n",
              "      <td>2016.0</td>\n",
              "      <td>Action</td>\n",
              "      <td>0.0</td>\n",
              "      <td>0.00</td>\n",
              "      <td>0.01</td>\n",
              "      <td>0.00</td>\n",
              "      <td>NaN</td>\n",
              "      <td>NaN</td>\n",
              "      <td>;</td>\n",
              "    </tr>\n",
              "    <tr>\n",
              "      <th>18014</th>\n",
              "      <td>LMA Manager 2007</td>\n",
              "      <td>X360</td>\n",
              "      <td>2006.0</td>\n",
              "      <td>Sports</td>\n",
              "      <td>0.0</td>\n",
              "      <td>0.01</td>\n",
              "      <td>0.00</td>\n",
              "      <td>0.00</td>\n",
              "      <td>NaN</td>\n",
              "      <td>NaN</td>\n",
              "      <td>;</td>\n",
              "    </tr>\n",
              "    <tr>\n",
              "      <th>18015</th>\n",
              "      <td>Haitaka no Psychedelica</td>\n",
              "      <td>PSV</td>\n",
              "      <td>2016.0</td>\n",
              "      <td>Adventure</td>\n",
              "      <td>0.0</td>\n",
              "      <td>0.00</td>\n",
              "      <td>0.01</td>\n",
              "      <td>0.00</td>\n",
              "      <td>NaN</td>\n",
              "      <td>NaN</td>\n",
              "      <td>;</td>\n",
              "    </tr>\n",
              "    <tr>\n",
              "      <th>18016</th>\n",
              "      <td>Spirits &amp; Spells</td>\n",
              "      <td>GBA</td>\n",
              "      <td>2003.0</td>\n",
              "      <td>Platform</td>\n",
              "      <td>0.01</td>\n",
              "      <td>0.00</td>\n",
              "      <td>0.00</td>\n",
              "      <td>0.00</td>\n",
              "      <td>NaN</td>\n",
              "      <td>NaN</td>\n",
              "      <td>;</td>\n",
              "    </tr>\n",
              "    <tr>\n",
              "      <th>18017</th>\n",
              "      <td>Winning Post 8 2016</td>\n",
              "      <td>PSV</td>\n",
              "      <td>2016.0</td>\n",
              "      <td>Simulation</td>\n",
              "      <td>0.0</td>\n",
              "      <td>0.00</td>\n",
              "      <td>0.01</td>\n",
              "      <td>0.00</td>\n",
              "      <td>NaN</td>\n",
              "      <td>NaN</td>\n",
              "      <td>;</td>\n",
              "    </tr>\n",
              "  </tbody>\n",
              "</table>\n",
              "<p>18018 rows × 11 columns</p>\n",
              "</div>\n",
              "      <button class=\"colab-df-convert\" onclick=\"convertToInteractive('df-7ef20a62-5cd6-4c33-a6db-1f571869336f')\"\n",
              "              title=\"Convert this dataframe to an interactive table.\"\n",
              "              style=\"display:none;\">\n",
              "\n",
              "  <svg xmlns=\"http://www.w3.org/2000/svg\" height=\"24px\"viewBox=\"0 0 24 24\"\n",
              "       width=\"24px\">\n",
              "    <path d=\"M0 0h24v24H0V0z\" fill=\"none\"/>\n",
              "    <path d=\"M18.56 5.44l.94 2.06.94-2.06 2.06-.94-2.06-.94-.94-2.06-.94 2.06-2.06.94zm-11 1L8.5 8.5l.94-2.06 2.06-.94-2.06-.94L8.5 2.5l-.94 2.06-2.06.94zm10 10l.94 2.06.94-2.06 2.06-.94-2.06-.94-.94-2.06-.94 2.06-2.06.94z\"/><path d=\"M17.41 7.96l-1.37-1.37c-.4-.4-.92-.59-1.43-.59-.52 0-1.04.2-1.43.59L10.3 9.45l-7.72 7.72c-.78.78-.78 2.05 0 2.83L4 21.41c.39.39.9.59 1.41.59.51 0 1.02-.2 1.41-.59l7.78-7.78 2.81-2.81c.8-.78.8-2.07 0-2.86zM5.41 20L4 18.59l7.72-7.72 1.47 1.35L5.41 20z\"/>\n",
              "  </svg>\n",
              "      </button>\n",
              "\n",
              "\n",
              "\n",
              "    <div id=\"df-d8b8b63e-cbfb-42ca-b9e8-3659efa8bb3f\">\n",
              "      <button class=\"colab-df-quickchart\" onclick=\"quickchart('df-d8b8b63e-cbfb-42ca-b9e8-3659efa8bb3f')\"\n",
              "              title=\"Suggest charts.\"\n",
              "              style=\"display:none;\">\n",
              "\n",
              "<svg xmlns=\"http://www.w3.org/2000/svg\" height=\"24px\"viewBox=\"0 0 24 24\"\n",
              "     width=\"24px\">\n",
              "    <g>\n",
              "        <path d=\"M19 3H5c-1.1 0-2 .9-2 2v14c0 1.1.9 2 2 2h14c1.1 0 2-.9 2-2V5c0-1.1-.9-2-2-2zM9 17H7v-7h2v7zm4 0h-2V7h2v10zm4 0h-2v-4h2v4z\"/>\n",
              "    </g>\n",
              "</svg>\n",
              "      </button>\n",
              "    </div>\n",
              "\n",
              "<style>\n",
              "  .colab-df-quickchart {\n",
              "    background-color: #E8F0FE;\n",
              "    border: none;\n",
              "    border-radius: 50%;\n",
              "    cursor: pointer;\n",
              "    display: none;\n",
              "    fill: #1967D2;\n",
              "    height: 32px;\n",
              "    padding: 0 0 0 0;\n",
              "    width: 32px;\n",
              "  }\n",
              "\n",
              "  .colab-df-quickchart:hover {\n",
              "    background-color: #E2EBFA;\n",
              "    box-shadow: 0px 1px 2px rgba(60, 64, 67, 0.3), 0px 1px 3px 1px rgba(60, 64, 67, 0.15);\n",
              "    fill: #174EA6;\n",
              "  }\n",
              "\n",
              "  [theme=dark] .colab-df-quickchart {\n",
              "    background-color: #3B4455;\n",
              "    fill: #D2E3FC;\n",
              "  }\n",
              "\n",
              "  [theme=dark] .colab-df-quickchart:hover {\n",
              "    background-color: #434B5C;\n",
              "    box-shadow: 0px 1px 3px 1px rgba(0, 0, 0, 0.15);\n",
              "    filter: drop-shadow(0px 1px 2px rgba(0, 0, 0, 0.3));\n",
              "    fill: #FFFFFF;\n",
              "  }\n",
              "</style>\n",
              "\n",
              "    <script>\n",
              "      async function quickchart(key) {\n",
              "        const containerElement = document.querySelector('#' + key);\n",
              "        const charts = await google.colab.kernel.invokeFunction(\n",
              "            'suggestCharts', [key], {});\n",
              "      }\n",
              "    </script>\n",
              "\n",
              "      <script>\n",
              "\n",
              "function displayQuickchartButton(domScope) {\n",
              "  let quickchartButtonEl =\n",
              "    domScope.querySelector('#df-d8b8b63e-cbfb-42ca-b9e8-3659efa8bb3f button.colab-df-quickchart');\n",
              "  quickchartButtonEl.style.display =\n",
              "    google.colab.kernel.accessAllowed ? 'block' : 'none';\n",
              "}\n",
              "\n",
              "        displayQuickchartButton(document);\n",
              "      </script>\n",
              "      <style>\n",
              "    .colab-df-container {\n",
              "      display:flex;\n",
              "      flex-wrap:wrap;\n",
              "      gap: 12px;\n",
              "    }\n",
              "\n",
              "    .colab-df-convert {\n",
              "      background-color: #E8F0FE;\n",
              "      border: none;\n",
              "      border-radius: 50%;\n",
              "      cursor: pointer;\n",
              "      display: none;\n",
              "      fill: #1967D2;\n",
              "      height: 32px;\n",
              "      padding: 0 0 0 0;\n",
              "      width: 32px;\n",
              "    }\n",
              "\n",
              "    .colab-df-convert:hover {\n",
              "      background-color: #E2EBFA;\n",
              "      box-shadow: 0px 1px 2px rgba(60, 64, 67, 0.3), 0px 1px 3px 1px rgba(60, 64, 67, 0.15);\n",
              "      fill: #174EA6;\n",
              "    }\n",
              "\n",
              "    [theme=dark] .colab-df-convert {\n",
              "      background-color: #3B4455;\n",
              "      fill: #D2E3FC;\n",
              "    }\n",
              "\n",
              "    [theme=dark] .colab-df-convert:hover {\n",
              "      background-color: #434B5C;\n",
              "      box-shadow: 0px 1px 3px 1px rgba(0, 0, 0, 0.15);\n",
              "      filter: drop-shadow(0px 1px 2px rgba(0, 0, 0, 0.3));\n",
              "      fill: #FFFFFF;\n",
              "    }\n",
              "  </style>\n",
              "\n",
              "      <script>\n",
              "        const buttonEl =\n",
              "          document.querySelector('#df-7ef20a62-5cd6-4c33-a6db-1f571869336f button.colab-df-convert');\n",
              "        buttonEl.style.display =\n",
              "          google.colab.kernel.accessAllowed ? 'block' : 'none';\n",
              "\n",
              "        async function convertToInteractive(key) {\n",
              "          const element = document.querySelector('#df-7ef20a62-5cd6-4c33-a6db-1f571869336f');\n",
              "          const dataTable =\n",
              "            await google.colab.kernel.invokeFunction('convertToInteractive',\n",
              "                                                     [key], {});\n",
              "          if (!dataTable) return;\n",
              "\n",
              "          const docLinkHtml = 'Like what you see? Visit the ' +\n",
              "            '<a target=\"_blank\" href=https://colab.research.google.com/notebooks/data_table.ipynb>data table notebook</a>'\n",
              "            + ' to learn more about interactive tables.';\n",
              "          element.innerHTML = '';\n",
              "          dataTable['output_type'] = 'display_data';\n",
              "          await google.colab.output.renderOutput(dataTable, element);\n",
              "          const docLink = document.createElement('div');\n",
              "          docLink.innerHTML = docLinkHtml;\n",
              "          element.appendChild(docLink);\n",
              "        }\n",
              "      </script>\n",
              "    </div>\n",
              "  </div>\n"
            ],
            "text/plain": [
              "                                name platform year_of_release         genre  \\\n",
              "0                         Wii Sports      Wii          2006.0        Sports   \n",
              "1                  Super Mario Bros.      NES          1985.0      Platform   \n",
              "2                     Mario Kart Wii      Wii          2008.0        Racing   \n",
              "3                  Wii Sports Resort      Wii          2009.0        Sports   \n",
              "4           Pokemon Red/Pokemon Blue       GB          1996.0  Role-Playing   \n",
              "...                              ...      ...             ...           ...   \n",
              "18013  Samurai Warriors: Sanada Maru      PS3          2016.0        Action   \n",
              "18014               LMA Manager 2007     X360          2006.0        Sports   \n",
              "18015        Haitaka no Psychedelica      PSV          2016.0     Adventure   \n",
              "18016               Spirits & Spells      GBA          2003.0      Platform   \n",
              "18017            Winning Post 8 2016      PSV          2016.0    Simulation   \n",
              "\n",
              "      na_sales  eu_sales  jp_sales  other_sales  critic_score user_score  \\\n",
              "0        41.36     28.96      3.77         8.45          76.0          8   \n",
              "1        29.08      3.58      6.81         0.77           NaN        NaN   \n",
              "2        15.68     12.76      3.79         3.29          82.0        8.3   \n",
              "3        15.61     10.93      3.28         2.95          80.0          8   \n",
              "4        11.27      8.89     10.22         1.00           NaN        NaN   \n",
              "...        ...       ...       ...          ...           ...        ...   \n",
              "18013      0.0      0.00      0.01         0.00           NaN        NaN   \n",
              "18014      0.0      0.01      0.00         0.00           NaN        NaN   \n",
              "18015      0.0      0.00      0.01         0.00           NaN        NaN   \n",
              "18016     0.01      0.00      0.00         0.00           NaN        NaN   \n",
              "18017      0.0      0.00      0.01         0.00           NaN        NaN   \n",
              "\n",
              "      rating  \n",
              "0         E;  \n",
              "1          ;  \n",
              "2         E;  \n",
              "3         E;  \n",
              "4          ;  \n",
              "...      ...  \n",
              "18013      ;  \n",
              "18014      ;  \n",
              "18015      ;  \n",
              "18016      ;  \n",
              "18017      ;  \n",
              "\n",
              "[18018 rows x 11 columns]"
            ]
          },
          "execution_count": 3,
          "metadata": {},
          "output_type": "execute_result"
        }
      ],
      "source": [
        "# df = pd.read_csv('dataset.csv',  on_bad_lines='skip' )\n",
        "df = pd.read_csv('/content/drive/MyDrive/Работа/Интегра/Задача 1/dataset.csv',on_bad_lines='skip')\n",
        "df.columns = df.columns.str.lower() # Нижний регистр\n",
        "df.rename(columns={'rating;':'rating'}, inplace=True)\n",
        "df"
      ]
    },
    {
      "cell_type": "markdown",
      "metadata": {
        "id": "gUU9STyfzHIb"
      },
      "source": [
        "##### Некорректные данные в столбцах:"
      ]
    },
    {
      "cell_type": "code",
      "execution_count": null,
      "metadata": {
        "colab": {
          "base_uri": "https://localhost:8080/"
        },
        "id": "wL73zWddzHIb",
        "outputId": "f2fa90c0-77bf-4dfb-95d6-6ad6668384c4"
      },
      "outputs": [
        {
          "name": "stdout",
          "output_type": "stream",
          "text": [
            "['1942']\n"
          ]
        }
      ],
      "source": [
        "# Фильтруем строки с некорректными значениями в столбце 'name'\n",
        "name_values = df.loc[pd.to_numeric(df['name'], errors='coerce').notna(), 'name']\n",
        "print(name_values.unique())"
      ]
    },
    {
      "cell_type": "code",
      "execution_count": null,
      "metadata": {
        "colab": {
          "base_uri": "https://localhost:8080/"
        },
        "id": "JJK0Fo27zHIb",
        "outputId": "38be13fd-59c9-4852-a1ef-a9a8a1bffdaf"
      },
      "outputs": [
        {
          "name": "stdout",
          "output_type": "stream",
          "text": [
            "['2600']\n"
          ]
        }
      ],
      "source": [
        "# Фильтруем строки с некорректными значениями в столбце 'platform'\n",
        "platform_values = df.loc[pd.to_numeric(df['platform'], errors='coerce').notna(), 'platform']\n",
        "print(platform_values.unique())"
      ]
    },
    {
      "cell_type": "code",
      "execution_count": null,
      "metadata": {
        "colab": {
          "base_uri": "https://localhost:8080/"
        },
        "id": "4OKEx5rhzHIb",
        "outputId": "8c7b06fb-f74e-4855-b4b5-6568c2363b9f"
      },
      "outputs": [
        {
          "name": "stdout",
          "output_type": "stream",
          "text": [
            "[nan 'GBA']\n"
          ]
        }
      ],
      "source": [
        "# Фильтруем строки с некорректными значениями в столбце 'year_of_release'\n",
        "year_of_release_values = df.loc[pd.to_numeric(df['year_of_release'], errors='coerce').isna(), 'year_of_release']\n",
        "print(year_of_release_values.unique())"
      ]
    },
    {
      "cell_type": "code",
      "execution_count": null,
      "metadata": {
        "colab": {
          "base_uri": "https://localhost:8080/"
        },
        "id": "hkOo78RrzHIb",
        "outputId": "1331fb7e-a710-4abd-b71b-c0b8ae1b96da"
      },
      "outputs": [
        {
          "name": "stdout",
          "output_type": "stream",
          "text": [
            "['2001.0']\n"
          ]
        }
      ],
      "source": [
        "# Фильтруем строки с некорректными значениями в столбце 'genre'\n",
        "rating_values = df.loc[pd.to_numeric(df['genre'], errors='coerce').notna(), 'genre']\n",
        "print(rating_values.unique())"
      ]
    },
    {
      "cell_type": "code",
      "execution_count": null,
      "metadata": {
        "colab": {
          "base_uri": "https://localhost:8080/"
        },
        "id": "md1mh-7bzHIc",
        "outputId": "e88f40e6-0a1a-46bb-c15c-3a13b6b31074"
      },
      "outputs": [
        {
          "name": "stdout",
          "output_type": "stream",
          "text": [
            "['Adventure']\n"
          ]
        }
      ],
      "source": [
        "# Фильтруем строки с некорректными значениями в столбце 'na_sales'\n",
        "na_sales_values = df.loc[pd.to_numeric(df['na_sales'], errors='coerce').isna(), 'na_sales']\n",
        "print(na_sales_values.unique())"
      ]
    },
    {
      "cell_type": "code",
      "execution_count": null,
      "metadata": {
        "colab": {
          "base_uri": "https://localhost:8080/"
        },
        "id": "ULOZKotRzHIc",
        "outputId": "792e4530-a087-4440-bc82-9ad2f7672f62"
      },
      "outputs": [
        {
          "name": "stdout",
          "output_type": "stream",
          "text": [
            "[]\n"
          ]
        }
      ],
      "source": [
        "# Фильтруем строки с некорректными значениями в столбце 'eu_sales'\n",
        "eu_sales_values = df.loc[pd.to_numeric(df['eu_sales'], errors='coerce').isna(), 'eu_sales']\n",
        "print(eu_sales_values.unique())"
      ]
    },
    {
      "cell_type": "code",
      "execution_count": null,
      "metadata": {
        "colab": {
          "base_uri": "https://localhost:8080/"
        },
        "id": "0M9ZJbZ1zHIc",
        "outputId": "f4611a58-e2ef-4124-f74b-21ea0892bacc"
      },
      "outputs": [
        {
          "name": "stdout",
          "output_type": "stream",
          "text": [
            "[]\n"
          ]
        }
      ],
      "source": [
        "# Фильтруем строки с некорректными значениями в столбце 'jp_sales'\n",
        "jp_sales_values = df.loc[pd.to_numeric(df['jp_sales'], errors='coerce').isna(), 'jp_sales']\n",
        "print(jp_sales_values.unique())"
      ]
    },
    {
      "cell_type": "code",
      "execution_count": null,
      "metadata": {
        "colab": {
          "base_uri": "https://localhost:8080/"
        },
        "id": "AvMRuFHQzHIc",
        "outputId": "2bfef99d-a338-4fd4-c3c4-2d9032729d19"
      },
      "outputs": [
        {
          "name": "stdout",
          "output_type": "stream",
          "text": [
            "[nan]\n"
          ]
        }
      ],
      "source": [
        "# Фильтруем строки с некорректными значениями в столбце 'critic_score'\n",
        "critic_score_values = df.loc[pd.to_numeric(df['critic_score'], errors='coerce').isna(), 'critic_score']\n",
        "print(critic_score_values.unique())"
      ]
    },
    {
      "cell_type": "code",
      "execution_count": null,
      "metadata": {
        "colab": {
          "base_uri": "https://localhost:8080/"
        },
        "id": "lEVb24CwzHIc",
        "outputId": "d666b365-42a7-43a2-8d91-b55ea96e2860"
      },
      "outputs": [
        {
          "name": "stdout",
          "output_type": "stream",
          "text": [
            "[nan 'tbd']\n"
          ]
        }
      ],
      "source": [
        "# Фильтруем строки с некорректными значениями в столбце 'jp_sales'\n",
        "user_score_values = df.loc[pd.to_numeric(df['user_score'], errors='coerce').isna(), 'user_score']\n",
        "print(user_score_values.unique())"
      ]
    },
    {
      "cell_type": "code",
      "execution_count": null,
      "metadata": {
        "colab": {
          "base_uri": "https://localhost:8080/"
        },
        "id": "igQ75XJlzHIc",
        "outputId": "a23f780f-ad36-4f68-8753-3a1681dd9f46"
      },
      "outputs": [
        {
          "name": "stdout",
          "output_type": "stream",
          "text": [
            "[]\n"
          ]
        }
      ],
      "source": [
        "# Фильтруем строки с некорректными значениями в столбце 'rating'\n",
        "rating_values = df.loc[pd.to_numeric(df['rating'], errors='coerce').notna(), 'rating']\n",
        "print(rating_values.unique())"
      ]
    },
    {
      "cell_type": "code",
      "execution_count": null,
      "metadata": {
        "colab": {
          "base_uri": "https://localhost:8080/"
        },
        "id": "u4XR837GzHIc",
        "outputId": "b6a70356-8ede-4cd2-a674-f416ea6d8fdd"
      },
      "outputs": [
        {
          "name": "stdout",
          "output_type": "stream",
          "text": [
            "['E;' ';' 'M;' 'T;' 'E10+;' 'K-A;' 'AO;' 'EC;' nan 'M' 'RP;']\n"
          ]
        }
      ],
      "source": [
        "rating_values = df.loc[pd.to_numeric(df['rating'], errors='coerce').isna(), 'rating']\n",
        "print(rating_values.unique())"
      ]
    },
    {
      "cell_type": "code",
      "execution_count": null,
      "metadata": {
        "id": "-Yj0SVRczHIc"
      },
      "outputs": [],
      "source": [
        "# count_anomalic_critic = df.loc[df.loc[:, 'critic_score'] == -1]['critic_score'].count()\n",
        "# count_anomalic_critic\n",
        "# count_anomalic_jp_sales = df.loc[df.loc[:, 'jp_sales'] == -1]['jp_sales'].count()\n",
        "# count_anomalic_jp_sales\n",
        "# count_anomalic_user_score = df.loc[df.loc[:, 'user_score'] == -1]['user_score'].count()\n",
        "# count_anomalic_user_score"
      ]
    },
    {
      "cell_type": "markdown",
      "metadata": {
        "id": "fKQB_fYazHId"
      },
      "source": [
        "### 1. Анализ пропусков, дублей, типов и предобработка данных\n"
      ]
    },
    {
      "cell_type": "markdown",
      "metadata": {
        "id": "rwPhASpCzHId"
      },
      "source": [
        "#### 1.1 Анализ типов данных"
      ]
    },
    {
      "cell_type": "code",
      "execution_count": null,
      "metadata": {
        "colab": {
          "base_uri": "https://localhost:8080/"
        },
        "id": "S3_3yYDbzHId",
        "outputId": "767488a4-7d52-4d45-d48a-1e08ea0add9c"
      },
      "outputs": [
        {
          "name": "stdout",
          "output_type": "stream",
          "text": [
            "<class 'pandas.core.frame.DataFrame'>\n",
            "RangeIndex: 18018 entries, 0 to 18017\n",
            "Data columns (total 11 columns):\n",
            " #   Column           Non-Null Count  Dtype  \n",
            "---  ------           --------------  -----  \n",
            " 0   name             18016 non-null  object \n",
            " 1   platform         18018 non-null  object \n",
            " 2   year_of_release  17751 non-null  object \n",
            " 3   genre            18016 non-null  object \n",
            " 4   na_sales         18018 non-null  object \n",
            " 5   eu_sales         18018 non-null  float64\n",
            " 6   jp_sales         18018 non-null  float64\n",
            " 7   other_sales      18018 non-null  float64\n",
            " 8   critic_score     8181 non-null   float64\n",
            " 9   user_score       10052 non-null  object \n",
            " 10  rating           17996 non-null  object \n",
            "dtypes: float64(4), object(7)\n",
            "memory usage: 1.5+ MB\n"
          ]
        }
      ],
      "source": [
        "#Не забудь глянуть артефакты, отриц значения\n",
        "df.info()"
      ]
    },
    {
      "cell_type": "code",
      "execution_count": null,
      "metadata": {
        "colab": {
          "base_uri": "https://localhost:8080/"
        },
        "id": "qXRvOkqAzHId",
        "outputId": "87104f0b-0f65-479e-f534-638f5c6624d5"
      },
      "outputs": [
        {
          "data": {
            "text/plain": [
              "Index(['name', 'platform', 'year_of_release', 'genre', 'na_sales', 'eu_sales',\n",
              "       'jp_sales', 'other_sales', 'critic_score', 'user_score', 'rating'],\n",
              "      dtype='object')"
            ]
          },
          "execution_count": 17,
          "metadata": {},
          "output_type": "execute_result"
        }
      ],
      "source": [
        "df.columns"
      ]
    },
    {
      "cell_type": "code",
      "execution_count": null,
      "metadata": {
        "colab": {
          "base_uri": "https://localhost:8080/",
          "height": 206
        },
        "id": "_0xfUkO7zHId",
        "outputId": "8e117a16-00a7-48d2-ab44-e84a9ae375cc"
      },
      "outputs": [
        {
          "data": {
            "text/html": [
              "\n",
              "\n",
              "  <div id=\"df-628d159d-c2b0-4611-8c33-cc3dae7da9d4\">\n",
              "    <div class=\"colab-df-container\">\n",
              "      <div>\n",
              "<style scoped>\n",
              "    .dataframe tbody tr th:only-of-type {\n",
              "        vertical-align: middle;\n",
              "    }\n",
              "\n",
              "    .dataframe tbody tr th {\n",
              "        vertical-align: top;\n",
              "    }\n",
              "\n",
              "    .dataframe thead th {\n",
              "        text-align: right;\n",
              "    }\n",
              "</style>\n",
              "<table border=\"1\" class=\"dataframe\">\n",
              "  <thead>\n",
              "    <tr style=\"text-align: right;\">\n",
              "      <th></th>\n",
              "      <th>name</th>\n",
              "      <th>platform</th>\n",
              "      <th>year_of_release</th>\n",
              "      <th>genre</th>\n",
              "      <th>na_sales</th>\n",
              "      <th>eu_sales</th>\n",
              "      <th>jp_sales</th>\n",
              "      <th>other_sales</th>\n",
              "      <th>critic_score</th>\n",
              "      <th>user_score</th>\n",
              "      <th>rating</th>\n",
              "    </tr>\n",
              "  </thead>\n",
              "  <tbody>\n",
              "    <tr>\n",
              "      <th>0</th>\n",
              "      <td>Wii Sports</td>\n",
              "      <td>Wii</td>\n",
              "      <td>2006.0</td>\n",
              "      <td>Sports</td>\n",
              "      <td>41.36</td>\n",
              "      <td>28.96</td>\n",
              "      <td>3.77</td>\n",
              "      <td>8.45</td>\n",
              "      <td>76.0</td>\n",
              "      <td>8</td>\n",
              "      <td>E;</td>\n",
              "    </tr>\n",
              "    <tr>\n",
              "      <th>1</th>\n",
              "      <td>Super Mario Bros.</td>\n",
              "      <td>NES</td>\n",
              "      <td>1985.0</td>\n",
              "      <td>Platform</td>\n",
              "      <td>29.08</td>\n",
              "      <td>3.58</td>\n",
              "      <td>6.81</td>\n",
              "      <td>0.77</td>\n",
              "      <td>NaN</td>\n",
              "      <td>NaN</td>\n",
              "      <td>;</td>\n",
              "    </tr>\n",
              "    <tr>\n",
              "      <th>2</th>\n",
              "      <td>Mario Kart Wii</td>\n",
              "      <td>Wii</td>\n",
              "      <td>2008.0</td>\n",
              "      <td>Racing</td>\n",
              "      <td>15.68</td>\n",
              "      <td>12.76</td>\n",
              "      <td>3.79</td>\n",
              "      <td>3.29</td>\n",
              "      <td>82.0</td>\n",
              "      <td>8.3</td>\n",
              "      <td>E;</td>\n",
              "    </tr>\n",
              "    <tr>\n",
              "      <th>3</th>\n",
              "      <td>Wii Sports Resort</td>\n",
              "      <td>Wii</td>\n",
              "      <td>2009.0</td>\n",
              "      <td>Sports</td>\n",
              "      <td>15.61</td>\n",
              "      <td>10.93</td>\n",
              "      <td>3.28</td>\n",
              "      <td>2.95</td>\n",
              "      <td>80.0</td>\n",
              "      <td>8</td>\n",
              "      <td>E;</td>\n",
              "    </tr>\n",
              "    <tr>\n",
              "      <th>4</th>\n",
              "      <td>Pokemon Red/Pokemon Blue</td>\n",
              "      <td>GB</td>\n",
              "      <td>1996.0</td>\n",
              "      <td>Role-Playing</td>\n",
              "      <td>11.27</td>\n",
              "      <td>8.89</td>\n",
              "      <td>10.22</td>\n",
              "      <td>1.00</td>\n",
              "      <td>NaN</td>\n",
              "      <td>NaN</td>\n",
              "      <td>;</td>\n",
              "    </tr>\n",
              "  </tbody>\n",
              "</table>\n",
              "</div>\n",
              "      <button class=\"colab-df-convert\" onclick=\"convertToInteractive('df-628d159d-c2b0-4611-8c33-cc3dae7da9d4')\"\n",
              "              title=\"Convert this dataframe to an interactive table.\"\n",
              "              style=\"display:none;\">\n",
              "\n",
              "  <svg xmlns=\"http://www.w3.org/2000/svg\" height=\"24px\"viewBox=\"0 0 24 24\"\n",
              "       width=\"24px\">\n",
              "    <path d=\"M0 0h24v24H0V0z\" fill=\"none\"/>\n",
              "    <path d=\"M18.56 5.44l.94 2.06.94-2.06 2.06-.94-2.06-.94-.94-2.06-.94 2.06-2.06.94zm-11 1L8.5 8.5l.94-2.06 2.06-.94-2.06-.94L8.5 2.5l-.94 2.06-2.06.94zm10 10l.94 2.06.94-2.06 2.06-.94-2.06-.94-.94-2.06-.94 2.06-2.06.94z\"/><path d=\"M17.41 7.96l-1.37-1.37c-.4-.4-.92-.59-1.43-.59-.52 0-1.04.2-1.43.59L10.3 9.45l-7.72 7.72c-.78.78-.78 2.05 0 2.83L4 21.41c.39.39.9.59 1.41.59.51 0 1.02-.2 1.41-.59l7.78-7.78 2.81-2.81c.8-.78.8-2.07 0-2.86zM5.41 20L4 18.59l7.72-7.72 1.47 1.35L5.41 20z\"/>\n",
              "  </svg>\n",
              "      </button>\n",
              "\n",
              "\n",
              "\n",
              "    <div id=\"df-5f6f58c0-5d51-49ec-8723-340f3496ca03\">\n",
              "      <button class=\"colab-df-quickchart\" onclick=\"quickchart('df-5f6f58c0-5d51-49ec-8723-340f3496ca03')\"\n",
              "              title=\"Suggest charts.\"\n",
              "              style=\"display:none;\">\n",
              "\n",
              "<svg xmlns=\"http://www.w3.org/2000/svg\" height=\"24px\"viewBox=\"0 0 24 24\"\n",
              "     width=\"24px\">\n",
              "    <g>\n",
              "        <path d=\"M19 3H5c-1.1 0-2 .9-2 2v14c0 1.1.9 2 2 2h14c1.1 0 2-.9 2-2V5c0-1.1-.9-2-2-2zM9 17H7v-7h2v7zm4 0h-2V7h2v10zm4 0h-2v-4h2v4z\"/>\n",
              "    </g>\n",
              "</svg>\n",
              "      </button>\n",
              "    </div>\n",
              "\n",
              "<style>\n",
              "  .colab-df-quickchart {\n",
              "    background-color: #E8F0FE;\n",
              "    border: none;\n",
              "    border-radius: 50%;\n",
              "    cursor: pointer;\n",
              "    display: none;\n",
              "    fill: #1967D2;\n",
              "    height: 32px;\n",
              "    padding: 0 0 0 0;\n",
              "    width: 32px;\n",
              "  }\n",
              "\n",
              "  .colab-df-quickchart:hover {\n",
              "    background-color: #E2EBFA;\n",
              "    box-shadow: 0px 1px 2px rgba(60, 64, 67, 0.3), 0px 1px 3px 1px rgba(60, 64, 67, 0.15);\n",
              "    fill: #174EA6;\n",
              "  }\n",
              "\n",
              "  [theme=dark] .colab-df-quickchart {\n",
              "    background-color: #3B4455;\n",
              "    fill: #D2E3FC;\n",
              "  }\n",
              "\n",
              "  [theme=dark] .colab-df-quickchart:hover {\n",
              "    background-color: #434B5C;\n",
              "    box-shadow: 0px 1px 3px 1px rgba(0, 0, 0, 0.15);\n",
              "    filter: drop-shadow(0px 1px 2px rgba(0, 0, 0, 0.3));\n",
              "    fill: #FFFFFF;\n",
              "  }\n",
              "</style>\n",
              "\n",
              "    <script>\n",
              "      async function quickchart(key) {\n",
              "        const containerElement = document.querySelector('#' + key);\n",
              "        const charts = await google.colab.kernel.invokeFunction(\n",
              "            'suggestCharts', [key], {});\n",
              "      }\n",
              "    </script>\n",
              "\n",
              "      <script>\n",
              "\n",
              "function displayQuickchartButton(domScope) {\n",
              "  let quickchartButtonEl =\n",
              "    domScope.querySelector('#df-5f6f58c0-5d51-49ec-8723-340f3496ca03 button.colab-df-quickchart');\n",
              "  quickchartButtonEl.style.display =\n",
              "    google.colab.kernel.accessAllowed ? 'block' : 'none';\n",
              "}\n",
              "\n",
              "        displayQuickchartButton(document);\n",
              "      </script>\n",
              "      <style>\n",
              "    .colab-df-container {\n",
              "      display:flex;\n",
              "      flex-wrap:wrap;\n",
              "      gap: 12px;\n",
              "    }\n",
              "\n",
              "    .colab-df-convert {\n",
              "      background-color: #E8F0FE;\n",
              "      border: none;\n",
              "      border-radius: 50%;\n",
              "      cursor: pointer;\n",
              "      display: none;\n",
              "      fill: #1967D2;\n",
              "      height: 32px;\n",
              "      padding: 0 0 0 0;\n",
              "      width: 32px;\n",
              "    }\n",
              "\n",
              "    .colab-df-convert:hover {\n",
              "      background-color: #E2EBFA;\n",
              "      box-shadow: 0px 1px 2px rgba(60, 64, 67, 0.3), 0px 1px 3px 1px rgba(60, 64, 67, 0.15);\n",
              "      fill: #174EA6;\n",
              "    }\n",
              "\n",
              "    [theme=dark] .colab-df-convert {\n",
              "      background-color: #3B4455;\n",
              "      fill: #D2E3FC;\n",
              "    }\n",
              "\n",
              "    [theme=dark] .colab-df-convert:hover {\n",
              "      background-color: #434B5C;\n",
              "      box-shadow: 0px 1px 3px 1px rgba(0, 0, 0, 0.15);\n",
              "      filter: drop-shadow(0px 1px 2px rgba(0, 0, 0, 0.3));\n",
              "      fill: #FFFFFF;\n",
              "    }\n",
              "  </style>\n",
              "\n",
              "      <script>\n",
              "        const buttonEl =\n",
              "          document.querySelector('#df-628d159d-c2b0-4611-8c33-cc3dae7da9d4 button.colab-df-convert');\n",
              "        buttonEl.style.display =\n",
              "          google.colab.kernel.accessAllowed ? 'block' : 'none';\n",
              "\n",
              "        async function convertToInteractive(key) {\n",
              "          const element = document.querySelector('#df-628d159d-c2b0-4611-8c33-cc3dae7da9d4');\n",
              "          const dataTable =\n",
              "            await google.colab.kernel.invokeFunction('convertToInteractive',\n",
              "                                                     [key], {});\n",
              "          if (!dataTable) return;\n",
              "\n",
              "          const docLinkHtml = 'Like what you see? Visit the ' +\n",
              "            '<a target=\"_blank\" href=https://colab.research.google.com/notebooks/data_table.ipynb>data table notebook</a>'\n",
              "            + ' to learn more about interactive tables.';\n",
              "          element.innerHTML = '';\n",
              "          dataTable['output_type'] = 'display_data';\n",
              "          await google.colab.output.renderOutput(dataTable, element);\n",
              "          const docLink = document.createElement('div');\n",
              "          docLink.innerHTML = docLinkHtml;\n",
              "          element.appendChild(docLink);\n",
              "        }\n",
              "      </script>\n",
              "    </div>\n",
              "  </div>\n"
            ],
            "text/plain": [
              "                       name platform year_of_release         genre na_sales  \\\n",
              "0                Wii Sports      Wii          2006.0        Sports    41.36   \n",
              "1         Super Mario Bros.      NES          1985.0      Platform    29.08   \n",
              "2            Mario Kart Wii      Wii          2008.0        Racing    15.68   \n",
              "3         Wii Sports Resort      Wii          2009.0        Sports    15.61   \n",
              "4  Pokemon Red/Pokemon Blue       GB          1996.0  Role-Playing    11.27   \n",
              "\n",
              "   eu_sales  jp_sales  other_sales  critic_score user_score rating  \n",
              "0     28.96      3.77         8.45          76.0          8     E;  \n",
              "1      3.58      6.81         0.77           NaN        NaN      ;  \n",
              "2     12.76      3.79         3.29          82.0        8.3     E;  \n",
              "3     10.93      3.28         2.95          80.0          8     E;  \n",
              "4      8.89     10.22         1.00           NaN        NaN      ;  "
            ]
          },
          "execution_count": 18,
          "metadata": {},
          "output_type": "execute_result"
        }
      ],
      "source": [
        "df.head()"
      ]
    },
    {
      "cell_type": "code",
      "execution_count": null,
      "metadata": {
        "colab": {
          "base_uri": "https://localhost:8080/",
          "height": 206
        },
        "id": "RKG2lOaUzHId",
        "outputId": "5acefca9-7174-460e-c472-b7ebf5adafee"
      },
      "outputs": [
        {
          "data": {
            "text/html": [
              "\n",
              "\n",
              "  <div id=\"df-180fdfa7-ab73-40e3-ad99-f4d2576b2f0f\">\n",
              "    <div class=\"colab-df-container\">\n",
              "      <div>\n",
              "<style scoped>\n",
              "    .dataframe tbody tr th:only-of-type {\n",
              "        vertical-align: middle;\n",
              "    }\n",
              "\n",
              "    .dataframe tbody tr th {\n",
              "        vertical-align: top;\n",
              "    }\n",
              "\n",
              "    .dataframe thead th {\n",
              "        text-align: right;\n",
              "    }\n",
              "</style>\n",
              "<table border=\"1\" class=\"dataframe\">\n",
              "  <thead>\n",
              "    <tr style=\"text-align: right;\">\n",
              "      <th></th>\n",
              "      <th>name</th>\n",
              "      <th>platform</th>\n",
              "      <th>year_of_release</th>\n",
              "      <th>genre</th>\n",
              "      <th>na_sales</th>\n",
              "      <th>eu_sales</th>\n",
              "      <th>jp_sales</th>\n",
              "      <th>other_sales</th>\n",
              "      <th>critic_score</th>\n",
              "      <th>user_score</th>\n",
              "      <th>rating</th>\n",
              "    </tr>\n",
              "  </thead>\n",
              "  <tbody>\n",
              "    <tr>\n",
              "      <th>18017</th>\n",
              "      <td>Winning Post 8 2016</td>\n",
              "      <td>PSV</td>\n",
              "      <td>2016.0</td>\n",
              "      <td>Simulation</td>\n",
              "      <td>0.0</td>\n",
              "      <td>0.0</td>\n",
              "      <td>0.01</td>\n",
              "      <td>0.0</td>\n",
              "      <td>NaN</td>\n",
              "      <td>NaN</td>\n",
              "      <td>;</td>\n",
              "    </tr>\n",
              "    <tr>\n",
              "      <th>18012</th>\n",
              "      <td>SCORE International Baja 1000: The Official Game</td>\n",
              "      <td>PS2</td>\n",
              "      <td>2008.0</td>\n",
              "      <td>Racing</td>\n",
              "      <td>0.0</td>\n",
              "      <td>0.0</td>\n",
              "      <td>0.00</td>\n",
              "      <td>0.0</td>\n",
              "      <td>NaN</td>\n",
              "      <td>NaN</td>\n",
              "      <td>;</td>\n",
              "    </tr>\n",
              "    <tr>\n",
              "      <th>18007</th>\n",
              "      <td>Plushees</td>\n",
              "      <td>DS</td>\n",
              "      <td>2008.0</td>\n",
              "      <td>Simulation</td>\n",
              "      <td>0.01</td>\n",
              "      <td>0.0</td>\n",
              "      <td>0.00</td>\n",
              "      <td>0.0</td>\n",
              "      <td>NaN</td>\n",
              "      <td>tbd</td>\n",
              "      <td>E;</td>\n",
              "    </tr>\n",
              "    <tr>\n",
              "      <th>18002</th>\n",
              "      <td>The Longest 5 Minutes</td>\n",
              "      <td>PSV</td>\n",
              "      <td>2016.0</td>\n",
              "      <td>Action</td>\n",
              "      <td>0.0</td>\n",
              "      <td>0.0</td>\n",
              "      <td>0.01</td>\n",
              "      <td>0.0</td>\n",
              "      <td>NaN</td>\n",
              "      <td>NaN</td>\n",
              "      <td>;</td>\n",
              "    </tr>\n",
              "    <tr>\n",
              "      <th>17997</th>\n",
              "      <td>Carmageddon 64</td>\n",
              "      <td>N64</td>\n",
              "      <td>1999.0</td>\n",
              "      <td>Action</td>\n",
              "      <td>0.01</td>\n",
              "      <td>0.0</td>\n",
              "      <td>0.00</td>\n",
              "      <td>0.0</td>\n",
              "      <td>NaN</td>\n",
              "      <td>NaN</td>\n",
              "      <td>;</td>\n",
              "    </tr>\n",
              "  </tbody>\n",
              "</table>\n",
              "</div>\n",
              "      <button class=\"colab-df-convert\" onclick=\"convertToInteractive('df-180fdfa7-ab73-40e3-ad99-f4d2576b2f0f')\"\n",
              "              title=\"Convert this dataframe to an interactive table.\"\n",
              "              style=\"display:none;\">\n",
              "\n",
              "  <svg xmlns=\"http://www.w3.org/2000/svg\" height=\"24px\"viewBox=\"0 0 24 24\"\n",
              "       width=\"24px\">\n",
              "    <path d=\"M0 0h24v24H0V0z\" fill=\"none\"/>\n",
              "    <path d=\"M18.56 5.44l.94 2.06.94-2.06 2.06-.94-2.06-.94-.94-2.06-.94 2.06-2.06.94zm-11 1L8.5 8.5l.94-2.06 2.06-.94-2.06-.94L8.5 2.5l-.94 2.06-2.06.94zm10 10l.94 2.06.94-2.06 2.06-.94-2.06-.94-.94-2.06-.94 2.06-2.06.94z\"/><path d=\"M17.41 7.96l-1.37-1.37c-.4-.4-.92-.59-1.43-.59-.52 0-1.04.2-1.43.59L10.3 9.45l-7.72 7.72c-.78.78-.78 2.05 0 2.83L4 21.41c.39.39.9.59 1.41.59.51 0 1.02-.2 1.41-.59l7.78-7.78 2.81-2.81c.8-.78.8-2.07 0-2.86zM5.41 20L4 18.59l7.72-7.72 1.47 1.35L5.41 20z\"/>\n",
              "  </svg>\n",
              "      </button>\n",
              "\n",
              "\n",
              "\n",
              "    <div id=\"df-eae0f300-46ab-476f-a2ef-61a804897804\">\n",
              "      <button class=\"colab-df-quickchart\" onclick=\"quickchart('df-eae0f300-46ab-476f-a2ef-61a804897804')\"\n",
              "              title=\"Suggest charts.\"\n",
              "              style=\"display:none;\">\n",
              "\n",
              "<svg xmlns=\"http://www.w3.org/2000/svg\" height=\"24px\"viewBox=\"0 0 24 24\"\n",
              "     width=\"24px\">\n",
              "    <g>\n",
              "        <path d=\"M19 3H5c-1.1 0-2 .9-2 2v14c0 1.1.9 2 2 2h14c1.1 0 2-.9 2-2V5c0-1.1-.9-2-2-2zM9 17H7v-7h2v7zm4 0h-2V7h2v10zm4 0h-2v-4h2v4z\"/>\n",
              "    </g>\n",
              "</svg>\n",
              "      </button>\n",
              "    </div>\n",
              "\n",
              "<style>\n",
              "  .colab-df-quickchart {\n",
              "    background-color: #E8F0FE;\n",
              "    border: none;\n",
              "    border-radius: 50%;\n",
              "    cursor: pointer;\n",
              "    display: none;\n",
              "    fill: #1967D2;\n",
              "    height: 32px;\n",
              "    padding: 0 0 0 0;\n",
              "    width: 32px;\n",
              "  }\n",
              "\n",
              "  .colab-df-quickchart:hover {\n",
              "    background-color: #E2EBFA;\n",
              "    box-shadow: 0px 1px 2px rgba(60, 64, 67, 0.3), 0px 1px 3px 1px rgba(60, 64, 67, 0.15);\n",
              "    fill: #174EA6;\n",
              "  }\n",
              "\n",
              "  [theme=dark] .colab-df-quickchart {\n",
              "    background-color: #3B4455;\n",
              "    fill: #D2E3FC;\n",
              "  }\n",
              "\n",
              "  [theme=dark] .colab-df-quickchart:hover {\n",
              "    background-color: #434B5C;\n",
              "    box-shadow: 0px 1px 3px 1px rgba(0, 0, 0, 0.15);\n",
              "    filter: drop-shadow(0px 1px 2px rgba(0, 0, 0, 0.3));\n",
              "    fill: #FFFFFF;\n",
              "  }\n",
              "</style>\n",
              "\n",
              "    <script>\n",
              "      async function quickchart(key) {\n",
              "        const containerElement = document.querySelector('#' + key);\n",
              "        const charts = await google.colab.kernel.invokeFunction(\n",
              "            'suggestCharts', [key], {});\n",
              "      }\n",
              "    </script>\n",
              "\n",
              "      <script>\n",
              "\n",
              "function displayQuickchartButton(domScope) {\n",
              "  let quickchartButtonEl =\n",
              "    domScope.querySelector('#df-eae0f300-46ab-476f-a2ef-61a804897804 button.colab-df-quickchart');\n",
              "  quickchartButtonEl.style.display =\n",
              "    google.colab.kernel.accessAllowed ? 'block' : 'none';\n",
              "}\n",
              "\n",
              "        displayQuickchartButton(document);\n",
              "      </script>\n",
              "      <style>\n",
              "    .colab-df-container {\n",
              "      display:flex;\n",
              "      flex-wrap:wrap;\n",
              "      gap: 12px;\n",
              "    }\n",
              "\n",
              "    .colab-df-convert {\n",
              "      background-color: #E8F0FE;\n",
              "      border: none;\n",
              "      border-radius: 50%;\n",
              "      cursor: pointer;\n",
              "      display: none;\n",
              "      fill: #1967D2;\n",
              "      height: 32px;\n",
              "      padding: 0 0 0 0;\n",
              "      width: 32px;\n",
              "    }\n",
              "\n",
              "    .colab-df-convert:hover {\n",
              "      background-color: #E2EBFA;\n",
              "      box-shadow: 0px 1px 2px rgba(60, 64, 67, 0.3), 0px 1px 3px 1px rgba(60, 64, 67, 0.15);\n",
              "      fill: #174EA6;\n",
              "    }\n",
              "\n",
              "    [theme=dark] .colab-df-convert {\n",
              "      background-color: #3B4455;\n",
              "      fill: #D2E3FC;\n",
              "    }\n",
              "\n",
              "    [theme=dark] .colab-df-convert:hover {\n",
              "      background-color: #434B5C;\n",
              "      box-shadow: 0px 1px 3px 1px rgba(0, 0, 0, 0.15);\n",
              "      filter: drop-shadow(0px 1px 2px rgba(0, 0, 0, 0.3));\n",
              "      fill: #FFFFFF;\n",
              "    }\n",
              "  </style>\n",
              "\n",
              "      <script>\n",
              "        const buttonEl =\n",
              "          document.querySelector('#df-180fdfa7-ab73-40e3-ad99-f4d2576b2f0f button.colab-df-convert');\n",
              "        buttonEl.style.display =\n",
              "          google.colab.kernel.accessAllowed ? 'block' : 'none';\n",
              "\n",
              "        async function convertToInteractive(key) {\n",
              "          const element = document.querySelector('#df-180fdfa7-ab73-40e3-ad99-f4d2576b2f0f');\n",
              "          const dataTable =\n",
              "            await google.colab.kernel.invokeFunction('convertToInteractive',\n",
              "                                                     [key], {});\n",
              "          if (!dataTable) return;\n",
              "\n",
              "          const docLinkHtml = 'Like what you see? Visit the ' +\n",
              "            '<a target=\"_blank\" href=https://colab.research.google.com/notebooks/data_table.ipynb>data table notebook</a>'\n",
              "            + ' to learn more about interactive tables.';\n",
              "          element.innerHTML = '';\n",
              "          dataTable['output_type'] = 'display_data';\n",
              "          await google.colab.output.renderOutput(dataTable, element);\n",
              "          const docLink = document.createElement('div');\n",
              "          docLink.innerHTML = docLinkHtml;\n",
              "          element.appendChild(docLink);\n",
              "        }\n",
              "      </script>\n",
              "    </div>\n",
              "  </div>\n"
            ],
            "text/plain": [
              "                                                   name platform  \\\n",
              "18017                               Winning Post 8 2016      PSV   \n",
              "18012  SCORE International Baja 1000: The Official Game      PS2   \n",
              "18007                                          Plushees       DS   \n",
              "18002                             The Longest 5 Minutes      PSV   \n",
              "17997                                    Carmageddon 64      N64   \n",
              "\n",
              "      year_of_release       genre na_sales  eu_sales  jp_sales  other_sales  \\\n",
              "18017          2016.0  Simulation      0.0       0.0      0.01          0.0   \n",
              "18012          2008.0      Racing      0.0       0.0      0.00          0.0   \n",
              "18007          2008.0  Simulation     0.01       0.0      0.00          0.0   \n",
              "18002          2016.0      Action      0.0       0.0      0.01          0.0   \n",
              "17997          1999.0      Action     0.01       0.0      0.00          0.0   \n",
              "\n",
              "       critic_score user_score rating  \n",
              "18017           NaN        NaN      ;  \n",
              "18012           NaN        NaN      ;  \n",
              "18007           NaN        tbd     E;  \n",
              "18002           NaN        NaN      ;  \n",
              "17997           NaN        NaN      ;  "
            ]
          },
          "execution_count": 19,
          "metadata": {},
          "output_type": "execute_result"
        }
      ],
      "source": [
        "df[::-5].head()"
      ]
    },
    {
      "cell_type": "code",
      "execution_count": null,
      "metadata": {
        "id": "iMmck-37zHId"
      },
      "outputs": [],
      "source": [
        "# Определяем функцию, которая проверяет, является ли значение числовым\n",
        "def is_numeric(x):\n",
        "    try:\n",
        "        float(x)\n",
        "        return True\n",
        "    except ValueError:\n",
        "        return False\n",
        "# Заменяем числовые строки на NaN в строковых столбцах:\n",
        "df['name'] = df['name'].mask(df['name'].apply(is_numeric), other=pd.NA).astype(str)\n",
        "df['platform'] = df['platform'].mask(df['platform'].apply(is_numeric), other=pd.NA).astype(str)\n",
        "df['genre'] = df['genre'].mask(df['genre'].apply(is_numeric), other=pd.NA).astype(str)"
      ]
    },
    {
      "cell_type": "code",
      "execution_count": null,
      "metadata": {
        "id": "HcJ0bTUPzHId"
      },
      "outputs": [],
      "source": [
        "df['year_of_release'] = pd.to_numeric(df['year_of_release'], errors='coerce').fillna(0).astype(int)\n",
        "df['na_sales'] = pd.to_numeric(df['na_sales'], errors='coerce').astype(float)\n",
        "df['eu_sales'] = df['eu_sales'].fillna(0).astype(float)\n",
        "df['user_score'] = pd.to_numeric(df['user_score'], errors='coerce').astype(float)"
      ]
    },
    {
      "cell_type": "code",
      "execution_count": null,
      "metadata": {
        "id": "FVydYd9tzHId"
      },
      "outputs": [],
      "source": [
        "df['jp_sales'] = pd.to_numeric(df['jp_sales'], errors='coerce').astype(float)\n",
        "df['other_sales'] = pd.to_numeric(df['other_sales'], errors='coerce').astype(float)\n",
        "df['critic_score'] = pd.to_numeric(df['critic_score'], errors='coerce').astype(float)\n",
        "df['rating'] = df['rating'].str.replace(';', '').replace('', None)"
      ]
    },
    {
      "cell_type": "code",
      "execution_count": null,
      "metadata": {
        "colab": {
          "base_uri": "https://localhost:8080/"
        },
        "id": "db99c33HzHId",
        "outputId": "69d8bf3a-b6f2-4b27-929d-958546e0214c"
      },
      "outputs": [
        {
          "name": "stdout",
          "output_type": "stream",
          "text": [
            "<class 'pandas.core.frame.DataFrame'>\n",
            "RangeIndex: 18018 entries, 0 to 18017\n",
            "Data columns (total 11 columns):\n",
            " #   Column           Non-Null Count  Dtype  \n",
            "---  ------           --------------  -----  \n",
            " 0   name             18018 non-null  object \n",
            " 1   platform         18018 non-null  object \n",
            " 2   year_of_release  18018 non-null  int64  \n",
            " 3   genre            18018 non-null  object \n",
            " 4   na_sales         18017 non-null  float64\n",
            " 5   eu_sales         18018 non-null  float64\n",
            " 6   jp_sales         18018 non-null  float64\n",
            " 7   other_sales      18018 non-null  float64\n",
            " 8   critic_score     8181 non-null   float64\n",
            " 9   user_score       7635 non-null   float64\n",
            " 10  rating           9987 non-null   object \n",
            "dtypes: float64(6), int64(1), object(4)\n",
            "memory usage: 1.5+ MB\n"
          ]
        }
      ],
      "source": [
        "df.info()"
      ]
    },
    {
      "cell_type": "markdown",
      "metadata": {
        "id": "uUjivOD0zHId"
      },
      "source": [
        "####        1.2 Анализ дублей."
      ]
    },
    {
      "cell_type": "code",
      "execution_count": null,
      "metadata": {
        "colab": {
          "base_uri": "https://localhost:8080/"
        },
        "id": "1hSOGyQfzHId",
        "outputId": "4508df90-17cc-4454-bbb3-2ade847dc64b"
      },
      "outputs": [
        {
          "data": {
            "text/plain": [
              "6536"
            ]
          },
          "execution_count": 24,
          "metadata": {},
          "output_type": "execute_result"
        }
      ],
      "source": [
        "#Смотрим кол-во повторяющихся заголовков.\n",
        "df.shape[0] - df['name'].nunique()"
      ]
    },
    {
      "cell_type": "code",
      "execution_count": null,
      "metadata": {
        "colab": {
          "base_uri": "https://localhost:8080/",
          "height": 424
        },
        "id": "tXABtUv2zHId",
        "outputId": "2d8847d8-939a-4e68-fc9d-4e0b8b5141c7"
      },
      "outputs": [
        {
          "data": {
            "text/html": [
              "\n",
              "\n",
              "  <div id=\"df-a51885a1-3919-4419-9fbe-46d7f3c2d046\">\n",
              "    <div class=\"colab-df-container\">\n",
              "      <div>\n",
              "<style scoped>\n",
              "    .dataframe tbody tr th:only-of-type {\n",
              "        vertical-align: middle;\n",
              "    }\n",
              "\n",
              "    .dataframe tbody tr th {\n",
              "        vertical-align: top;\n",
              "    }\n",
              "\n",
              "    .dataframe thead th {\n",
              "        text-align: right;\n",
              "    }\n",
              "</style>\n",
              "<table border=\"1\" class=\"dataframe\">\n",
              "  <thead>\n",
              "    <tr style=\"text-align: right;\">\n",
              "      <th></th>\n",
              "      <th>name</th>\n",
              "      <th>platform</th>\n",
              "      <th>year_of_release</th>\n",
              "      <th>genre</th>\n",
              "      <th>na_sales</th>\n",
              "      <th>eu_sales</th>\n",
              "      <th>jp_sales</th>\n",
              "      <th>other_sales</th>\n",
              "      <th>critic_score</th>\n",
              "      <th>user_score</th>\n",
              "      <th>rating</th>\n",
              "    </tr>\n",
              "  </thead>\n",
              "  <tbody>\n",
              "    <tr>\n",
              "      <th>11481</th>\n",
              "      <td>¡Shin Chan Flipa en colores!</td>\n",
              "      <td>1</td>\n",
              "      <td>1</td>\n",
              "      <td>1</td>\n",
              "      <td>1</td>\n",
              "      <td>1</td>\n",
              "      <td>1</td>\n",
              "      <td>1</td>\n",
              "      <td>0</td>\n",
              "      <td>0</td>\n",
              "      <td>0</td>\n",
              "    </tr>\n",
              "    <tr>\n",
              "      <th>11480</th>\n",
              "      <td>wwe Smackdown vs. Raw 2006</td>\n",
              "      <td>1</td>\n",
              "      <td>1</td>\n",
              "      <td>1</td>\n",
              "      <td>1</td>\n",
              "      <td>1</td>\n",
              "      <td>1</td>\n",
              "      <td>1</td>\n",
              "      <td>0</td>\n",
              "      <td>0</td>\n",
              "      <td>0</td>\n",
              "    </tr>\n",
              "    <tr>\n",
              "      <th>11479</th>\n",
              "      <td>uDraw Studio: Instant Artist</td>\n",
              "      <td>2</td>\n",
              "      <td>2</td>\n",
              "      <td>2</td>\n",
              "      <td>2</td>\n",
              "      <td>2</td>\n",
              "      <td>2</td>\n",
              "      <td>2</td>\n",
              "      <td>1</td>\n",
              "      <td>1</td>\n",
              "      <td>2</td>\n",
              "    </tr>\n",
              "    <tr>\n",
              "      <th>11478</th>\n",
              "      <td>uDraw Studio</td>\n",
              "      <td>1</td>\n",
              "      <td>1</td>\n",
              "      <td>1</td>\n",
              "      <td>1</td>\n",
              "      <td>1</td>\n",
              "      <td>1</td>\n",
              "      <td>1</td>\n",
              "      <td>1</td>\n",
              "      <td>0</td>\n",
              "      <td>1</td>\n",
              "    </tr>\n",
              "    <tr>\n",
              "      <th>11477</th>\n",
              "      <td>thinkSMART: Chess for Kids</td>\n",
              "      <td>1</td>\n",
              "      <td>1</td>\n",
              "      <td>1</td>\n",
              "      <td>1</td>\n",
              "      <td>1</td>\n",
              "      <td>1</td>\n",
              "      <td>1</td>\n",
              "      <td>0</td>\n",
              "      <td>0</td>\n",
              "      <td>1</td>\n",
              "    </tr>\n",
              "    <tr>\n",
              "      <th>...</th>\n",
              "      <td>...</td>\n",
              "      <td>...</td>\n",
              "      <td>...</td>\n",
              "      <td>...</td>\n",
              "      <td>...</td>\n",
              "      <td>...</td>\n",
              "      <td>...</td>\n",
              "      <td>...</td>\n",
              "      <td>...</td>\n",
              "      <td>...</td>\n",
              "      <td>...</td>\n",
              "    </tr>\n",
              "    <tr>\n",
              "      <th>4</th>\n",
              "      <td>Tales of Xillia 2</td>\n",
              "      <td>1</td>\n",
              "      <td>1</td>\n",
              "      <td>1</td>\n",
              "      <td>1</td>\n",
              "      <td>1</td>\n",
              "      <td>1</td>\n",
              "      <td>1</td>\n",
              "      <td>1</td>\n",
              "      <td>1</td>\n",
              "      <td>1</td>\n",
              "    </tr>\n",
              "    <tr>\n",
              "      <th>3</th>\n",
              "      <td>Haikyu!! Cross Team Match!</td>\n",
              "      <td>1</td>\n",
              "      <td>1</td>\n",
              "      <td>1</td>\n",
              "      <td>1</td>\n",
              "      <td>1</td>\n",
              "      <td>1</td>\n",
              "      <td>1</td>\n",
              "      <td>0</td>\n",
              "      <td>0</td>\n",
              "      <td>0</td>\n",
              "    </tr>\n",
              "    <tr>\n",
              "      <th>2</th>\n",
              "      <td>Frozen: Olaf's Quest</td>\n",
              "      <td>2</td>\n",
              "      <td>2</td>\n",
              "      <td>2</td>\n",
              "      <td>2</td>\n",
              "      <td>2</td>\n",
              "      <td>2</td>\n",
              "      <td>2</td>\n",
              "      <td>0</td>\n",
              "      <td>0</td>\n",
              "      <td>0</td>\n",
              "    </tr>\n",
              "    <tr>\n",
              "      <th>1</th>\n",
              "      <td>Fire Emblem Fates</td>\n",
              "      <td>1</td>\n",
              "      <td>1</td>\n",
              "      <td>1</td>\n",
              "      <td>1</td>\n",
              "      <td>1</td>\n",
              "      <td>1</td>\n",
              "      <td>1</td>\n",
              "      <td>0</td>\n",
              "      <td>0</td>\n",
              "      <td>0</td>\n",
              "    </tr>\n",
              "    <tr>\n",
              "      <th>0</th>\n",
              "      <td>Beyblade Burst</td>\n",
              "      <td>1</td>\n",
              "      <td>1</td>\n",
              "      <td>1</td>\n",
              "      <td>1</td>\n",
              "      <td>1</td>\n",
              "      <td>1</td>\n",
              "      <td>1</td>\n",
              "      <td>0</td>\n",
              "      <td>0</td>\n",
              "      <td>0</td>\n",
              "    </tr>\n",
              "  </tbody>\n",
              "</table>\n",
              "<p>11482 rows × 11 columns</p>\n",
              "</div>\n",
              "      <button class=\"colab-df-convert\" onclick=\"convertToInteractive('df-a51885a1-3919-4419-9fbe-46d7f3c2d046')\"\n",
              "              title=\"Convert this dataframe to an interactive table.\"\n",
              "              style=\"display:none;\">\n",
              "\n",
              "  <svg xmlns=\"http://www.w3.org/2000/svg\" height=\"24px\"viewBox=\"0 0 24 24\"\n",
              "       width=\"24px\">\n",
              "    <path d=\"M0 0h24v24H0V0z\" fill=\"none\"/>\n",
              "    <path d=\"M18.56 5.44l.94 2.06.94-2.06 2.06-.94-2.06-.94-.94-2.06-.94 2.06-2.06.94zm-11 1L8.5 8.5l.94-2.06 2.06-.94-2.06-.94L8.5 2.5l-.94 2.06-2.06.94zm10 10l.94 2.06.94-2.06 2.06-.94-2.06-.94-.94-2.06-.94 2.06-2.06.94z\"/><path d=\"M17.41 7.96l-1.37-1.37c-.4-.4-.92-.59-1.43-.59-.52 0-1.04.2-1.43.59L10.3 9.45l-7.72 7.72c-.78.78-.78 2.05 0 2.83L4 21.41c.39.39.9.59 1.41.59.51 0 1.02-.2 1.41-.59l7.78-7.78 2.81-2.81c.8-.78.8-2.07 0-2.86zM5.41 20L4 18.59l7.72-7.72 1.47 1.35L5.41 20z\"/>\n",
              "  </svg>\n",
              "      </button>\n",
              "\n",
              "\n",
              "\n",
              "    <div id=\"df-36e38913-703d-4bc9-9d81-3142a9616164\">\n",
              "      <button class=\"colab-df-quickchart\" onclick=\"quickchart('df-36e38913-703d-4bc9-9d81-3142a9616164')\"\n",
              "              title=\"Suggest charts.\"\n",
              "              style=\"display:none;\">\n",
              "\n",
              "<svg xmlns=\"http://www.w3.org/2000/svg\" height=\"24px\"viewBox=\"0 0 24 24\"\n",
              "     width=\"24px\">\n",
              "    <g>\n",
              "        <path d=\"M19 3H5c-1.1 0-2 .9-2 2v14c0 1.1.9 2 2 2h14c1.1 0 2-.9 2-2V5c0-1.1-.9-2-2-2zM9 17H7v-7h2v7zm4 0h-2V7h2v10zm4 0h-2v-4h2v4z\"/>\n",
              "    </g>\n",
              "</svg>\n",
              "      </button>\n",
              "    </div>\n",
              "\n",
              "<style>\n",
              "  .colab-df-quickchart {\n",
              "    background-color: #E8F0FE;\n",
              "    border: none;\n",
              "    border-radius: 50%;\n",
              "    cursor: pointer;\n",
              "    display: none;\n",
              "    fill: #1967D2;\n",
              "    height: 32px;\n",
              "    padding: 0 0 0 0;\n",
              "    width: 32px;\n",
              "  }\n",
              "\n",
              "  .colab-df-quickchart:hover {\n",
              "    background-color: #E2EBFA;\n",
              "    box-shadow: 0px 1px 2px rgba(60, 64, 67, 0.3), 0px 1px 3px 1px rgba(60, 64, 67, 0.15);\n",
              "    fill: #174EA6;\n",
              "  }\n",
              "\n",
              "  [theme=dark] .colab-df-quickchart {\n",
              "    background-color: #3B4455;\n",
              "    fill: #D2E3FC;\n",
              "  }\n",
              "\n",
              "  [theme=dark] .colab-df-quickchart:hover {\n",
              "    background-color: #434B5C;\n",
              "    box-shadow: 0px 1px 3px 1px rgba(0, 0, 0, 0.15);\n",
              "    filter: drop-shadow(0px 1px 2px rgba(0, 0, 0, 0.3));\n",
              "    fill: #FFFFFF;\n",
              "  }\n",
              "</style>\n",
              "\n",
              "    <script>\n",
              "      async function quickchart(key) {\n",
              "        const containerElement = document.querySelector('#' + key);\n",
              "        const charts = await google.colab.kernel.invokeFunction(\n",
              "            'suggestCharts', [key], {});\n",
              "      }\n",
              "    </script>\n",
              "\n",
              "      <script>\n",
              "\n",
              "function displayQuickchartButton(domScope) {\n",
              "  let quickchartButtonEl =\n",
              "    domScope.querySelector('#df-36e38913-703d-4bc9-9d81-3142a9616164 button.colab-df-quickchart');\n",
              "  quickchartButtonEl.style.display =\n",
              "    google.colab.kernel.accessAllowed ? 'block' : 'none';\n",
              "}\n",
              "\n",
              "        displayQuickchartButton(document);\n",
              "      </script>\n",
              "      <style>\n",
              "    .colab-df-container {\n",
              "      display:flex;\n",
              "      flex-wrap:wrap;\n",
              "      gap: 12px;\n",
              "    }\n",
              "\n",
              "    .colab-df-convert {\n",
              "      background-color: #E8F0FE;\n",
              "      border: none;\n",
              "      border-radius: 50%;\n",
              "      cursor: pointer;\n",
              "      display: none;\n",
              "      fill: #1967D2;\n",
              "      height: 32px;\n",
              "      padding: 0 0 0 0;\n",
              "      width: 32px;\n",
              "    }\n",
              "\n",
              "    .colab-df-convert:hover {\n",
              "      background-color: #E2EBFA;\n",
              "      box-shadow: 0px 1px 2px rgba(60, 64, 67, 0.3), 0px 1px 3px 1px rgba(60, 64, 67, 0.15);\n",
              "      fill: #174EA6;\n",
              "    }\n",
              "\n",
              "    [theme=dark] .colab-df-convert {\n",
              "      background-color: #3B4455;\n",
              "      fill: #D2E3FC;\n",
              "    }\n",
              "\n",
              "    [theme=dark] .colab-df-convert:hover {\n",
              "      background-color: #434B5C;\n",
              "      box-shadow: 0px 1px 3px 1px rgba(0, 0, 0, 0.15);\n",
              "      filter: drop-shadow(0px 1px 2px rgba(0, 0, 0, 0.3));\n",
              "      fill: #FFFFFF;\n",
              "    }\n",
              "  </style>\n",
              "\n",
              "      <script>\n",
              "        const buttonEl =\n",
              "          document.querySelector('#df-a51885a1-3919-4419-9fbe-46d7f3c2d046 button.colab-df-convert');\n",
              "        buttonEl.style.display =\n",
              "          google.colab.kernel.accessAllowed ? 'block' : 'none';\n",
              "\n",
              "        async function convertToInteractive(key) {\n",
              "          const element = document.querySelector('#df-a51885a1-3919-4419-9fbe-46d7f3c2d046');\n",
              "          const dataTable =\n",
              "            await google.colab.kernel.invokeFunction('convertToInteractive',\n",
              "                                                     [key], {});\n",
              "          if (!dataTable) return;\n",
              "\n",
              "          const docLinkHtml = 'Like what you see? Visit the ' +\n",
              "            '<a target=\"_blank\" href=https://colab.research.google.com/notebooks/data_table.ipynb>data table notebook</a>'\n",
              "            + ' to learn more about interactive tables.';\n",
              "          element.innerHTML = '';\n",
              "          dataTable['output_type'] = 'display_data';\n",
              "          await google.colab.output.renderOutput(dataTable, element);\n",
              "          const docLink = document.createElement('div');\n",
              "          docLink.innerHTML = docLinkHtml;\n",
              "          element.appendChild(docLink);\n",
              "        }\n",
              "      </script>\n",
              "    </div>\n",
              "  </div>\n"
            ],
            "text/plain": [
              "                               name  platform  year_of_release  genre  \\\n",
              "11481  ¡Shin Chan Flipa en colores!         1                1      1   \n",
              "11480    wwe Smackdown vs. Raw 2006         1                1      1   \n",
              "11479  uDraw Studio: Instant Artist         2                2      2   \n",
              "11478                  uDraw Studio         1                1      1   \n",
              "11477    thinkSMART: Chess for Kids         1                1      1   \n",
              "...                             ...       ...              ...    ...   \n",
              "4                 Tales of Xillia 2         1                1      1   \n",
              "3        Haikyu!! Cross Team Match!         1                1      1   \n",
              "2              Frozen: Olaf's Quest         2                2      2   \n",
              "1                 Fire Emblem Fates         1                1      1   \n",
              "0                    Beyblade Burst         1                1      1   \n",
              "\n",
              "       na_sales  eu_sales  jp_sales  other_sales  critic_score  user_score  \\\n",
              "11481         1         1         1            1             0           0   \n",
              "11480         1         1         1            1             0           0   \n",
              "11479         2         2         2            2             1           1   \n",
              "11478         1         1         1            1             1           0   \n",
              "11477         1         1         1            1             0           0   \n",
              "...         ...       ...       ...          ...           ...         ...   \n",
              "4             1         1         1            1             1           1   \n",
              "3             1         1         1            1             0           0   \n",
              "2             2         2         2            2             0           0   \n",
              "1             1         1         1            1             0           0   \n",
              "0             1         1         1            1             0           0   \n",
              "\n",
              "       rating  \n",
              "11481       0  \n",
              "11480       0  \n",
              "11479       2  \n",
              "11478       1  \n",
              "11477       1  \n",
              "...       ...  \n",
              "4           1  \n",
              "3           0  \n",
              "2           0  \n",
              "1           0  \n",
              "0           0  \n",
              "\n",
              "[11482 rows x 11 columns]"
            ]
          },
          "execution_count": 25,
          "metadata": {},
          "output_type": "execute_result"
        }
      ],
      "source": [
        "# Проверим в каких конкретно столбцах есть дубликаты:\n",
        "df_postal = df.groupby('name', as_index=False).count().sort_values('name', ascending=False)\n",
        "df_postal"
      ]
    },
    {
      "cell_type": "code",
      "execution_count": null,
      "metadata": {
        "id": "0oP6GWHjzHId"
      },
      "outputs": [],
      "source": [
        "# Удалим дубликаты с помощью функции drop_duplicates:\n",
        "df.drop_duplicates(subset=['name'], inplace= True)"
      ]
    },
    {
      "cell_type": "code",
      "execution_count": null,
      "metadata": {
        "colab": {
          "base_uri": "https://localhost:8080/"
        },
        "id": "M0eguH5WzHIe",
        "outputId": "c4690584-6885-4c20-ed73-9d22f8414809"
      },
      "outputs": [
        {
          "data": {
            "text/plain": [
              "0"
            ]
          },
          "execution_count": 27,
          "metadata": {},
          "output_type": "execute_result"
        }
      ],
      "source": [
        "# Проверим дибликаты после удаления:\n",
        "df.shape[0] - df['name'].nunique()"
      ]
    },
    {
      "cell_type": "code",
      "execution_count": null,
      "metadata": {
        "colab": {
          "base_uri": "https://localhost:8080/"
        },
        "id": "Er6W7RhJzHIe",
        "outputId": "a2a4372f-fcc9-4125-9e44-830b57a245df"
      },
      "outputs": [
        {
          "data": {
            "text/plain": [
              "(11482, 11)"
            ]
          },
          "execution_count": 28,
          "metadata": {},
          "output_type": "execute_result"
        }
      ],
      "source": [
        "df.shape"
      ]
    },
    {
      "cell_type": "markdown",
      "metadata": {
        "id": "34NNs2OjzHIe"
      },
      "source": [
        "### Визуализируем данные"
      ]
    },
    {
      "cell_type": "code",
      "execution_count": null,
      "metadata": {
        "colab": {
          "base_uri": "https://localhost:8080/",
          "height": 695
        },
        "id": "ydYC4tEHzHIe",
        "outputId": "fb2ee140-5244-4ccc-bb13-25114f4064d7"
      },
      "outputs": [
        {
          "data": {
            "image/png": "[encoded data removed]",
            "text/plain": [
              "<Figure size 1200x800 with 9 Axes>"
            ]
          },
          "metadata": {},
          "output_type": "display_data"
        }
      ],
      "source": [
        "features = list(set(df.columns) - set(['name', 'platform', 'genre',  'rating']))\n",
        "df[features].hist(figsize=(12,8));"
      ]
    },
    {
      "cell_type": "code",
      "execution_count": null,
      "metadata": {
        "colab": {
          "base_uri": "https://localhost:8080/",
          "height": 466
        },
        "id": "KoOnHAE2zHIe",
        "outputId": "f2cb4cec-3723-491d-80ea-530b5059aca2"
      },
      "outputs": [
        {
          "data": {
            "text/plain": [
              "<Axes: xlabel='critic_score', ylabel='platform'>"
            ]
          },
          "execution_count": 30,
          "metadata": {},
          "output_type": "execute_result"
        },
        {
          "data": {
            "image/png": "[encoded data removed]",
            "text/plain": [
              "<Figure size 640x480 with 1 Axes>"
            ]
          },
          "metadata": {},
          "output_type": "display_data"
        }
      ],
      "source": [
        "top_platforms = df.platform.value_counts().sort_values(ascending = False).head(5).index.values\n",
        "sns.boxplot(y=\"platform\", x=\"critic_score\", data=df[df.platform.isin(top_platforms)], orient=\"h\")"
      ]
    },
    {
      "cell_type": "markdown",
      "metadata": {
        "id": "sxwUX3ggzHIe"
      },
      "source": [
        "#### 1.3 Анализ пропусков"
      ]
    },
    {
      "cell_type": "code",
      "execution_count": null,
      "metadata": {
        "colab": {
          "base_uri": "https://localhost:8080/",
          "height": 570
        },
        "id": "Y0wEK8dNzHIe",
        "outputId": "9225ddec-3d61-473b-dff6-9ac8c93180c8"
      },
      "outputs": [
        {
          "data": {
            "text/plain": [
              "<Axes: >"
            ]
          },
          "execution_count": 31,
          "metadata": {},
          "output_type": "execute_result"
        },
        {
          "data": {
            "image/png": "[encoded data removed]",
            "text/plain": [
              "<Figure size 1000x600 with 2 Axes>"
            ]
          },
          "metadata": {},
          "output_type": "display_data"
        }
      ],
      "source": [
        "#Поиск пропусков с помощью графика\n",
        "plt.figure(figsize=(10,6))\n",
        "sns.heatmap(df.isna().transpose(),\n",
        "           cbar_kws={'label':'Missing Data'})"
      ]
    },
    {
      "cell_type": "code",
      "execution_count": null,
      "metadata": {
        "colab": {
          "base_uri": "https://localhost:8080/"
        },
        "id": "32NCQj1yzHIe",
        "outputId": "1c82d4b0-8252-4d85-eaa3-1f8f10ba8f0f"
      },
      "outputs": [
        {
          "data": {
            "text/plain": [
              "name                  0\n",
              "platform              0\n",
              "year_of_release       0\n",
              "genre                 0\n",
              "na_sales              1\n",
              "eu_sales              0\n",
              "jp_sales              0\n",
              "other_sales           0\n",
              "critic_score       6615\n",
              "user_score         7037\n",
              "rating             5558\n",
              "dtype: int64"
            ]
          },
          "execution_count": 32,
          "metadata": {},
          "output_type": "execute_result"
        }
      ],
      "source": [
        "df.isna().sum()"
      ]
    },
    {
      "cell_type": "code",
      "execution_count": null,
      "metadata": {
        "colab": {
          "base_uri": "https://localhost:8080/"
        },
        "id": "E_GGfVilzHIe",
        "outputId": "13140aaa-c6c5-4a43-ecc4-52c35868f73b"
      },
      "outputs": [
        {
          "name": "stdout",
          "output_type": "stream",
          "text": [
            "Данные [user_score] где есть NA в % = 61.29\n"
          ]
        }
      ],
      "source": [
        "NA_user_score = round(100*df['user_score'].isna().sum()/len(df['user_score']),2)\n",
        "print(f'Данные [user_score] где есть NA в % = {NA_user_score}')"
      ]
    },
    {
      "cell_type": "code",
      "execution_count": null,
      "metadata": {
        "colab": {
          "base_uri": "https://localhost:8080/"
        },
        "id": "TrUw28ECzHIe",
        "outputId": "30a96596-e5ca-4aa6-95d9-83730ed4c8fb"
      },
      "outputs": [
        {
          "name": "stdout",
          "output_type": "stream",
          "text": [
            "Данные [critic_score] где есть NA в % = 57.61\n"
          ]
        }
      ],
      "source": [
        "NA_critic_score = round(100*df['critic_score'].isna().sum()/len(df['critic_score']),2)\n",
        "print(f'Данные [critic_score] где есть NA в % = {NA_critic_score}')"
      ]
    },
    {
      "cell_type": "code",
      "execution_count": null,
      "metadata": {
        "colab": {
          "base_uri": "https://localhost:8080/"
        },
        "id": "nhr7ZfRFzHIf",
        "outputId": "b33fc6de-f378-4cd2-a5d8-6f8bdb89bf40"
      },
      "outputs": [
        {
          "name": "stdout",
          "output_type": "stream",
          "text": [
            "Данные [na_sales] где есть NA в % = 0.01\n"
          ]
        }
      ],
      "source": [
        "NA_na_sales = round(100*df['na_sales'].isna().sum()/len(df['na_sales']),2)\n",
        "print(f'Данные [na_sales] где есть NA в % = {NA_na_sales}')"
      ]
    },
    {
      "cell_type": "code",
      "execution_count": null,
      "metadata": {
        "colab": {
          "base_uri": "https://localhost:8080/"
        },
        "id": "8xMPnQwdzHIf",
        "outputId": "f71b4eb7-14f0-450e-c9ea-5bc71c3ac513"
      },
      "outputs": [
        {
          "name": "stdout",
          "output_type": "stream",
          "text": [
            "Данные [eu_sales] где есть NA в % = 0.0\n"
          ]
        }
      ],
      "source": [
        "NA_eu_sales = round(100*df['eu_sales'].isna().sum()/len(df['eu_sales']),2)\n",
        "print(f'Данные [eu_sales] где есть NA в % = {NA_eu_sales}')"
      ]
    },
    {
      "cell_type": "code",
      "execution_count": null,
      "metadata": {
        "colab": {
          "base_uri": "https://localhost:8080/"
        },
        "id": "o7tKrUH9zHIf",
        "outputId": "e7db2bcc-79f6-40cb-e1ef-3a8a53eef5f6"
      },
      "outputs": [
        {
          "name": "stdout",
          "output_type": "stream",
          "text": [
            "Данные [jp_sales] где есть NA в % = 0.0\n"
          ]
        }
      ],
      "source": [
        "NA_jp_sales = round(100*df['jp_sales'].isna().sum()/len(df['jp_sales']),2)\n",
        "print(f'Данные [jp_sales] где есть NA в % = {NA_jp_sales}')"
      ]
    },
    {
      "cell_type": "code",
      "execution_count": null,
      "metadata": {
        "id": "ulfLem7NzHIf"
      },
      "outputs": [],
      "source": [
        "df['na_sales'].fillna(df['na_sales'].mean(), inplace=True)\n",
        "df['eu_sales'].fillna(df['eu_sales'].mean(), inplace=True)\n",
        "df['jp_sales'].fillna(df['jp_sales'].mean(), inplace=True)\n",
        "df['year_of_release'].fillna(df['year_of_release'].mean(), inplace=True)"
      ]
    },
    {
      "cell_type": "code",
      "execution_count": null,
      "metadata": {
        "colab": {
          "base_uri": "https://localhost:8080/"
        },
        "id": "AKg5iUGxzHIf",
        "outputId": "160dff22-0c47-4705-ed7e-8c86d9559c9a"
      },
      "outputs": [
        {
          "data": {
            "text/plain": [
              "name                  0\n",
              "platform              0\n",
              "year_of_release       0\n",
              "genre                 0\n",
              "na_sales              0\n",
              "eu_sales              0\n",
              "jp_sales              0\n",
              "other_sales           0\n",
              "critic_score       6615\n",
              "user_score         7037\n",
              "rating             5558\n",
              "dtype: int64"
            ]
          },
          "execution_count": 39,
          "metadata": {},
          "output_type": "execute_result"
        }
      ],
      "source": [
        "df.isna().sum()"
      ]
    },
    {
      "cell_type": "code",
      "execution_count": null,
      "metadata": {
        "id": "QfUWDB0vQeAE"
      },
      "outputs": [],
      "source": [
        "# neg_df = (df['user_score'] < 0 ).any()\n",
        "# neg_df\n",
        "# neg_df = (df['sum_sales'] < 0 ).any()\n",
        "# neg_df"
      ]
    },
    {
      "cell_type": "markdown",
      "metadata": {
        "id": "OK4zoWdzzHIf"
      },
      "source": [
        "### Выводы"
      ]
    },
    {
      "cell_type": "markdown",
      "metadata": {},
      "source": [
        "- 1) В данных имелись некорректные значения, почти в каждом из столбов, так как логи были изначально битые(по несколько запятых), соответсвенно значения съехались по коллонкам;\n",
        "- 2) Коллонки critic_score и user_score имеют большое кол-во пропущенных значений, около 60% каждая... В данном случае эти коллонки не желательно использовать в полной статистики, только делая срезы, где нету пропусков;\n",
        "- 3) Так, как при загрузки данные по большей своей мере были съехавшие, то практически по всем столбацам идёт тип object."
      ]
    },
    {
      "cell_type": "markdown",
      "metadata": {
        "id": "M45lvXEbzHIf"
      },
      "source": [
        "### Вывод"
      ]
    },
    {
      "cell_type": "markdown",
      "metadata": {},
      "source": [
        "- В результате предобработки были удалены некорректные данные, изменены типы, Nan заменены на mean по столбцу."
      ]
    },
    {
      "cell_type": "markdown",
      "metadata": {
        "id": "or0WTam-zHIf"
      },
      "source": [
        "## Анализ данных"
      ]
    },
    {
      "cell_type": "markdown",
      "metadata": {
        "id": "f8y-GEpfzHIf"
      },
      "source": [
        "    #Вся основная работа будет вестись тут\n",
        "    Аналитика :\n",
        "          - показать сколько игр выпускалось в разные годы. Описать и обосновать переломные моменты продаж\n",
        "          - найти топ 10 платформ с наибольшими суммарными продажами\n",
        "          - построить распределение по годам в зависимости от сумм продаж (выбрать наибольшие суммарные продажи)\n",
        "          - сделать срез от 2009 года и посмотреть какие платформы актуальные( по кол-ву продаж)\n",
        "          - выбрать акутальный период начала исследования в зависимости от новой платформы\n",
        "          - После того, как опередлились с периодом, удалить все данные до начала периода\n",
        "          - какие платформы лидируют по продажам?\n",
        "          - составь потрет пользователя по региону EU\n",
        "                  - Самые популярные платформы (топ-5). Опиши различия в долях продаж.\n",
        "                  - Самые популярные жанры (топ-5). Поясните разницу\n",
        "\n",
        "\n",
        "    - Суммарное распределение по годам можно отобразить так\n",
        "    \n",
        "        table = df.query('platform in тут перечисли нужные платформы')\n",
        "        table = df[[тут отбери нужные колонки]]\n",
        "        \n",
        "        Теперь сгруппируем платформы - по суммам продаж в зависимости от года релиза, платформы\n",
        "        \n",
        "        table =table.groupby(['year_of_release','platform'])['all_sales'].sum()\\\n",
        "        .unstack(fill_value=0)\\\n",
        "        .add_prefix('platfrom_')\\\n",
        "        .reset_index()\\\n",
        "        .rename_axis([None], axis=1)\n",
        "\n"
      ]
    },
    {
      "cell_type": "markdown",
      "metadata": {},
      "source": [
        "#### 1) показать сколько игр выпускалось в разные годы. Описать и обосновать переломные моменты продаж"
      ]
    },
    {
      "cell_type": "code",
      "execution_count": null,
      "metadata": {
        "colab": {
          "base_uri": "https://localhost:8080/",
          "height": 410
        },
        "id": "Vv9MHX4TzHIf",
        "outputId": "fbd63e67-e055-4644-c0f5-fc1259449221"
      },
      "outputs": [
        {
          "data": {
            "image/png": "[encoded data removed]",
            "text/plain": [
              "<Figure size 800x400 with 1 Axes>"
            ]
          },
          "metadata": {},
          "output_type": "display_data"
        }
      ],
      "source": [
        "games_per_year = df['year_of_release'].value_counts().sort_index()\n",
        "games_per_year = pd.DataFrame({'Дата':games_per_year.index, 'Кол-во игр': games_per_year.values})\n",
        "games_per_year = games_per_year.drop(games_per_year.index[0])\n",
        "games_per_year\n",
        "\n",
        "# Построение графика\n",
        "plt.figure(figsize=(8, 4))\n",
        "sns.lineplot(data=games_per_year, x='Дата', y='Кол-во игр')\n",
        "plt.xlabel('Дата')\n",
        "plt.ylabel('Кол-во игр')\n",
        "plt.title('Выход уникальных игр по годам')\n",
        "plt.grid(True)\n",
        "plt.show()"
      ]
    },
    {
      "cell_type": "markdown",
      "metadata": {},
      "source": [
        "- Самое большое кол-во игр было с 2005 по 2010 год, в этоти года игравая индустрия получила признание среди пользователей, поэтому начился достаточно большой выпуск игр, разных жанров."
      ]
    },
    {
      "cell_type": "markdown",
      "metadata": {},
      "source": [
        "#### 2) Найти топ 10 платформ с наибольшими суммарными продажами"
      ]
    },
    {
      "cell_type": "code",
      "execution_count": null,
      "metadata": {
        "colab": {
          "base_uri": "https://localhost:8080/"
        },
        "id": "jSY88MDRAZFP",
        "outputId": "e6586cf3-8706-4f15-d8dd-fca6e79e70ee"
      },
      "outputs": [
        {
          "data": {
            "text/plain": [
              "platform\n",
              "PS2     1137.42\n",
              "Wii      772.72\n",
              "PS       699.36\n",
              "DS       690.88\n",
              "X360     574.85\n",
              "PS3      525.16\n",
              "PS4      255.01\n",
              "GBA      243.07\n",
              "GB       234.88\n",
              "NES      233.59\n",
              "Name: sum_sales, dtype: float64"
            ]
          },
          "execution_count": 44,
          "metadata": {},
          "output_type": "execute_result"
        }
      ],
      "source": [
        "df['sum_sales'] = df['na_sales']+df['eu_sales']+ df['jp_sales']+df['other_sales']\n",
        "games_platforms = df.groupby('platform')['sum_sales'].sum()\n",
        "top_10_games = games_platforms.sort_values(ascending=False).head(10)\n",
        "top_10_games"
      ]
    },
    {
      "cell_type": "markdown",
      "metadata": {},
      "source": [
        " ### 3) Построить распределение по годам в зависимости от сумм продаж (выбрать наибольшие суммарные продажи)"
      ]
    },
    {
      "cell_type": "code",
      "execution_count": null,
      "metadata": {
        "colab": {
          "base_uri": "https://localhost:8080/",
          "height": 410
        },
        "id": "2dE-RMkzRO5b",
        "outputId": "cefafcc4-e77b-4707-d48e-ed1c2b89f0da"
      },
      "outputs": [
        {
          "data": {
            "image/png": "[encoded data removed]",
            "text/plain": [
              "<Figure size 800x400 with 1 Axes>"
            ]
          },
          "metadata": {},
          "output_type": "display_data"
        }
      ],
      "source": [
        "sum_games_sales = pd.DataFrame({'Год': df['year_of_release'], 'Суммарные продажи': df['sum_sales']})\n",
        "sum_games_sales.set_index('Год', inplace=True)\n",
        "sum_games_sales = sum_games_sales.sort_index()\n",
        "sum_games_sales = sum_games_sales.drop(sum_games_sales.index[0])\n",
        "sum_games_sales.index = pd.to_datetime(sum_games_sales.index, format='%Y')\n",
        "\n",
        "plt.figure(figsize=(8, 4))\n",
        "plt.plot(sum_games_sales.index, sum_games_sales['Суммарные продажи'], marker='', linestyle='-', color='b')\n",
        "\n",
        "\n",
        "plt.title('Суммарные продажи игр по годам')\n",
        "plt.xlabel('Год')\n",
        "plt.ylabel('Суммарные продажи')\n",
        "plt.show()"
      ]
    },
    {
      "cell_type": "markdown",
      "metadata": {},
      "source": [
        "- Наибольшие суммарные продажи были в с 2004 по 2009 год."
      ]
    },
    {
      "cell_type": "markdown",
      "metadata": {},
      "source": [
        "#### 4) Cделать срез от 2009 года и посмотреть какие платформы актуальные( по кол-ву продаж)"
      ]
    },
    {
      "cell_type": "code",
      "execution_count": null,
      "metadata": {
        "colab": {
          "base_uri": "https://localhost:8080/"
        },
        "id": "ZaUx-lH_YIwc",
        "outputId": "c3e9ec08-7ad3-4794-c245-4ba91c1babbf"
      },
      "outputs": [
        {
          "data": {
            "text/plain": [
              "DS      743\n",
              "PS3     571\n",
              "Wii     545\n",
              "PSP     519\n",
              "3DS     413\n",
              "X360    334\n",
              "PS4     296\n",
              "PSV     279\n",
              "PC      262\n",
              "PS2      64\n",
              "WiiU     58\n",
              "XOne     33\n",
              "Name: platform, dtype: int64"
            ]
          },
          "execution_count": 46,
          "metadata": {},
          "output_type": "execute_result"
        }
      ],
      "source": [
        "df_2009 = df[df['year_of_release'] >= 2009]\n",
        "df_2009 = df_2009[['year_of_release', 'platform']]\n",
        "df_2009 = df_2009.set_index('year_of_release')  # Применяем set_index, чтобы сделать столбец 'year_of_release' индексом\n",
        "platform_counts = df_2009['platform'].value_counts().sort_values(ascending=False)\n",
        "platform_counts"
      ]
    },
    {
      "cell_type": "markdown",
      "metadata": {},
      "source": [
        "#### 5) Выбрать акутальный период начала исследования в зависимости от новой платформы после того, как опередлились с периодом, удалить все данные до начала периода какие платформы лидируют по продажам?"
      ]
    },
    {
      "cell_type": "code",
      "execution_count": null,
      "metadata": {
        "colab": {
          "base_uri": "https://localhost:8080/"
        },
        "id": "5Z-EuYYDKOO-",
        "outputId": "bd947780-ea22-4312-c54e-48eb5433c836"
      },
      "outputs": [
        {
          "data": {
            "text/plain": [
              "PS2     1823\n",
              "DS      1749\n",
              "PS      1115\n",
              "Wii      912\n",
              "PSP      888\n",
              "PS3      682\n",
              "GBA      609\n",
              "X360     541\n",
              "PC       495\n",
              "3DS      413\n",
              "Name: platform, dtype: int64"
            ]
          },
          "execution_count": 47,
          "metadata": {},
          "output_type": "execute_result"
        }
      ],
      "source": [
        "df_akt = df[df['year_of_release'] >= 1990]\n",
        "df_akt = df_akt[['year_of_release', 'platform']]\n",
        "df_akt = df_akt.set_index('year_of_release')\n",
        "df_akt = df_akt['platform'].value_counts().sort_values(ascending=False)\n",
        "df_akt.head(10)"
      ]
    },
    {
      "cell_type": "markdown",
      "metadata": {},
      "source": [
        "#### 6) составь потрет пользователя по региону EU, самые популярные платформы (топ-5). Опиши различия в долях продаж."
      ]
    },
    {
      "cell_type": "code",
      "execution_count": null,
      "metadata": {
        "colab": {
          "base_uri": "https://localhost:8080/"
        },
        "id": "23oRFaPtMMhf",
        "outputId": "5410c8dc-e746-47d0-8bf3-7be21fa5f8c8"
      },
      "outputs": [
        {
          "data": {
            "text/plain": [
              "platform\n",
              "PS2     315.04\n",
              "Wii     226.58\n",
              "PS      202.74\n",
              "PS3     190.63\n",
              "DS      162.29\n",
              "X360    143.78\n",
              "PS4     115.48\n",
              "PC       89.76\n",
              "GBA      55.67\n",
              "3DS      51.73\n",
              "GB       43.49\n",
              "PSP      41.74\n",
              "N64      36.51\n",
              "XB       24.25\n",
              "GC       20.40\n",
              "Name: eu_sales, dtype: float64"
            ]
          },
          "execution_count": 48,
          "metadata": {},
          "output_type": "execute_result"
        }
      ],
      "source": [
        "df_port1 = df[['year_of_release','platform','eu_sales' ]]\n",
        "df_port1 = df_port1.set_index('year_of_release')\n",
        "df_port1.groupby('platform')['eu_sales'].sum().sort_values(ascending = False).head(15)"
      ]
    },
    {
      "cell_type": "markdown",
      "metadata": {},
      "source": [
        "- С 1990 года по 2016 год было замеченно, что из самых популярных платформ по сумме продаж оказалась PS2. По разнице продаж видно, что  топ - 9 отличается между собой на 20-25 д.е;"
      ]
    },
    {
      "cell_type": "markdown",
      "metadata": {},
      "source": [
        "#### 7) Самые популярные жанры (топ-5). Поясните разницу"
      ]
    },
    {
      "cell_type": "code",
      "execution_count": null,
      "metadata": {
        "colab": {
          "base_uri": "https://localhost:8080/"
        },
        "id": "dCkxABeCRfhg",
        "outputId": "e84fd377-a491-4dfe-a949-bb4c92e431c7"
      },
      "outputs": [
        {
          "data": {
            "text/plain": [
              "genre\n",
              "Action     322.66\n",
              "Sports     271.36\n",
              "Shooter    201.18\n",
              "Racing     191.30\n",
              "Misc       176.13\n",
              "Name: eu_sales, dtype: float64"
            ]
          },
          "execution_count": 49,
          "metadata": {},
          "output_type": "execute_result"
        }
      ],
      "source": [
        "df_port2 = df[['year_of_release','genre','eu_sales' ]]\n",
        "df_port2 = df_port2.set_index('year_of_release')\n",
        "df_port2.groupby('genre')['eu_sales'].sum().sort_values(ascending = False).head(5)"
      ]
    },
    {
      "cell_type": "markdown",
      "metadata": {
        "id": "7ptvZ08r6NpD"
      },
      "source": [
        "- Максимальное кол-во потребителей устремленны на покупку жанра  \"Экшен\". Разница по кол-ву продаж составляет примерно 50-70 т.ед. между жанрами вниз по топу."
      ]
    },
    {
      "cell_type": "markdown",
      "metadata": {
        "id": "6f46E-HRzHIg"
      },
      "source": [
        "### Вывод\n",
        "Проведя анализ данных мы заметили такие закономерности как:"
      ]
    },
    {
      "cell_type": "markdown",
      "metadata": {},
      "source": [
        "- 1) Бум в гейменге начался с 1990 года и достиг своего пика с 2005 по 2010 годы по кол-ву вышедших игр;\n",
        "- 2) Особую популярность за всё время по кол-ву продаж и суммарными продажами завоевала платформа PS2; Так же это имеет места в странах Европы, но в 2009 году актуальность данной платформы была утрачена и лидерство было отдано более соывременным игровым платформам;\n",
        "- 3) Самым любимым игровым жанром среди потребителей, является 'экшен', 'спорт' идёт на втором месте, 'шутер' на третьем...\n",
        "- 4) Пиковые продажи игр были в 2007-2008 году."
      ]
    },
    {
      "cell_type": "markdown",
      "metadata": {
        "id": "F882BS-pzHIg"
      },
      "source": [
        "## Проверка гипотез"
      ]
    },
    {
      "cell_type": "markdown",
      "metadata": {
        "id": "sCbdl0V7joPM"
      },
      "source": [
        "      Проверь гипотезы:\n",
        "      Перед тем как сформулировать гипотезы глянь на разброс значений - aggfunc=['mean', 'std', 'var']\n",
        "      - Средние пользовательские рейтинги платформ Xbox One и PC одинаковые"
      ]
    },
    {
      "cell_type": "code",
      "execution_count": null,
      "metadata": {
        "id": "PN_fu2ZGzHIg"
      },
      "outputs": [],
      "source": [
        "from scipy.stats import ttest_ind, mannwhitneyu"
      ]
    },
    {
      "cell_type": "markdown",
      "metadata": {
        "id": "VF6bdya-zHIg"
      },
      "source": [
        "Сформулируем и проверим гипотезы:\n",
        "\n",
        "1. Средние пользовательские рейтинги платформ Xbox One и PC одинаковые"
      ]
    },
    {
      "cell_type": "code",
      "execution_count": null,
      "metadata": {
        "colab": {
          "base_uri": "https://localhost:8080/",
          "height": 175
        },
        "id": "MJzsGKpPzHIg",
        "outputId": "bf9779f2-772c-4fb8-f8d9-a40c35ff2c79"
      },
      "outputs": [
        {
          "data": {
            "text/html": [
              "\n",
              "\n",
              "  <div id=\"df-30348fb8-b51e-40f1-a705-d9b0a1ae74e2\">\n",
              "    <div class=\"colab-df-container\">\n",
              "      <div>\n",
              "<style scoped>\n",
              "    .dataframe tbody tr th:only-of-type {\n",
              "        vertical-align: middle;\n",
              "    }\n",
              "\n",
              "    .dataframe tbody tr th {\n",
              "        vertical-align: top;\n",
              "    }\n",
              "\n",
              "    .dataframe thead tr th {\n",
              "        text-align: left;\n",
              "    }\n",
              "\n",
              "    .dataframe thead tr:last-of-type th {\n",
              "        text-align: right;\n",
              "    }\n",
              "</style>\n",
              "<table border=\"1\" class=\"dataframe\">\n",
              "  <thead>\n",
              "    <tr>\n",
              "      <th></th>\n",
              "      <th>std</th>\n",
              "      <th>var</th>\n",
              "      <th>mean</th>\n",
              "      <th>min</th>\n",
              "      <th>max</th>\n",
              "    </tr>\n",
              "    <tr>\n",
              "      <th></th>\n",
              "      <th>user_score</th>\n",
              "      <th>user_score</th>\n",
              "      <th>user_score</th>\n",
              "      <th>user_score</th>\n",
              "      <th>user_score</th>\n",
              "    </tr>\n",
              "    <tr>\n",
              "      <th>platform</th>\n",
              "      <th></th>\n",
              "      <th></th>\n",
              "      <th></th>\n",
              "      <th></th>\n",
              "      <th></th>\n",
              "    </tr>\n",
              "  </thead>\n",
              "  <tbody>\n",
              "    <tr>\n",
              "      <th>PC</th>\n",
              "      <td>1.479839</td>\n",
              "      <td>2.189922</td>\n",
              "      <td>7.319663</td>\n",
              "      <td>2.1</td>\n",
              "      <td>9.3</td>\n",
              "    </tr>\n",
              "    <tr>\n",
              "      <th>XOne</th>\n",
              "      <td>1.100357</td>\n",
              "      <td>1.210785</td>\n",
              "      <td>6.796154</td>\n",
              "      <td>3.0</td>\n",
              "      <td>8.3</td>\n",
              "    </tr>\n",
              "  </tbody>\n",
              "</table>\n",
              "</div>\n",
              "      <button class=\"colab-df-convert\" onclick=\"convertToInteractive('df-30348fb8-b51e-40f1-a705-d9b0a1ae74e2')\"\n",
              "              title=\"Convert this dataframe to an interactive table.\"\n",
              "              style=\"display:none;\">\n",
              "\n",
              "  <svg xmlns=\"http://www.w3.org/2000/svg\" height=\"24px\"viewBox=\"0 0 24 24\"\n",
              "       width=\"24px\">\n",
              "    <path d=\"M0 0h24v24H0V0z\" fill=\"none\"/>\n",
              "    <path d=\"M18.56 5.44l.94 2.06.94-2.06 2.06-.94-2.06-.94-.94-2.06-.94 2.06-2.06.94zm-11 1L8.5 8.5l.94-2.06 2.06-.94-2.06-.94L8.5 2.5l-.94 2.06-2.06.94zm10 10l.94 2.06.94-2.06 2.06-.94-2.06-.94-.94-2.06-.94 2.06-2.06.94z\"/><path d=\"M17.41 7.96l-1.37-1.37c-.4-.4-.92-.59-1.43-.59-.52 0-1.04.2-1.43.59L10.3 9.45l-7.72 7.72c-.78.78-.78 2.05 0 2.83L4 21.41c.39.39.9.59 1.41.59.51 0 1.02-.2 1.41-.59l7.78-7.78 2.81-2.81c.8-.78.8-2.07 0-2.86zM5.41 20L4 18.59l7.72-7.72 1.47 1.35L5.41 20z\"/>\n",
              "  </svg>\n",
              "      </button>\n",
              "\n",
              "\n",
              "\n",
              "    <div id=\"df-869022db-4788-4008-a9cd-0439b63baf83\">\n",
              "      <button class=\"colab-df-quickchart\" onclick=\"quickchart('df-869022db-4788-4008-a9cd-0439b63baf83')\"\n",
              "              title=\"Suggest charts.\"\n",
              "              style=\"display:none;\">\n",
              "\n",
              "<svg xmlns=\"http://www.w3.org/2000/svg\" height=\"24px\"viewBox=\"0 0 24 24\"\n",
              "     width=\"24px\">\n",
              "    <g>\n",
              "        <path d=\"M19 3H5c-1.1 0-2 .9-2 2v14c0 1.1.9 2 2 2h14c1.1 0 2-.9 2-2V5c0-1.1-.9-2-2-2zM9 17H7v-7h2v7zm4 0h-2V7h2v10zm4 0h-2v-4h2v4z\"/>\n",
              "    </g>\n",
              "</svg>\n",
              "      </button>\n",
              "    </div>\n",
              "\n",
              "<style>\n",
              "  .colab-df-quickchart {\n",
              "    background-color: #E8F0FE;\n",
              "    border: none;\n",
              "    border-radius: 50%;\n",
              "    cursor: pointer;\n",
              "    display: none;\n",
              "    fill: #1967D2;\n",
              "    height: 32px;\n",
              "    padding: 0 0 0 0;\n",
              "    width: 32px;\n",
              "  }\n",
              "\n",
              "  .colab-df-quickchart:hover {\n",
              "    background-color: #E2EBFA;\n",
              "    box-shadow: 0px 1px 2px rgba(60, 64, 67, 0.3), 0px 1px 3px 1px rgba(60, 64, 67, 0.15);\n",
              "    fill: #174EA6;\n",
              "  }\n",
              "\n",
              "  [theme=dark] .colab-df-quickchart {\n",
              "    background-color: #3B4455;\n",
              "    fill: #D2E3FC;\n",
              "  }\n",
              "\n",
              "  [theme=dark] .colab-df-quickchart:hover {\n",
              "    background-color: #434B5C;\n",
              "    box-shadow: 0px 1px 3px 1px rgba(0, 0, 0, 0.15);\n",
              "    filter: drop-shadow(0px 1px 2px rgba(0, 0, 0, 0.3));\n",
              "    fill: #FFFFFF;\n",
              "  }\n",
              "</style>\n",
              "\n",
              "    <script>\n",
              "      async function quickchart(key) {\n",
              "        const containerElement = document.querySelector('#' + key);\n",
              "        const charts = await google.colab.kernel.invokeFunction(\n",
              "            'suggestCharts', [key], {});\n",
              "      }\n",
              "    </script>\n",
              "\n",
              "      <script>\n",
              "\n",
              "function displayQuickchartButton(domScope) {\n",
              "  let quickchartButtonEl =\n",
              "    domScope.querySelector('#df-869022db-4788-4008-a9cd-0439b63baf83 button.colab-df-quickchart');\n",
              "  quickchartButtonEl.style.display =\n",
              "    google.colab.kernel.accessAllowed ? 'block' : 'none';\n",
              "}\n",
              "\n",
              "        displayQuickchartButton(document);\n",
              "      </script>\n",
              "      <style>\n",
              "    .colab-df-container {\n",
              "      display:flex;\n",
              "      flex-wrap:wrap;\n",
              "      gap: 12px;\n",
              "    }\n",
              "\n",
              "    .colab-df-convert {\n",
              "      background-color: #E8F0FE;\n",
              "      border: none;\n",
              "      border-radius: 50%;\n",
              "      cursor: pointer;\n",
              "      display: none;\n",
              "      fill: #1967D2;\n",
              "      height: 32px;\n",
              "      padding: 0 0 0 0;\n",
              "      width: 32px;\n",
              "    }\n",
              "\n",
              "    .colab-df-convert:hover {\n",
              "      background-color: #E2EBFA;\n",
              "      box-shadow: 0px 1px 2px rgba(60, 64, 67, 0.3), 0px 1px 3px 1px rgba(60, 64, 67, 0.15);\n",
              "      fill: #174EA6;\n",
              "    }\n",
              "\n",
              "    [theme=dark] .colab-df-convert {\n",
              "      background-color: #3B4455;\n",
              "      fill: #D2E3FC;\n",
              "    }\n",
              "\n",
              "    [theme=dark] .colab-df-convert:hover {\n",
              "      background-color: #434B5C;\n",
              "      box-shadow: 0px 1px 3px 1px rgba(0, 0, 0, 0.15);\n",
              "      filter: drop-shadow(0px 1px 2px rgba(0, 0, 0, 0.3));\n",
              "      fill: #FFFFFF;\n",
              "    }\n",
              "  </style>\n",
              "\n",
              "      <script>\n",
              "        const buttonEl =\n",
              "          document.querySelector('#df-30348fb8-b51e-40f1-a705-d9b0a1ae74e2 button.colab-df-convert');\n",
              "        buttonEl.style.display =\n",
              "          google.colab.kernel.accessAllowed ? 'block' : 'none';\n",
              "\n",
              "        async function convertToInteractive(key) {\n",
              "          const element = document.querySelector('#df-30348fb8-b51e-40f1-a705-d9b0a1ae74e2');\n",
              "          const dataTable =\n",
              "            await google.colab.kernel.invokeFunction('convertToInteractive',\n",
              "                                                     [key], {});\n",
              "          if (!dataTable) return;\n",
              "\n",
              "          const docLinkHtml = 'Like what you see? Visit the ' +\n",
              "            '<a target=\"_blank\" href=https://colab.research.google.com/notebooks/data_table.ipynb>data table notebook</a>'\n",
              "            + ' to learn more about interactive tables.';\n",
              "          element.innerHTML = '';\n",
              "          dataTable['output_type'] = 'display_data';\n",
              "          await google.colab.output.renderOutput(dataTable, element);\n",
              "          const docLink = document.createElement('div');\n",
              "          docLink.innerHTML = docLinkHtml;\n",
              "          element.appendChild(docLink);\n",
              "        }\n",
              "      </script>\n",
              "    </div>\n",
              "  </div>\n"
            ],
            "text/plain": [
              "                std        var       mean        min        max\n",
              "         user_score user_score user_score user_score user_score\n",
              "platform                                                       \n",
              "PC         1.479839   2.189922   7.319663        2.1        9.3\n",
              "XOne       1.100357   1.210785   6.796154        3.0        8.3"
            ]
          },
          "execution_count": 53,
          "metadata": {},
          "output_type": "execute_result"
        }
      ],
      "source": [
        "# Создаем сводную таблицу с агрегированными значениями\n",
        "# Перед тем как сформулировать гипотезы глянь на разброс значений - aggfunc=['mean', 'std', 'var']\n",
        "selected_platforms = ['XOne', 'PC']\n",
        "table = df.query('platform in @selected_platforms')\n",
        "table = table.pivot_table(index='platform', values='user_score', aggfunc=['std', 'var','mean', 'min', 'max'])\n",
        "table"
      ]
    },
    {
      "cell_type": "markdown",
      "metadata": {
        "id": "0mO84L784OM9"
      },
      "source": [
        "2. C 1995 - 2000 год среднее предпочтение людей было больше направленно на игры с жанром 'action', чем на игры с жанром 'sport'."
      ]
    },
    {
      "cell_type": "code",
      "execution_count": null,
      "metadata": {
        "colab": {
          "base_uri": "https://localhost:8080/",
          "height": 175
        },
        "id": "-UWGcb1u4LUM",
        "outputId": "4337c8f7-cba9-44cd-de8b-292daa18d7ce"
      },
      "outputs": [
        {
          "data": {
            "text/html": [
              "\n",
              "\n",
              "  <div id=\"df-e3de1aa8-6777-40d9-801f-722f26d15db1\">\n",
              "    <div class=\"colab-df-container\">\n",
              "      <div>\n",
              "<style scoped>\n",
              "    .dataframe tbody tr th:only-of-type {\n",
              "        vertical-align: middle;\n",
              "    }\n",
              "\n",
              "    .dataframe tbody tr th {\n",
              "        vertical-align: top;\n",
              "    }\n",
              "\n",
              "    .dataframe thead tr th {\n",
              "        text-align: left;\n",
              "    }\n",
              "\n",
              "    .dataframe thead tr:last-of-type th {\n",
              "        text-align: right;\n",
              "    }\n",
              "</style>\n",
              "<table border=\"1\" class=\"dataframe\">\n",
              "  <thead>\n",
              "    <tr>\n",
              "      <th></th>\n",
              "      <th>std</th>\n",
              "      <th>var</th>\n",
              "      <th>mean</th>\n",
              "      <th>min</th>\n",
              "      <th>max</th>\n",
              "    </tr>\n",
              "    <tr>\n",
              "      <th></th>\n",
              "      <th>user_score</th>\n",
              "      <th>user_score</th>\n",
              "      <th>user_score</th>\n",
              "      <th>user_score</th>\n",
              "      <th>user_score</th>\n",
              "    </tr>\n",
              "    <tr>\n",
              "      <th>genre</th>\n",
              "      <th></th>\n",
              "      <th></th>\n",
              "      <th></th>\n",
              "      <th></th>\n",
              "      <th></th>\n",
              "    </tr>\n",
              "  </thead>\n",
              "  <tbody>\n",
              "    <tr>\n",
              "      <th>Action</th>\n",
              "      <td>1.377219</td>\n",
              "      <td>1.896733</td>\n",
              "      <td>7.856000</td>\n",
              "      <td>4.3</td>\n",
              "      <td>9.4</td>\n",
              "    </tr>\n",
              "    <tr>\n",
              "      <th>Sports</th>\n",
              "      <td>1.236569</td>\n",
              "      <td>1.529103</td>\n",
              "      <td>7.692308</td>\n",
              "      <td>4.6</td>\n",
              "      <td>9.2</td>\n",
              "    </tr>\n",
              "  </tbody>\n",
              "</table>\n",
              "</div>\n",
              "      <button class=\"colab-df-convert\" onclick=\"convertToInteractive('df-e3de1aa8-6777-40d9-801f-722f26d15db1')\"\n",
              "              title=\"Convert this dataframe to an interactive table.\"\n",
              "              style=\"display:none;\">\n",
              "\n",
              "  <svg xmlns=\"http://www.w3.org/2000/svg\" height=\"24px\"viewBox=\"0 0 24 24\"\n",
              "       width=\"24px\">\n",
              "    <path d=\"M0 0h24v24H0V0z\" fill=\"none\"/>\n",
              "    <path d=\"M18.56 5.44l.94 2.06.94-2.06 2.06-.94-2.06-.94-.94-2.06-.94 2.06-2.06.94zm-11 1L8.5 8.5l.94-2.06 2.06-.94-2.06-.94L8.5 2.5l-.94 2.06-2.06.94zm10 10l.94 2.06.94-2.06 2.06-.94-2.06-.94-.94-2.06-.94 2.06-2.06.94z\"/><path d=\"M17.41 7.96l-1.37-1.37c-.4-.4-.92-.59-1.43-.59-.52 0-1.04.2-1.43.59L10.3 9.45l-7.72 7.72c-.78.78-.78 2.05 0 2.83L4 21.41c.39.39.9.59 1.41.59.51 0 1.02-.2 1.41-.59l7.78-7.78 2.81-2.81c.8-.78.8-2.07 0-2.86zM5.41 20L4 18.59l7.72-7.72 1.47 1.35L5.41 20z\"/>\n",
              "  </svg>\n",
              "      </button>\n",
              "\n",
              "\n",
              "\n",
              "    <div id=\"df-50f30162-0f03-4969-b1b1-1e73bc610509\">\n",
              "      <button class=\"colab-df-quickchart\" onclick=\"quickchart('df-50f30162-0f03-4969-b1b1-1e73bc610509')\"\n",
              "              title=\"Suggest charts.\"\n",
              "              style=\"display:none;\">\n",
              "\n",
              "<svg xmlns=\"http://www.w3.org/2000/svg\" height=\"24px\"viewBox=\"0 0 24 24\"\n",
              "     width=\"24px\">\n",
              "    <g>\n",
              "        <path d=\"M19 3H5c-1.1 0-2 .9-2 2v14c0 1.1.9 2 2 2h14c1.1 0 2-.9 2-2V5c0-1.1-.9-2-2-2zM9 17H7v-7h2v7zm4 0h-2V7h2v10zm4 0h-2v-4h2v4z\"/>\n",
              "    </g>\n",
              "</svg>\n",
              "      </button>\n",
              "    </div>\n",
              "\n",
              "<style>\n",
              "  .colab-df-quickchart {\n",
              "    background-color: #E8F0FE;\n",
              "    border: none;\n",
              "    border-radius: 50%;\n",
              "    cursor: pointer;\n",
              "    display: none;\n",
              "    fill: #1967D2;\n",
              "    height: 32px;\n",
              "    padding: 0 0 0 0;\n",
              "    width: 32px;\n",
              "  }\n",
              "\n",
              "  .colab-df-quickchart:hover {\n",
              "    background-color: #E2EBFA;\n",
              "    box-shadow: 0px 1px 2px rgba(60, 64, 67, 0.3), 0px 1px 3px 1px rgba(60, 64, 67, 0.15);\n",
              "    fill: #174EA6;\n",
              "  }\n",
              "\n",
              "  [theme=dark] .colab-df-quickchart {\n",
              "    background-color: #3B4455;\n",
              "    fill: #D2E3FC;\n",
              "  }\n",
              "\n",
              "  [theme=dark] .colab-df-quickchart:hover {\n",
              "    background-color: #434B5C;\n",
              "    box-shadow: 0px 1px 3px 1px rgba(0, 0, 0, 0.15);\n",
              "    filter: drop-shadow(0px 1px 2px rgba(0, 0, 0, 0.3));\n",
              "    fill: #FFFFFF;\n",
              "  }\n",
              "</style>\n",
              "\n",
              "    <script>\n",
              "      async function quickchart(key) {\n",
              "        const containerElement = document.querySelector('#' + key);\n",
              "        const charts = await google.colab.kernel.invokeFunction(\n",
              "            'suggestCharts', [key], {});\n",
              "      }\n",
              "    </script>\n",
              "\n",
              "      <script>\n",
              "\n",
              "function displayQuickchartButton(domScope) {\n",
              "  let quickchartButtonEl =\n",
              "    domScope.querySelector('#df-50f30162-0f03-4969-b1b1-1e73bc610509 button.colab-df-quickchart');\n",
              "  quickchartButtonEl.style.display =\n",
              "    google.colab.kernel.accessAllowed ? 'block' : 'none';\n",
              "}\n",
              "\n",
              "        displayQuickchartButton(document);\n",
              "      </script>\n",
              "      <style>\n",
              "    .colab-df-container {\n",
              "      display:flex;\n",
              "      flex-wrap:wrap;\n",
              "      gap: 12px;\n",
              "    }\n",
              "\n",
              "    .colab-df-convert {\n",
              "      background-color: #E8F0FE;\n",
              "      border: none;\n",
              "      border-radius: 50%;\n",
              "      cursor: pointer;\n",
              "      display: none;\n",
              "      fill: #1967D2;\n",
              "      height: 32px;\n",
              "      padding: 0 0 0 0;\n",
              "      width: 32px;\n",
              "    }\n",
              "\n",
              "    .colab-df-convert:hover {\n",
              "      background-color: #E2EBFA;\n",
              "      box-shadow: 0px 1px 2px rgba(60, 64, 67, 0.3), 0px 1px 3px 1px rgba(60, 64, 67, 0.15);\n",
              "      fill: #174EA6;\n",
              "    }\n",
              "\n",
              "    [theme=dark] .colab-df-convert {\n",
              "      background-color: #3B4455;\n",
              "      fill: #D2E3FC;\n",
              "    }\n",
              "\n",
              "    [theme=dark] .colab-df-convert:hover {\n",
              "      background-color: #434B5C;\n",
              "      box-shadow: 0px 1px 3px 1px rgba(0, 0, 0, 0.15);\n",
              "      filter: drop-shadow(0px 1px 2px rgba(0, 0, 0, 0.3));\n",
              "      fill: #FFFFFF;\n",
              "    }\n",
              "  </style>\n",
              "\n",
              "      <script>\n",
              "        const buttonEl =\n",
              "          document.querySelector('#df-e3de1aa8-6777-40d9-801f-722f26d15db1 button.colab-df-convert');\n",
              "        buttonEl.style.display =\n",
              "          google.colab.kernel.accessAllowed ? 'block' : 'none';\n",
              "\n",
              "        async function convertToInteractive(key) {\n",
              "          const element = document.querySelector('#df-e3de1aa8-6777-40d9-801f-722f26d15db1');\n",
              "          const dataTable =\n",
              "            await google.colab.kernel.invokeFunction('convertToInteractive',\n",
              "                                                     [key], {});\n",
              "          if (!dataTable) return;\n",
              "\n",
              "          const docLinkHtml = 'Like what you see? Visit the ' +\n",
              "            '<a target=\"_blank\" href=https://colab.research.google.com/notebooks/data_table.ipynb>data table notebook</a>'\n",
              "            + ' to learn more about interactive tables.';\n",
              "          element.innerHTML = '';\n",
              "          dataTable['output_type'] = 'display_data';\n",
              "          await google.colab.output.renderOutput(dataTable, element);\n",
              "          const docLink = document.createElement('div');\n",
              "          docLink.innerHTML = docLinkHtml;\n",
              "          element.appendChild(docLink);\n",
              "        }\n",
              "      </script>\n",
              "    </div>\n",
              "  </div>\n"
            ],
            "text/plain": [
              "              std        var       mean        min        max\n",
              "       user_score user_score user_score user_score user_score\n",
              "genre                                                        \n",
              "Action   1.377219   1.896733   7.856000        4.3        9.4\n",
              "Sports   1.236569   1.529103   7.692308        4.6        9.2"
            ]
          },
          "execution_count": 96,
          "metadata": {},
          "output_type": "execute_result"
        }
      ],
      "source": [
        "df_action_95_00 = df[(df['year_of_release']>= 1995) & (df['year_of_release'] <= 2000)]\n",
        "selected_genre = ['Action', 'Sports']\n",
        "table2 = df_action_95_00.query('genre in @selected_genre')\n",
        "table2 = table2.pivot_table(index = 'genre', values = 'user_score',aggfunc=['std', 'var','mean', 'min', 'max'] )\n",
        "table2"
      ]
    },
    {
      "cell_type": "markdown",
      "metadata": {
        "id": "e-acpEjJx3L8"
      },
      "source": [
        "3. Критики поставили большую средную оценку играм из жанра 'Strategy', чем играм из жанра 'Fighting'"
      ]
    },
    {
      "cell_type": "code",
      "execution_count": null,
      "metadata": {
        "colab": {
          "base_uri": "https://localhost:8080/",
          "height": 175
        },
        "id": "tcOA29LH2zLW",
        "outputId": "a3cdde73-b0db-4a89-b2f7-b9df63c1d045"
      },
      "outputs": [
        {
          "data": {
            "text/html": [
              "\n",
              "\n",
              "  <div id=\"df-74426ca7-f828-49d8-a7e8-3f0aa9ce09f4\">\n",
              "    <div class=\"colab-df-container\">\n",
              "      <div>\n",
              "<style scoped>\n",
              "    .dataframe tbody tr th:only-of-type {\n",
              "        vertical-align: middle;\n",
              "    }\n",
              "\n",
              "    .dataframe tbody tr th {\n",
              "        vertical-align: top;\n",
              "    }\n",
              "\n",
              "    .dataframe thead tr th {\n",
              "        text-align: left;\n",
              "    }\n",
              "\n",
              "    .dataframe thead tr:last-of-type th {\n",
              "        text-align: right;\n",
              "    }\n",
              "</style>\n",
              "<table border=\"1\" class=\"dataframe\">\n",
              "  <thead>\n",
              "    <tr>\n",
              "      <th></th>\n",
              "      <th>std</th>\n",
              "      <th>var</th>\n",
              "      <th>mean</th>\n",
              "      <th>min</th>\n",
              "      <th>max</th>\n",
              "    </tr>\n",
              "    <tr>\n",
              "      <th></th>\n",
              "      <th>critic_score</th>\n",
              "      <th>critic_score</th>\n",
              "      <th>critic_score</th>\n",
              "      <th>critic_score</th>\n",
              "      <th>critic_score</th>\n",
              "    </tr>\n",
              "    <tr>\n",
              "      <th>genre</th>\n",
              "      <th></th>\n",
              "      <th></th>\n",
              "      <th></th>\n",
              "      <th></th>\n",
              "      <th></th>\n",
              "    </tr>\n",
              "  </thead>\n",
              "  <tbody>\n",
              "    <tr>\n",
              "      <th>Fighting</th>\n",
              "      <td>14.632860</td>\n",
              "      <td>214.120583</td>\n",
              "      <td>68.539623</td>\n",
              "      <td>23.0</td>\n",
              "      <td>98.0</td>\n",
              "    </tr>\n",
              "    <tr>\n",
              "      <th>Strategy</th>\n",
              "      <td>11.970905</td>\n",
              "      <td>143.302556</td>\n",
              "      <td>72.117647</td>\n",
              "      <td>35.0</td>\n",
              "      <td>94.0</td>\n",
              "    </tr>\n",
              "  </tbody>\n",
              "</table>\n",
              "</div>\n",
              "      <button class=\"colab-df-convert\" onclick=\"convertToInteractive('df-74426ca7-f828-49d8-a7e8-3f0aa9ce09f4')\"\n",
              "              title=\"Convert this dataframe to an interactive table.\"\n",
              "              style=\"display:none;\">\n",
              "\n",
              "  <svg xmlns=\"http://www.w3.org/2000/svg\" height=\"24px\"viewBox=\"0 0 24 24\"\n",
              "       width=\"24px\">\n",
              "    <path d=\"M0 0h24v24H0V0z\" fill=\"none\"/>\n",
              "    <path d=\"M18.56 5.44l.94 2.06.94-2.06 2.06-.94-2.06-.94-.94-2.06-.94 2.06-2.06.94zm-11 1L8.5 8.5l.94-2.06 2.06-.94-2.06-.94L8.5 2.5l-.94 2.06-2.06.94zm10 10l.94 2.06.94-2.06 2.06-.94-2.06-.94-.94-2.06-.94 2.06-2.06.94z\"/><path d=\"M17.41 7.96l-1.37-1.37c-.4-.4-.92-.59-1.43-.59-.52 0-1.04.2-1.43.59L10.3 9.45l-7.72 7.72c-.78.78-.78 2.05 0 2.83L4 21.41c.39.39.9.59 1.41.59.51 0 1.02-.2 1.41-.59l7.78-7.78 2.81-2.81c.8-.78.8-2.07 0-2.86zM5.41 20L4 18.59l7.72-7.72 1.47 1.35L5.41 20z\"/>\n",
              "  </svg>\n",
              "      </button>\n",
              "\n",
              "\n",
              "\n",
              "    <div id=\"df-6888b847-33a4-4984-93e7-ead91fb0cf38\">\n",
              "      <button class=\"colab-df-quickchart\" onclick=\"quickchart('df-6888b847-33a4-4984-93e7-ead91fb0cf38')\"\n",
              "              title=\"Suggest charts.\"\n",
              "              style=\"display:none;\">\n",
              "\n",
              "<svg xmlns=\"http://www.w3.org/2000/svg\" height=\"24px\"viewBox=\"0 0 24 24\"\n",
              "     width=\"24px\">\n",
              "    <g>\n",
              "        <path d=\"M19 3H5c-1.1 0-2 .9-2 2v14c0 1.1.9 2 2 2h14c1.1 0 2-.9 2-2V5c0-1.1-.9-2-2-2zM9 17H7v-7h2v7zm4 0h-2V7h2v10zm4 0h-2v-4h2v4z\"/>\n",
              "    </g>\n",
              "</svg>\n",
              "      </button>\n",
              "    </div>\n",
              "\n",
              "<style>\n",
              "  .colab-df-quickchart {\n",
              "    background-color: #E8F0FE;\n",
              "    border: none;\n",
              "    border-radius: 50%;\n",
              "    cursor: pointer;\n",
              "    display: none;\n",
              "    fill: #1967D2;\n",
              "    height: 32px;\n",
              "    padding: 0 0 0 0;\n",
              "    width: 32px;\n",
              "  }\n",
              "\n",
              "  .colab-df-quickchart:hover {\n",
              "    background-color: #E2EBFA;\n",
              "    box-shadow: 0px 1px 2px rgba(60, 64, 67, 0.3), 0px 1px 3px 1px rgba(60, 64, 67, 0.15);\n",
              "    fill: #174EA6;\n",
              "  }\n",
              "\n",
              "  [theme=dark] .colab-df-quickchart {\n",
              "    background-color: #3B4455;\n",
              "    fill: #D2E3FC;\n",
              "  }\n",
              "\n",
              "  [theme=dark] .colab-df-quickchart:hover {\n",
              "    background-color: #434B5C;\n",
              "    box-shadow: 0px 1px 3px 1px rgba(0, 0, 0, 0.15);\n",
              "    filter: drop-shadow(0px 1px 2px rgba(0, 0, 0, 0.3));\n",
              "    fill: #FFFFFF;\n",
              "  }\n",
              "</style>\n",
              "\n",
              "    <script>\n",
              "      async function quickchart(key) {\n",
              "        const containerElement = document.querySelector('#' + key);\n",
              "        const charts = await google.colab.kernel.invokeFunction(\n",
              "            'suggestCharts', [key], {});\n",
              "      }\n",
              "    </script>\n",
              "\n",
              "      <script>\n",
              "\n",
              "function displayQuickchartButton(domScope) {\n",
              "  let quickchartButtonEl =\n",
              "    domScope.querySelector('#df-6888b847-33a4-4984-93e7-ead91fb0cf38 button.colab-df-quickchart');\n",
              "  quickchartButtonEl.style.display =\n",
              "    google.colab.kernel.accessAllowed ? 'block' : 'none';\n",
              "}\n",
              "\n",
              "        displayQuickchartButton(document);\n",
              "      </script>\n",
              "      <style>\n",
              "    .colab-df-container {\n",
              "      display:flex;\n",
              "      flex-wrap:wrap;\n",
              "      gap: 12px;\n",
              "    }\n",
              "\n",
              "    .colab-df-convert {\n",
              "      background-color: #E8F0FE;\n",
              "      border: none;\n",
              "      border-radius: 50%;\n",
              "      cursor: pointer;\n",
              "      display: none;\n",
              "      fill: #1967D2;\n",
              "      height: 32px;\n",
              "      padding: 0 0 0 0;\n",
              "      width: 32px;\n",
              "    }\n",
              "\n",
              "    .colab-df-convert:hover {\n",
              "      background-color: #E2EBFA;\n",
              "      box-shadow: 0px 1px 2px rgba(60, 64, 67, 0.3), 0px 1px 3px 1px rgba(60, 64, 67, 0.15);\n",
              "      fill: #174EA6;\n",
              "    }\n",
              "\n",
              "    [theme=dark] .colab-df-convert {\n",
              "      background-color: #3B4455;\n",
              "      fill: #D2E3FC;\n",
              "    }\n",
              "\n",
              "    [theme=dark] .colab-df-convert:hover {\n",
              "      background-color: #434B5C;\n",
              "      box-shadow: 0px 1px 3px 1px rgba(0, 0, 0, 0.15);\n",
              "      filter: drop-shadow(0px 1px 2px rgba(0, 0, 0, 0.3));\n",
              "      fill: #FFFFFF;\n",
              "    }\n",
              "  </style>\n",
              "\n",
              "      <script>\n",
              "        const buttonEl =\n",
              "          document.querySelector('#df-74426ca7-f828-49d8-a7e8-3f0aa9ce09f4 button.colab-df-convert');\n",
              "        buttonEl.style.display =\n",
              "          google.colab.kernel.accessAllowed ? 'block' : 'none';\n",
              "\n",
              "        async function convertToInteractive(key) {\n",
              "          const element = document.querySelector('#df-74426ca7-f828-49d8-a7e8-3f0aa9ce09f4');\n",
              "          const dataTable =\n",
              "            await google.colab.kernel.invokeFunction('convertToInteractive',\n",
              "                                                     [key], {});\n",
              "          if (!dataTable) return;\n",
              "\n",
              "          const docLinkHtml = 'Like what you see? Visit the ' +\n",
              "            '<a target=\"_blank\" href=https://colab.research.google.com/notebooks/data_table.ipynb>data table notebook</a>'\n",
              "            + ' to learn more about interactive tables.';\n",
              "          element.innerHTML = '';\n",
              "          dataTable['output_type'] = 'display_data';\n",
              "          await google.colab.output.renderOutput(dataTable, element);\n",
              "          const docLink = document.createElement('div');\n",
              "          docLink.innerHTML = docLinkHtml;\n",
              "          element.appendChild(docLink);\n",
              "        }\n",
              "      </script>\n",
              "    </div>\n",
              "  </div>\n"
            ],
            "text/plain": [
              "                  std          var         mean          min          max\n",
              "         critic_score critic_score critic_score critic_score critic_score\n",
              "genre                                                                    \n",
              "Fighting    14.632860   214.120583    68.539623         23.0         98.0\n",
              "Strategy    11.970905   143.302556    72.117647         35.0         94.0"
            ]
          },
          "execution_count": 98,
          "metadata": {},
          "output_type": "execute_result"
        }
      ],
      "source": [
        "df_critic = df.dropna(subset=['critic_score'])\n",
        "df_critic = df_critic.dropna(subset=['critic_score'])\n",
        "df_critic['critic_score'].isna().sum()\n",
        "selected_critic = ['Strategy', 'Fighting']\n",
        "table3 = df_critic.query('genre in @selected_critic')\n",
        "table3 = table3.pivot_table(index = 'genre', values='critic_score', aggfunc=['std', 'var','mean', 'min', 'max'])\n",
        "table3"
      ]
    },
    {
      "cell_type": "markdown",
      "metadata": {
        "id": "nrq7SRJdzHIg"
      },
      "source": [
        "### Гипотеза 1\n",
        "\n",
        "Нулевой гипотезой будет гипотеза о том, что средние пользовательские рейтинги платформ одинаковые;\n",
        "\n",
        "Альтернативной гипотезой будет гипотеза о том, что среднии пользовательские рейтинги платформ различаются\";\n",
        "\n",
        "Используем метод \"Тест Стьюдента\";\n",
        "\n",
        "Критический уровень значимости зададим 0.05."
      ]
    },
    {
      "cell_type": "code",
      "execution_count": null,
      "metadata": {
        "colab": {
          "base_uri": "https://localhost:8080/"
        },
        "id": "SopoHUmlzHIg",
        "outputId": "42f3d719-9548-43d2-8f5a-9a22b7f6aab3"
      },
      "outputs": [
        {
          "name": "stdout",
          "output_type": "stream",
          "text": [
            "Результаты t-теста:\n",
            "t-статистика -1.654818474897903\n",
            "p-значение: 0.09855333926274583\n",
            "Не отвергаем нулевую гипотезу. Нет оснований считать средние рейтинги различными\n"
          ]
        },
        {
          "name": "stderr",
          "output_type": "stream",
          "text": [
            "<ipython-input-74-fc672736f173>:2: SettingWithCopyWarning: \n",
            "A value is trying to be set on a copy of a slice from a DataFrame\n",
            "\n",
            "See the caveats in the documentation: https://pandas.pydata.org/pandas-docs/stable/user_guide/indexing.html#returning-a-view-versus-a-copy\n",
            "  xbox_one_ratings.fillna(xbox_one_ratings.mean(), inplace=True)\n",
            "<ipython-input-74-fc672736f173>:5: SettingWithCopyWarning: \n",
            "A value is trying to be set on a copy of a slice from a DataFrame\n",
            "\n",
            "See the caveats in the documentation: https://pandas.pydata.org/pandas-docs/stable/user_guide/indexing.html#returning-a-view-versus-a-copy\n",
            "  pc_ratings.fillna(xbox_one_ratings.mean(), inplace=True)\n"
          ]
        }
      ],
      "source": [
        "xbox_one_ratings = df[df['platform'] == 'XOne']['user_score']\n",
        "xbox_one_ratings.fillna(xbox_one_ratings.mean(), inplace=True)\n",
        "\n",
        "pc_ratings = df[df['platform'] == 'PC']['user_score']\n",
        "pc_ratings.fillna(xbox_one_ratings.mean(), inplace=True)\n",
        "\n",
        "#Если параметрика:\n",
        "if xbox_one_ratings.mean() > 0 and pc_ratings.mean() > 0:\n",
        "  t_stat, p_value = ttest_ind(xbox_one_ratings, pc_ratings)\n",
        "  print('Результаты t-теста:')\n",
        "  print('t-статистика', t_stat)\n",
        "  print('p-значение:', p_value)\n",
        "else:\n",
        "#Если непараметрика:\n",
        "  stat, p_value = mannwhitneyu(xbox_one_ratings, pc_ratings)\n",
        "  print(\"Результаты теста Манна-Уитни:\")\n",
        "  print('Статистика', stat)\n",
        "  print('p-value:', p_value)\n",
        "\n",
        "alpha = 0.05\n",
        "if p_value < alpha:\n",
        "  print('Отвергаем нулевую гипотезу. Средние пользовательские рейтинги платформ Xbox One и PC различаются')\n",
        "else:\n",
        "  print('Не отвергаем нулевую гипотезу. Нет оснований считать средние рейтинги различными')\n"
      ]
    },
    {
      "cell_type": "markdown",
      "metadata": {
        "id": "l7f3o93bzHIg"
      },
      "source": [
        "Вывод: Коэффициент P-value говорит нам о том, что вероятность случайного совпадения вполне обоснована, т.к нет оснований отвергнуть гипотезу. Соответсвенно совпадения в средних рейтингах выбранных платформ не случайны."
      ]
    },
    {
      "cell_type": "markdown",
      "metadata": {
        "id": "_LbfATPF2sg8"
      },
      "source": [
        "### Гипотеза 2\n",
        "\n",
        "Нулевой гипотезой будет гипотеза о том, что c 1995 - 2000 год среднее предпочтение людей было больше направленно на игры с жанром 'action', чем на игры с жанром 'sport'.\n",
        "\n",
        "Альтернативной гипотезой будет гипотеза о том, что c 1995 - 2000 год среднее предпочтение людей было больше направленно на игры с жанром 'sport', чем на игры с жанром 'action'.;\n",
        "\n",
        "Используем метод \"Тест Стьюдента\";\n",
        "\n",
        "Критический уровень значимости зададим 0.05."
      ]
    },
    {
      "cell_type": "code",
      "execution_count": null,
      "metadata": {
        "colab": {
          "base_uri": "https://localhost:8080/"
        },
        "id": "NYOrakdctVrX",
        "outputId": "d608830f-085b-4c44-cf67-02e9b694083f"
      },
      "outputs": [
        {
          "name": "stdout",
          "output_type": "stream",
          "text": [
            "Результаты t-теста:\n",
            "t-статистика 1.8110953212138905\n",
            "p-значение: 0.07021652157162678\n",
            "Не отвергаем нулевую гипотезу. Среднее предпочтение людей больше направленно на игры с жанром 'action' c 1995-2000 год. \n"
          ]
        },
        {
          "name": "stderr",
          "output_type": "stream",
          "text": [
            "<ipython-input-76-11bb0e0c7763>:2: SettingWithCopyWarning: \n",
            "A value is trying to be set on a copy of a slice from a DataFrame\n",
            "\n",
            "See the caveats in the documentation: https://pandas.pydata.org/pandas-docs/stable/user_guide/indexing.html#returning-a-view-versus-a-copy\n",
            "  action.fillna(action.mean(), inplace=True)\n",
            "<ipython-input-76-11bb0e0c7763>:5: SettingWithCopyWarning: \n",
            "A value is trying to be set on a copy of a slice from a DataFrame\n",
            "\n",
            "See the caveats in the documentation: https://pandas.pydata.org/pandas-docs/stable/user_guide/indexing.html#returning-a-view-versus-a-copy\n",
            "  sport.fillna(sport.mean(), inplace=True)\n"
          ]
        }
      ],
      "source": [
        "action = df[df['genre'] == 'Action']['user_score']\n",
        "action.fillna(action.mean(), inplace=True)\n",
        "\n",
        "sport = df[df['genre'] == 'Sports']['user_score']\n",
        "sport.fillna(sport.mean(), inplace=True)\n",
        "\n",
        "#Если параметрика:\n",
        "if action.mean() > 0 and sport.mean() > 0:\n",
        "  t_stat, p_value = ttest_ind(action, sport)\n",
        "  print('Результаты t-теста:')\n",
        "  print('t-статистика', t_stat)\n",
        "  print('p-значение:', p_value)\n",
        "else:\n",
        "#Если непараметрика:\n",
        "  stat, p_value = mannwhitneyu(action, sport)\n",
        "  print(\"Результаты теста Манна-Уитни:\")\n",
        "  print('Статистика', stat)\n",
        "  print('p-value:', p_value)\n",
        "\n",
        "alpha = 0.05\n",
        "if p_value < alpha:\n",
        "  print('Отвергаем нулевую гипотезу. Среднее предпочтение людей больше направленно на игры с жанром \\'sport\\' c 1995-2000 год.')\n",
        "else:\n",
        "  print('Не отвергаем нулевую гипотезу. Среднее предпочтение людей больше направленно на игры с жанром \\'action\\' c 1995-2000 год. ')\n"
      ]
    },
    {
      "cell_type": "markdown",
      "metadata": {
        "id": "EDhnBNp27SoB"
      },
      "source": [
        "### Гипотеза 3\n",
        "\n",
        "Нулевой гипотезой будет гипотеза о том, критики поставили большую средную оценку играм из жанра 'Strategy', чем играм из жанра 'Fighting'\n",
        "\n",
        "Альтернативной гипотезой будет гипотеза о том, что критики поставили большую средную оценку играм из жанра 'Fighting', чем играм из жанра 'Strategy';\n",
        "\n",
        "Используем метод \"Тест Стьюдента\";\n",
        "\n",
        "Критический уровень значимости зададим 0.05."
      ]
    },
    {
      "cell_type": "code",
      "execution_count": null,
      "metadata": {
        "colab": {
          "base_uri": "https://localhost:8080/"
        },
        "id": "ptI7OnXV7nmH",
        "outputId": "09abe2a8-0ceb-415a-d7ea-ab2cea84b604"
      },
      "outputs": [
        {
          "name": "stdout",
          "output_type": "stream",
          "text": [
            "Результаты t-теста:\n",
            "t-статистика 2.9811786087452403\n",
            "p-значение: 0.00301107964031762\n",
            "Отвергаем нулевую гипотезу.Критики поставили большую средную оценку играм из жанра 'Fighting', чем играм из жанра 'Strategy'.\n"
          ]
        }
      ],
      "source": [
        "Strategy = df_critic[df_critic['genre'] == 'Strategy']['critic_score']\n",
        "Fighting = df_critic[df_critic['genre'] == 'Fighting']['critic_score']\n",
        "\n",
        "#Если параметрика:\n",
        "if Strategy.var() > 0 and Fighting.var() > 0:\n",
        "  t_stat, p_value = ttest_ind(Strategy, Fighting)\n",
        "  print('Результаты t-теста:')\n",
        "  print('t-статистика', t_stat)\n",
        "  print('p-значение:', p_value)\n",
        "else:\n",
        "#Если непараметрика:\n",
        "  t_stat, p_value = mannwhitneyu(Strategy, Fighting)\n",
        "  print(\"Результаты теста Манна-Уитни:\")\n",
        "  print('Статистика', stat)\n",
        "  print('p-value:', p_value)\n",
        "\n",
        "alpha = 0.05\n",
        "if p_value < alpha:\n",
        "  print('Отвергаем нулевую гипотезу.Критики поставили большую средную оценку играм из жанра \\'Fighting\\', чем играм из жанра \\'Strategy\\'.')\n",
        "else:\n",
        "  print('Не отвергаем нулевую гипотезу. Критики поставили большую средную оценку играм из жанра \\'Strategy\\', чем играм из жанра \\'Fighting\\'. ')"
      ]
    },
    {
      "cell_type": "markdown",
      "metadata": {
        "id": "o8Ik-3R1zHIg"
      },
      "source": [
        "### Общий вывод\n",
        "\n",
        "Проводя исследования по нашим поставленным выборкам, мы пришли к тому что :\n",
        "1. Средние пользовательские рейтинги платформ Xbox One и PC могут быть одинаковыми;\n",
        "2. В 2005 по 2010 годы большее предпочтение людей было направленно в сторону жанра 'Action', чем на жанр 'Sports'\n",
        "3. Критики более предпочтительны к жанру 'Fighting', чем к жанру 'Strategy'."
      ]
    },
    {
      "cell_type": "markdown",
      "metadata": {
        "id": "9QXNt72QzHIg"
      },
      "source": [
        "## Вывод проекта\n"
      ]
    },
    {
      "cell_type": "markdown",
      "metadata": {
        "id": "RUgj-Wb_zHIg"
      },
      "source": [
        "В ходе выполнения исследования мы подготовили данные, нашли и исправили ошибки в данных связанные со сдвигами, обработали типы и пропуски. Далее проанализировали развитие игровой индустрии по годам, исследовали суммарные кол-ва продаж, а так же продажи в отдельных регионах и топ лидирующих игровых жанров. После проверили пару своих гипотиз, отвергли только одну из имеющихся трёх. В целом анализ получился содержателен и может быть использован для оценки индустрии \"гейминга\" по всему миру."
      ]
    }
  ],
  "metadata": {
    "ExecuteTimeLog": [
      {
        "duration": 901,
        "start_time": "2021-06-16T10:15:14.267Z"
      },
      {
        "duration": 4,
        "start_time": "2021-06-16T10:19:32.831Z"
      },
      {
        "duration": 381,
        "start_time": "2021-06-16T10:20:50.295Z"
      },
      {
        "duration": 203,
        "start_time": "2021-06-16T10:26:52.625Z"
      },
      {
        "duration": 355,
        "start_time": "2021-06-16T10:28:09.147Z"
      },
      {
        "duration": 364,
        "start_time": "2021-06-16T10:31:53.605Z"
      },
      {
        "duration": 533,
        "start_time": "2021-06-16T10:37:14.985Z"
      },
      {
        "duration": 626,
        "start_time": "2021-06-16T10:48:21.501Z"
      },
      {
        "duration": 637,
        "start_time": "2021-06-16T10:52:57.643Z"
      },
      {
        "duration": 555,
        "start_time": "2021-06-16T10:53:37.212Z"
      },
      {
        "duration": 492,
        "start_time": "2021-06-16T10:54:18.362Z"
      },
      {
        "duration": 577,
        "start_time": "2021-06-16T10:57:55.249Z"
      },
      {
        "duration": 583,
        "start_time": "2021-06-16T11:00:05.738Z"
      },
      {
        "duration": 542,
        "start_time": "2021-06-17T02:13:50.001Z"
      },
      {
        "duration": 869,
        "start_time": "2021-06-17T02:44:07.165Z"
      },
      {
        "duration": 584,
        "start_time": "2021-06-17T02:44:08.036Z"
      },
      {
        "duration": 1141,
        "start_time": "2021-06-17T02:50:18.878Z"
      },
      {
        "duration": 767,
        "start_time": "2021-06-17T02:50:20.023Z"
      },
      {
        "duration": 957,
        "start_time": "2021-06-17T02:52:06.303Z"
      },
      {
        "duration": 18,
        "start_time": "2021-06-17T02:53:11.852Z"
      },
      {
        "duration": 53,
        "start_time": "2021-06-17T03:07:44.092Z"
      },
      {
        "duration": 46,
        "start_time": "2021-06-17T03:15:31.581Z"
      },
      {
        "duration": 58,
        "start_time": "2021-06-17T03:16:03.338Z"
      },
      {
        "duration": 8286,
        "start_time": "2021-06-17T03:19:19.475Z"
      },
      {
        "duration": 8518,
        "start_time": "2021-06-17T03:19:33.437Z"
      },
      {
        "duration": 8582,
        "start_time": "2021-06-17T03:21:18.578Z"
      },
      {
        "duration": 42,
        "start_time": "2021-06-17T03:21:47.542Z"
      },
      {
        "duration": 648,
        "start_time": "2021-06-17T03:48:44.014Z"
      },
      {
        "duration": 548,
        "start_time": "2021-06-17T03:49:03.425Z"
      },
      {
        "duration": 393,
        "start_time": "2021-06-17T03:50:13.821Z"
      },
      {
        "duration": 391,
        "start_time": "2021-06-17T03:50:25.338Z"
      },
      {
        "duration": 383,
        "start_time": "2021-06-17T03:50:45.655Z"
      },
      {
        "duration": 335,
        "start_time": "2021-06-17T03:51:12.544Z"
      },
      {
        "duration": 75,
        "start_time": "2021-06-17T03:51:20.529Z"
      },
      {
        "duration": 2435,
        "start_time": "2021-06-17T03:54:52.583Z"
      },
      {
        "duration": 49,
        "start_time": "2021-06-17T03:55:24.133Z"
      },
      {
        "duration": 51,
        "start_time": "2021-06-17T04:17:31.153Z"
      },
      {
        "duration": 48,
        "start_time": "2021-06-17T04:17:54.982Z"
      },
      {
        "duration": 47,
        "start_time": "2021-06-17T04:18:53.929Z"
      },
      {
        "duration": 872,
        "start_time": "2021-06-17T04:19:04.753Z"
      },
      {
        "duration": 574,
        "start_time": "2021-06-17T04:19:05.627Z"
      },
      {
        "duration": 162,
        "start_time": "2021-06-17T04:19:06.204Z"
      },
      {
        "duration": 46,
        "start_time": "2021-06-17T04:34:29.605Z"
      },
      {
        "duration": 50,
        "start_time": "2021-06-17T04:34:39.774Z"
      },
      {
        "duration": 54,
        "start_time": "2021-06-17T04:54:09.195Z"
      },
      {
        "duration": 114,
        "start_time": "2021-06-17T04:54:55.225Z"
      },
      {
        "duration": 50,
        "start_time": "2021-06-17T04:55:02.094Z"
      },
      {
        "duration": 467,
        "start_time": "2021-06-17T04:59:28.493Z"
      },
      {
        "duration": 362,
        "start_time": "2021-06-17T05:00:11.866Z"
      },
      {
        "duration": 43,
        "start_time": "2021-06-17T05:00:39.513Z"
      },
      {
        "duration": 573,
        "start_time": "2021-06-17T05:00:59.398Z"
      },
      {
        "duration": 128,
        "start_time": "2021-06-17T05:01:40.555Z"
      },
      {
        "duration": 402,
        "start_time": "2021-06-17T05:03:52.601Z"
      },
      {
        "duration": 385,
        "start_time": "2021-06-17T05:16:15.422Z"
      },
      {
        "duration": 360,
        "start_time": "2021-06-17T05:16:25.537Z"
      },
      {
        "duration": 554,
        "start_time": "2021-06-17T05:16:49.628Z"
      },
      {
        "duration": 471,
        "start_time": "2021-06-17T05:17:38.553Z"
      },
      {
        "duration": 403,
        "start_time": "2021-06-17T05:18:23.321Z"
      },
      {
        "duration": 630,
        "start_time": "2021-06-17T05:19:28.553Z"
      },
      {
        "duration": 484,
        "start_time": "2021-06-17T05:25:08.771Z"
      },
      {
        "duration": 450,
        "start_time": "2021-06-17T05:25:21.166Z"
      },
      {
        "duration": 83,
        "start_time": "2021-06-17T05:25:40.319Z"
      },
      {
        "duration": 57,
        "start_time": "2021-06-17T05:26:04.980Z"
      },
      {
        "duration": 362,
        "start_time": "2021-06-17T05:26:24.158Z"
      },
      {
        "duration": 873,
        "start_time": "2021-06-17T05:26:36.348Z"
      },
      {
        "duration": 661,
        "start_time": "2021-06-17T05:26:37.224Z"
      },
      {
        "duration": 189,
        "start_time": "2021-06-17T05:26:37.888Z"
      },
      {
        "duration": 1172,
        "start_time": "2021-06-17T05:27:01.970Z"
      },
      {
        "duration": 969,
        "start_time": "2021-06-17T05:27:03.146Z"
      },
      {
        "duration": 290,
        "start_time": "2021-06-17T05:27:04.119Z"
      },
      {
        "duration": 881,
        "start_time": "2021-06-17T05:27:24.552Z"
      },
      {
        "duration": 664,
        "start_time": "2021-06-17T05:27:25.437Z"
      },
      {
        "duration": 210,
        "start_time": "2021-06-17T05:27:26.104Z"
      },
      {
        "duration": 72,
        "start_time": "2021-06-17T05:27:43.140Z"
      },
      {
        "duration": 921,
        "start_time": "2021-06-17T05:28:04.790Z"
      },
      {
        "duration": 669,
        "start_time": "2021-06-17T05:28:05.714Z"
      },
      {
        "duration": 249,
        "start_time": "2021-06-17T05:28:06.385Z"
      },
      {
        "duration": 102,
        "start_time": "2021-06-17T05:28:33.160Z"
      },
      {
        "duration": 920,
        "start_time": "2021-06-17T05:29:36.036Z"
      },
      {
        "duration": 644,
        "start_time": "2021-06-17T05:29:36.959Z"
      },
      {
        "duration": 208,
        "start_time": "2021-06-17T05:29:37.606Z"
      },
      {
        "duration": 1268,
        "start_time": "2021-06-17T05:29:55.352Z"
      },
      {
        "duration": 975,
        "start_time": "2021-06-17T05:29:56.624Z"
      },
      {
        "duration": 729,
        "start_time": "2021-06-17T05:29:57.603Z"
      },
      {
        "duration": 53,
        "start_time": "2021-06-17T05:30:06.188Z"
      },
      {
        "duration": 373,
        "start_time": "2021-06-17T05:31:01.002Z"
      },
      {
        "duration": 65,
        "start_time": "2021-06-17T05:31:14.565Z"
      },
      {
        "duration": 378,
        "start_time": "2021-06-17T05:31:28.663Z"
      },
      {
        "duration": 882,
        "start_time": "2021-06-17T05:31:37.421Z"
      },
      {
        "duration": 671,
        "start_time": "2021-06-17T05:31:38.306Z"
      },
      {
        "duration": 211,
        "start_time": "2021-06-17T05:31:38.980Z"
      },
      {
        "duration": 467,
        "start_time": "2021-06-17T05:38:52.616Z"
      },
      {
        "duration": 834,
        "start_time": "2021-06-17T05:39:05.623Z"
      },
      {
        "duration": 647,
        "start_time": "2021-06-17T05:39:06.461Z"
      },
      {
        "duration": 190,
        "start_time": "2021-06-17T05:39:07.111Z"
      },
      {
        "duration": 455,
        "start_time": "2021-06-17T08:00:50.487Z"
      },
      {
        "duration": 65,
        "start_time": "2021-06-17T08:01:07.566Z"
      },
      {
        "duration": 857,
        "start_time": "2021-06-17T08:02:52.476Z"
      },
      {
        "duration": 660,
        "start_time": "2021-06-17T08:02:53.336Z"
      },
      {
        "duration": 164,
        "start_time": "2021-06-17T08:02:53.999Z"
      },
      {
        "duration": 13,
        "start_time": "2021-06-17T08:02:54.166Z"
      },
      {
        "duration": 45,
        "start_time": "2021-06-17T08:05:45.945Z"
      },
      {
        "duration": 50,
        "start_time": "2021-06-17T08:07:17.077Z"
      },
      {
        "duration": 50,
        "start_time": "2021-06-17T08:09:42.625Z"
      },
      {
        "duration": 53,
        "start_time": "2021-06-17T08:09:56.854Z"
      },
      {
        "duration": 51,
        "start_time": "2021-06-17T08:10:16.494Z"
      },
      {
        "duration": 1561,
        "start_time": "2021-06-17T08:12:52.911Z"
      },
      {
        "duration": 522,
        "start_time": "2021-06-17T08:13:16.621Z"
      },
      {
        "duration": 1529,
        "start_time": "2021-06-17T08:13:22.685Z"
      },
      {
        "duration": 766,
        "start_time": "2021-06-17T08:13:24.216Z"
      },
      {
        "duration": 155,
        "start_time": "2021-06-17T08:13:24.985Z"
      },
      {
        "duration": 193,
        "start_time": "2021-06-17T08:13:25.142Z"
      },
      {
        "duration": 171,
        "start_time": "2021-06-17T08:16:13.235Z"
      },
      {
        "duration": 250,
        "start_time": "2021-06-17T08:46:19.689Z"
      },
      {
        "duration": 233,
        "start_time": "2021-06-17T08:51:39.334Z"
      },
      {
        "duration": 227,
        "start_time": "2021-06-17T08:53:00.311Z"
      },
      {
        "duration": 241,
        "start_time": "2021-06-17T08:53:24.384Z"
      },
      {
        "duration": 224,
        "start_time": "2021-06-17T08:53:39.512Z"
      },
      {
        "duration": 227,
        "start_time": "2021-06-17T08:54:55.938Z"
      },
      {
        "duration": 328,
        "start_time": "2021-06-17T08:55:03.265Z"
      },
      {
        "duration": 246,
        "start_time": "2021-06-17T08:55:24.489Z"
      },
      {
        "duration": 248,
        "start_time": "2021-06-17T08:56:03.126Z"
      },
      {
        "duration": 691,
        "start_time": "2021-06-17T08:57:55.951Z"
      },
      {
        "duration": 334,
        "start_time": "2021-06-17T09:00:08.734Z"
      },
      {
        "duration": 299,
        "start_time": "2021-06-17T09:00:59.116Z"
      },
      {
        "duration": 427,
        "start_time": "2021-06-17T09:34:46.943Z"
      },
      {
        "duration": 1452,
        "start_time": "2021-06-17T09:35:51.287Z"
      },
      {
        "duration": 643,
        "start_time": "2021-06-17T09:35:52.742Z"
      },
      {
        "duration": 169,
        "start_time": "2021-06-17T09:35:53.387Z"
      },
      {
        "duration": 780,
        "start_time": "2021-06-17T09:35:53.563Z"
      },
      {
        "duration": 347,
        "start_time": "2021-06-17T09:37:31.108Z"
      },
      {
        "duration": 313,
        "start_time": "2021-06-17T09:39:47.298Z"
      },
      {
        "duration": 359,
        "start_time": "2021-06-17T09:49:40.921Z"
      },
      {
        "duration": 640,
        "start_time": "2021-06-17T10:01:08.098Z"
      },
      {
        "duration": 379,
        "start_time": "2021-06-17T10:01:20.540Z"
      },
      {
        "duration": 400,
        "start_time": "2021-06-17T10:35:36.877Z"
      },
      {
        "duration": 630,
        "start_time": "2021-06-17T10:43:48.508Z"
      },
      {
        "duration": 680,
        "start_time": "2021-06-17T10:44:01.782Z"
      },
      {
        "duration": 672,
        "start_time": "2021-06-17T10:44:13.021Z"
      },
      {
        "duration": 396,
        "start_time": "2021-06-17T10:45:19.324Z"
      },
      {
        "duration": 592,
        "start_time": "2021-06-17T10:45:32.654Z"
      },
      {
        "duration": 589,
        "start_time": "2021-06-17T10:45:38.338Z"
      },
      {
        "duration": 628,
        "start_time": "2021-06-17T10:47:00.421Z"
      },
      {
        "duration": 1423,
        "start_time": "2021-06-17T10:47:12.025Z"
      },
      {
        "duration": 930,
        "start_time": "2021-06-17T10:47:13.451Z"
      },
      {
        "duration": 218,
        "start_time": "2021-06-17T10:47:14.385Z"
      },
      {
        "duration": 1059,
        "start_time": "2021-06-17T10:47:14.606Z"
      },
      {
        "duration": 824,
        "start_time": "2021-06-17T10:47:26.616Z"
      },
      {
        "duration": 1048,
        "start_time": "2021-06-17T10:48:22.998Z"
      },
      {
        "duration": 631,
        "start_time": "2021-06-17T10:48:33.242Z"
      },
      {
        "duration": 678,
        "start_time": "2021-06-17T10:51:32.027Z"
      },
      {
        "duration": 654,
        "start_time": "2021-06-17T10:51:40.139Z"
      },
      {
        "duration": 753,
        "start_time": "2021-06-17T10:51:52.849Z"
      },
      {
        "duration": 430,
        "start_time": "2021-06-17T10:53:37.431Z"
      },
      {
        "duration": 1429,
        "start_time": "2021-06-17T10:53:50.211Z"
      },
      {
        "duration": 663,
        "start_time": "2021-06-17T10:53:51.643Z"
      },
      {
        "duration": 168,
        "start_time": "2021-06-17T10:53:52.308Z"
      },
      {
        "duration": 463,
        "start_time": "2021-06-17T10:53:52.479Z"
      },
      {
        "duration": 396,
        "start_time": "2021-06-17T10:53:59.237Z"
      },
      {
        "duration": 791,
        "start_time": "2021-06-17T10:54:09.763Z"
      },
      {
        "duration": 595,
        "start_time": "2021-06-17T10:54:20.090Z"
      },
      {
        "duration": 407,
        "start_time": "2021-06-17T10:54:38.206Z"
      },
      {
        "duration": 618,
        "start_time": "2021-06-17T10:55:33.678Z"
      },
      {
        "duration": 768,
        "start_time": "2021-06-17T10:56:11.989Z"
      },
      {
        "duration": 396,
        "start_time": "2021-06-17T10:56:25.936Z"
      },
      {
        "duration": 671,
        "start_time": "2021-06-17T10:57:12.491Z"
      },
      {
        "duration": 650,
        "start_time": "2021-06-17T11:01:58.545Z"
      },
      {
        "duration": 1689,
        "start_time": "2021-06-17T11:02:50.666Z"
      },
      {
        "duration": 726,
        "start_time": "2021-06-17T11:02:59.969Z"
      },
      {
        "duration": 631,
        "start_time": "2021-06-17T11:03:07.425Z"
      },
      {
        "duration": 438,
        "start_time": "2021-06-17T11:03:18.081Z"
      },
      {
        "duration": 609,
        "start_time": "2021-06-18T02:18:36.566Z"
      },
      {
        "duration": 636,
        "start_time": "2021-06-18T02:18:58.999Z"
      },
      {
        "duration": 814,
        "start_time": "2021-06-18T02:20:11.758Z"
      },
      {
        "duration": 405,
        "start_time": "2021-06-18T02:20:19.597Z"
      },
      {
        "duration": 407,
        "start_time": "2021-06-18T02:20:31.883Z"
      },
      {
        "duration": 593,
        "start_time": "2021-06-18T02:23:26.520Z"
      },
      {
        "duration": 1364,
        "start_time": "2021-06-18T02:23:42.165Z"
      },
      {
        "duration": 656,
        "start_time": "2021-06-18T02:23:43.533Z"
      },
      {
        "duration": 158,
        "start_time": "2021-06-18T02:23:44.193Z"
      },
      {
        "duration": 810,
        "start_time": "2021-06-18T02:23:44.354Z"
      },
      {
        "duration": 654,
        "start_time": "2021-06-18T02:26:40.340Z"
      },
      {
        "duration": 404,
        "start_time": "2021-06-18T02:26:49.532Z"
      },
      {
        "duration": 426,
        "start_time": "2021-06-18T02:27:01.545Z"
      },
      {
        "duration": 543,
        "start_time": "2021-06-18T02:35:23.697Z"
      },
      {
        "duration": 694,
        "start_time": "2021-06-18T02:35:33.094Z"
      },
      {
        "duration": 387,
        "start_time": "2021-06-18T02:36:58.435Z"
      },
      {
        "duration": 374,
        "start_time": "2021-06-18T02:49:07.595Z"
      },
      {
        "duration": 346,
        "start_time": "2021-06-18T02:49:52.460Z"
      },
      {
        "duration": 358,
        "start_time": "2021-06-18T02:50:06.339Z"
      },
      {
        "duration": 102,
        "start_time": "2021-06-18T02:51:53.354Z"
      },
      {
        "duration": 395,
        "start_time": "2021-06-18T02:51:58.388Z"
      },
      {
        "duration": 378,
        "start_time": "2021-06-18T03:04:04.758Z"
      },
      {
        "duration": 402,
        "start_time": "2021-06-18T03:06:01.703Z"
      },
      {
        "duration": 398,
        "start_time": "2021-06-18T03:16:27.404Z"
      },
      {
        "duration": 444,
        "start_time": "2021-06-18T05:28:56.425Z"
      },
      {
        "duration": 490,
        "start_time": "2021-06-18T05:30:27.729Z"
      },
      {
        "duration": 293,
        "start_time": "2021-06-18T05:31:05.801Z"
      },
      {
        "duration": 917,
        "start_time": "2021-06-18T05:31:19.893Z"
      },
      {
        "duration": 426,
        "start_time": "2021-06-18T05:32:26.685Z"
      },
      {
        "duration": 330,
        "start_time": "2021-06-18T05:33:13.377Z"
      },
      {
        "duration": 718,
        "start_time": "2021-06-18T07:12:13.424Z"
      },
      {
        "duration": 649,
        "start_time": "2021-06-18T07:12:21.122Z"
      },
      {
        "duration": 633,
        "start_time": "2021-06-18T07:12:32.737Z"
      },
      {
        "duration": 309,
        "start_time": "2021-06-18T07:12:42.709Z"
      },
      {
        "duration": 305,
        "start_time": "2021-06-18T07:50:15.538Z"
      },
      {
        "duration": 512,
        "start_time": "2021-06-18T07:50:44.407Z"
      },
      {
        "duration": 519,
        "start_time": "2021-06-18T07:51:25.406Z"
      },
      {
        "duration": 385,
        "start_time": "2021-06-18T08:30:06.655Z"
      },
      {
        "duration": 319,
        "start_time": "2021-06-18T08:37:36.692Z"
      },
      {
        "duration": 673,
        "start_time": "2021-06-18T08:50:27.329Z"
      },
      {
        "duration": 1470,
        "start_time": "2021-06-18T08:50:59.192Z"
      },
      {
        "duration": 668,
        "start_time": "2021-06-18T08:51:00.665Z"
      },
      {
        "duration": 160,
        "start_time": "2021-06-18T08:51:01.336Z"
      },
      {
        "duration": 966,
        "start_time": "2021-06-18T08:51:01.499Z"
      },
      {
        "duration": 477,
        "start_time": "2021-06-18T08:51:45.225Z"
      },
      {
        "duration": 754,
        "start_time": "2021-06-18T08:52:25.845Z"
      },
      {
        "duration": 655,
        "start_time": "2021-06-18T08:52:33.716Z"
      },
      {
        "duration": 752,
        "start_time": "2021-06-18T08:52:48.688Z"
      },
      {
        "duration": 619,
        "start_time": "2021-06-18T08:52:59.204Z"
      },
      {
        "duration": 331,
        "start_time": "2021-06-18T08:53:14.914Z"
      },
      {
        "duration": 316,
        "start_time": "2021-06-18T08:53:32.635Z"
      },
      {
        "duration": 767,
        "start_time": "2021-06-18T08:54:43.953Z"
      },
      {
        "duration": 1006,
        "start_time": "2021-06-18T08:54:54.738Z"
      },
      {
        "duration": 912,
        "start_time": "2021-06-18T08:57:35.937Z"
      },
      {
        "duration": 334,
        "start_time": "2021-06-18T08:57:47.089Z"
      },
      {
        "duration": 349,
        "start_time": "2021-06-18T08:57:55.403Z"
      },
      {
        "duration": 452,
        "start_time": "2021-06-18T08:58:53.521Z"
      },
      {
        "duration": 361,
        "start_time": "2021-06-18T08:59:22.395Z"
      },
      {
        "duration": 361,
        "start_time": "2021-06-18T08:59:49.195Z"
      },
      {
        "duration": 318,
        "start_time": "2021-06-18T09:00:22.535Z"
      },
      {
        "duration": 322,
        "start_time": "2021-06-18T09:00:53.632Z"
      },
      {
        "duration": 324,
        "start_time": "2021-06-18T09:01:21.307Z"
      },
      {
        "duration": 318,
        "start_time": "2021-06-18T09:01:32.108Z"
      },
      {
        "duration": 312,
        "start_time": "2021-06-18T09:02:00.139Z"
      },
      {
        "duration": 316,
        "start_time": "2021-06-18T09:02:13.535Z"
      },
      {
        "duration": 331,
        "start_time": "2021-06-18T09:02:53.015Z"
      },
      {
        "duration": 330,
        "start_time": "2021-06-18T09:03:05.949Z"
      },
      {
        "duration": 326,
        "start_time": "2021-06-18T09:03:26.383Z"
      },
      {
        "duration": 326,
        "start_time": "2021-06-18T09:03:48.691Z"
      },
      {
        "duration": 331,
        "start_time": "2021-06-18T09:04:44.612Z"
      },
      {
        "duration": 332,
        "start_time": "2021-06-18T09:20:38.306Z"
      },
      {
        "duration": 331,
        "start_time": "2021-06-18T09:21:05.085Z"
      },
      {
        "duration": 329,
        "start_time": "2021-06-18T09:21:56.259Z"
      },
      {
        "duration": 1361,
        "start_time": "2021-06-18T09:22:04.921Z"
      },
      {
        "duration": 692,
        "start_time": "2021-06-18T09:22:06.285Z"
      },
      {
        "duration": 162,
        "start_time": "2021-06-18T09:22:06.981Z"
      },
      {
        "duration": 925,
        "start_time": "2021-06-18T09:22:07.146Z"
      },
      {
        "duration": 326,
        "start_time": "2021-06-18T09:22:25.209Z"
      },
      {
        "duration": 368,
        "start_time": "2021-06-18T09:22:57.852Z"
      },
      {
        "duration": 324,
        "start_time": "2021-06-18T09:29:29.622Z"
      },
      {
        "duration": 329,
        "start_time": "2021-06-18T09:36:46.677Z"
      },
      {
        "duration": 1394,
        "start_time": "2021-06-18T09:39:01.037Z"
      },
      {
        "duration": 650,
        "start_time": "2021-06-18T09:39:02.434Z"
      },
      {
        "duration": 150,
        "start_time": "2021-06-18T09:39:03.088Z"
      },
      {
        "duration": 390,
        "start_time": "2021-06-18T09:39:03.240Z"
      },
      {
        "duration": 1050,
        "start_time": "2021-06-18T09:42:01.900Z"
      },
      {
        "duration": 332,
        "start_time": "2021-06-18T09:42:17.241Z"
      },
      {
        "duration": 365,
        "start_time": "2021-06-18T09:49:01.836Z"
      },
      {
        "duration": 347,
        "start_time": "2021-06-18T09:49:11.719Z"
      },
      {
        "duration": 361,
        "start_time": "2021-06-18T09:49:26.183Z"
      },
      {
        "duration": 740,
        "start_time": "2021-06-18T10:56:00.538Z"
      },
      {
        "duration": 1454,
        "start_time": "2021-06-18T10:56:22.473Z"
      },
      {
        "duration": 891,
        "start_time": "2021-06-18T10:56:23.930Z"
      },
      {
        "duration": 237,
        "start_time": "2021-06-18T10:56:24.825Z"
      },
      {
        "duration": 1071,
        "start_time": "2021-06-18T10:56:25.066Z"
      },
      {
        "duration": 707,
        "start_time": "2021-06-18T10:56:49.064Z"
      },
      {
        "duration": 683,
        "start_time": "2021-06-18T10:57:43.631Z"
      },
      {
        "duration": 1176,
        "start_time": "2021-06-18T10:58:05.332Z"
      },
      {
        "duration": 11064,
        "start_time": "2021-06-18T11:00:09.005Z"
      },
      {
        "duration": 1430,
        "start_time": "2021-06-18T11:01:02.821Z"
      },
      {
        "duration": 661,
        "start_time": "2021-06-18T11:01:04.255Z"
      },
      {
        "duration": 164,
        "start_time": "2021-06-18T11:01:04.919Z"
      },
      {
        "duration": 9669,
        "start_time": "2021-06-18T11:01:05.086Z"
      },
      {
        "duration": 12218,
        "start_time": "2021-06-18T11:01:59.038Z"
      },
      {
        "duration": 9511,
        "start_time": "2021-06-18T11:08:40.452Z"
      },
      {
        "duration": 724,
        "start_time": "2021-06-18T11:10:30.868Z"
      },
      {
        "duration": 8991,
        "start_time": "2021-06-18T11:11:36.026Z"
      },
      {
        "duration": 9744,
        "start_time": "2021-06-18T11:12:05.063Z"
      },
      {
        "duration": 9059,
        "start_time": "2021-06-18T11:12:31.838Z"
      },
      {
        "duration": 689,
        "start_time": "2021-06-18T11:14:15.156Z"
      },
      {
        "duration": 1214,
        "start_time": "2021-06-18T11:14:28.184Z"
      },
      {
        "duration": 8909,
        "start_time": "2021-06-18T11:14:42.158Z"
      },
      {
        "duration": 9437,
        "start_time": "2021-06-18T11:16:26.206Z"
      },
      {
        "duration": 9597,
        "start_time": "2021-06-18T11:18:48.515Z"
      },
      {
        "duration": 1409,
        "start_time": "2021-06-18T11:19:30.837Z"
      },
      {
        "duration": 681,
        "start_time": "2021-06-18T11:19:32.249Z"
      },
      {
        "duration": 157,
        "start_time": "2021-06-18T11:19:32.933Z"
      },
      {
        "duration": 9141,
        "start_time": "2021-06-18T11:19:33.092Z"
      },
      {
        "duration": 713,
        "start_time": "2021-06-18T11:26:40.794Z"
      },
      {
        "duration": 855,
        "start_time": "2021-06-18T11:27:34.633Z"
      },
      {
        "duration": 8946,
        "start_time": "2021-06-18T11:28:49.154Z"
      },
      {
        "duration": 9011,
        "start_time": "2021-06-18T11:29:29.099Z"
      },
      {
        "duration": 787,
        "start_time": "2021-06-18T11:34:27.982Z"
      },
      {
        "duration": 8829,
        "start_time": "2021-06-18T11:34:38.516Z"
      },
      {
        "duration": 8658,
        "start_time": "2021-06-18T11:36:59.827Z"
      },
      {
        "duration": 329,
        "start_time": "2021-06-18T11:37:20.374Z"
      },
      {
        "duration": 338,
        "start_time": "2021-06-18T11:38:06.778Z"
      },
      {
        "duration": 343,
        "start_time": "2021-06-18T11:38:37.303Z"
      },
      {
        "duration": 337,
        "start_time": "2021-06-18T11:39:06.708Z"
      },
      {
        "duration": 341,
        "start_time": "2021-06-18T11:39:15.280Z"
      },
      {
        "duration": 346,
        "start_time": "2021-06-18T11:39:22.066Z"
      },
      {
        "duration": 11304,
        "start_time": "2021-06-18T11:39:41.343Z"
      },
      {
        "duration": 345,
        "start_time": "2021-06-18T11:40:23.766Z"
      },
      {
        "duration": 356,
        "start_time": "2021-06-21T02:56:00.501Z"
      },
      {
        "duration": 1320,
        "start_time": "2021-06-21T02:56:22.706Z"
      },
      {
        "duration": 656,
        "start_time": "2021-06-21T02:56:24.028Z"
      },
      {
        "duration": 154,
        "start_time": "2021-06-21T02:56:24.687Z"
      },
      {
        "duration": 415,
        "start_time": "2021-06-21T02:56:24.843Z"
      },
      {
        "duration": 9335,
        "start_time": "2021-06-21T02:59:12.804Z"
      },
      {
        "duration": 9195,
        "start_time": "2021-06-21T03:05:29.767Z"
      },
      {
        "duration": 956,
        "start_time": "2021-06-21T03:08:47.689Z"
      },
      {
        "duration": 893,
        "start_time": "2021-06-21T03:09:02.125Z"
      },
      {
        "duration": 943,
        "start_time": "2021-06-21T03:09:45.692Z"
      },
      {
        "duration": 8881,
        "start_time": "2021-06-21T03:10:15.927Z"
      },
      {
        "duration": 1359,
        "start_time": "2021-06-21T03:30:49.376Z"
      },
      {
        "duration": 889,
        "start_time": "2021-06-21T03:30:50.737Z"
      },
      {
        "duration": 146,
        "start_time": "2021-06-21T03:30:51.662Z"
      },
      {
        "duration": 851,
        "start_time": "2021-06-21T03:30:51.811Z"
      },
      {
        "duration": 711,
        "start_time": "2021-06-21T03:38:34.033Z"
      },
      {
        "duration": 8790,
        "start_time": "2021-06-21T03:38:46.410Z"
      },
      {
        "duration": 8715,
        "start_time": "2021-06-21T03:40:44.873Z"
      },
      {
        "duration": 8837,
        "start_time": "2021-06-21T03:50:22.259Z"
      },
      {
        "duration": 10075,
        "start_time": "2021-06-21T03:51:22.791Z"
      },
      {
        "duration": 8791,
        "start_time": "2021-06-21T03:52:26.863Z"
      },
      {
        "duration": 8687,
        "start_time": "2021-06-21T03:58:27.946Z"
      },
      {
        "duration": 910,
        "start_time": "2021-06-21T04:02:06.742Z"
      },
      {
        "duration": 686,
        "start_time": "2021-06-21T04:02:27.149Z"
      },
      {
        "duration": 597,
        "start_time": "2021-06-21T04:09:43.826Z"
      },
      {
        "duration": 590,
        "start_time": "2021-06-21T04:11:25.904Z"
      },
      {
        "duration": 557,
        "start_time": "2021-06-21T04:12:42.382Z"
      },
      {
        "duration": 671,
        "start_time": "2021-06-21T04:13:39.775Z"
      },
      {
        "duration": 572,
        "start_time": "2021-06-21T04:19:59.211Z"
      },
      {
        "duration": 9225,
        "start_time": "2021-06-21T04:23:51.988Z"
      },
      {
        "duration": 9009,
        "start_time": "2021-06-21T04:24:36.005Z"
      },
      {
        "duration": 1327,
        "start_time": "2021-06-21T04:27:36.801Z"
      },
      {
        "duration": 656,
        "start_time": "2021-06-21T04:27:38.131Z"
      },
      {
        "duration": 161,
        "start_time": "2021-06-21T04:27:38.790Z"
      },
      {
        "duration": 10111,
        "start_time": "2021-06-21T04:27:38.953Z"
      },
      {
        "duration": 424,
        "start_time": "2021-06-21T04:32:17.446Z"
      },
      {
        "duration": 1338,
        "start_time": "2021-06-21T04:38:17.090Z"
      },
      {
        "duration": 649,
        "start_time": "2021-06-21T04:38:18.431Z"
      },
      {
        "duration": 151,
        "start_time": "2021-06-21T04:38:19.083Z"
      },
      {
        "duration": 8757,
        "start_time": "2021-06-21T04:38:19.236Z"
      },
      {
        "duration": 307,
        "start_time": "2021-06-21T04:39:01.844Z"
      },
      {
        "duration": 312,
        "start_time": "2021-06-21T04:39:07.520Z"
      },
      {
        "duration": 13,
        "start_time": "2021-06-21T04:39:29.383Z"
      },
      {
        "duration": 972,
        "start_time": "2021-06-21T04:39:47.163Z"
      },
      {
        "duration": 1054,
        "start_time": "2021-06-21T04:40:04.596Z"
      },
      {
        "duration": 5,
        "start_time": "2021-06-21T04:46:33.579Z"
      },
      {
        "duration": 29,
        "start_time": "2021-06-21T04:46:45.267Z"
      },
      {
        "duration": 29,
        "start_time": "2021-06-21T04:47:54.743Z"
      },
      {
        "duration": 31,
        "start_time": "2021-06-21T04:49:04.524Z"
      },
      {
        "duration": 27,
        "start_time": "2021-06-21T04:49:17.543Z"
      },
      {
        "duration": 19,
        "start_time": "2021-06-21T04:50:00.977Z"
      },
      {
        "duration": 24,
        "start_time": "2021-06-21T04:50:22.495Z"
      },
      {
        "duration": 378,
        "start_time": "2021-06-21T04:50:30.485Z"
      },
      {
        "duration": 39,
        "start_time": "2021-06-21T04:51:29.305Z"
      },
      {
        "duration": 334,
        "start_time": "2021-06-21T04:52:52.806Z"
      },
      {
        "duration": 16,
        "start_time": "2021-06-21T04:53:12.763Z"
      },
      {
        "duration": 11,
        "start_time": "2021-06-21T04:53:56.090Z"
      },
      {
        "duration": 17,
        "start_time": "2021-06-21T04:54:35.871Z"
      },
      {
        "duration": 11,
        "start_time": "2021-06-21T04:54:50.203Z"
      },
      {
        "duration": 31,
        "start_time": "2021-06-21T04:55:20.707Z"
      },
      {
        "duration": 33,
        "start_time": "2021-06-21T04:57:45.616Z"
      },
      {
        "duration": 27,
        "start_time": "2021-06-21T05:01:18.129Z"
      },
      {
        "duration": 28,
        "start_time": "2021-06-21T05:01:31.425Z"
      },
      {
        "duration": 23,
        "start_time": "2021-06-21T05:01:38.573Z"
      },
      {
        "duration": 34,
        "start_time": "2021-06-21T05:01:44.509Z"
      },
      {
        "duration": 47,
        "start_time": "2021-06-21T05:01:49.199Z"
      },
      {
        "duration": 47,
        "start_time": "2021-06-21T05:01:55.696Z"
      },
      {
        "duration": 24,
        "start_time": "2021-06-21T05:02:06.332Z"
      },
      {
        "duration": 416,
        "start_time": "2021-06-21T05:02:13.187Z"
      },
      {
        "duration": 345,
        "start_time": "2021-06-21T05:02:28.445Z"
      },
      {
        "duration": 382,
        "start_time": "2021-06-21T05:02:39.738Z"
      },
      {
        "duration": 343,
        "start_time": "2021-06-21T05:02:43.882Z"
      },
      {
        "duration": 354,
        "start_time": "2021-06-21T05:02:51.052Z"
      },
      {
        "duration": 1365,
        "start_time": "2021-06-21T05:03:03.062Z"
      },
      {
        "duration": 649,
        "start_time": "2021-06-21T05:03:04.429Z"
      },
      {
        "duration": 162,
        "start_time": "2021-06-21T05:03:05.081Z"
      },
      {
        "duration": 44,
        "start_time": "2021-06-21T05:03:05.246Z"
      },
      {
        "duration": 1063,
        "start_time": "2021-06-21T05:03:05.292Z"
      },
      {
        "duration": 405,
        "start_time": "2021-06-21T05:03:06.357Z"
      },
      {
        "duration": 30,
        "start_time": "2021-06-21T05:03:15.170Z"
      },
      {
        "duration": 29,
        "start_time": "2021-06-21T05:03:18.980Z"
      },
      {
        "duration": 6,
        "start_time": "2021-06-21T05:03:24.848Z"
      },
      {
        "duration": 6,
        "start_time": "2021-06-21T05:03:30.813Z"
      },
      {
        "duration": 1368,
        "start_time": "2021-06-21T05:04:14.869Z"
      },
      {
        "duration": 638,
        "start_time": "2021-06-21T05:04:16.239Z"
      },
      {
        "duration": 154,
        "start_time": "2021-06-21T05:04:16.880Z"
      },
      {
        "duration": 38,
        "start_time": "2021-06-21T05:04:17.037Z"
      },
      {
        "duration": 1057,
        "start_time": "2021-06-21T05:04:17.078Z"
      },
      {
        "duration": 6,
        "start_time": "2021-06-21T05:04:18.138Z"
      },
      {
        "duration": 27,
        "start_time": "2021-06-21T05:04:23.328Z"
      },
      {
        "duration": 28,
        "start_time": "2021-06-21T05:04:32.428Z"
      },
      {
        "duration": 26,
        "start_time": "2021-06-21T05:04:39.617Z"
      },
      {
        "duration": 1664,
        "start_time": "2021-06-21T05:06:11.156Z"
      },
      {
        "duration": 677,
        "start_time": "2021-06-21T05:06:12.823Z"
      },
      {
        "duration": 158,
        "start_time": "2021-06-21T05:06:13.503Z"
      },
      {
        "duration": 35,
        "start_time": "2021-06-21T05:06:13.664Z"
      },
      {
        "duration": 1060,
        "start_time": "2021-06-21T05:06:13.701Z"
      },
      {
        "duration": 28,
        "start_time": "2021-06-21T05:06:14.764Z"
      },
      {
        "duration": 29,
        "start_time": "2021-06-21T05:06:26.754Z"
      },
      {
        "duration": 29,
        "start_time": "2021-06-21T05:06:37.760Z"
      },
      {
        "duration": 1327,
        "start_time": "2021-06-21T05:14:57.602Z"
      },
      {
        "duration": 657,
        "start_time": "2021-06-21T05:14:58.932Z"
      },
      {
        "duration": 164,
        "start_time": "2021-06-21T05:14:59.593Z"
      },
      {
        "duration": 1043,
        "start_time": "2021-06-21T05:14:59.762Z"
      },
      {
        "duration": 32,
        "start_time": "2021-06-21T05:15:00.808Z"
      },
      {
        "duration": 584,
        "start_time": "2021-06-21T05:15:38.417Z"
      },
      {
        "duration": 82,
        "start_time": "2021-06-21T07:14:08.488Z"
      },
      {
        "duration": 63,
        "start_time": "2021-06-21T07:16:06.758Z"
      },
      {
        "duration": 1409,
        "start_time": "2021-06-21T07:46:52.121Z"
      },
      {
        "duration": 594,
        "start_time": "2021-06-21T07:46:53.533Z"
      },
      {
        "duration": 133,
        "start_time": "2021-06-21T07:46:54.130Z"
      },
      {
        "duration": 373,
        "start_time": "2021-06-21T07:46:54.266Z"
      },
      {
        "duration": 715,
        "start_time": "2021-06-21T07:46:54.641Z"
      },
      {
        "duration": 55,
        "start_time": "2021-06-21T07:46:55.362Z"
      },
      {
        "duration": 54,
        "start_time": "2021-06-21T07:51:20.965Z"
      },
      {
        "duration": 66,
        "start_time": "2021-06-21T07:52:40.292Z"
      },
      {
        "duration": 1491,
        "start_time": "2021-06-21T07:53:27.337Z"
      },
      {
        "duration": 590,
        "start_time": "2021-06-21T07:53:28.831Z"
      },
      {
        "duration": 158,
        "start_time": "2021-06-21T07:53:29.424Z"
      },
      {
        "duration": 367,
        "start_time": "2021-06-21T07:53:29.585Z"
      },
      {
        "duration": 707,
        "start_time": "2021-06-21T07:53:29.955Z"
      },
      {
        "duration": 63,
        "start_time": "2021-06-21T07:53:30.664Z"
      },
      {
        "duration": 1429,
        "start_time": "2021-06-21T07:54:26.745Z"
      },
      {
        "duration": 589,
        "start_time": "2021-06-21T07:54:28.177Z"
      },
      {
        "duration": 160,
        "start_time": "2021-06-21T07:54:28.769Z"
      },
      {
        "duration": 382,
        "start_time": "2021-06-21T07:54:28.931Z"
      },
      {
        "duration": 710,
        "start_time": "2021-06-21T07:54:29.315Z"
      },
      {
        "duration": 71,
        "start_time": "2021-06-21T07:54:30.028Z"
      },
      {
        "duration": 515,
        "start_time": "2021-06-21T09:23:04.747Z"
      },
      {
        "duration": 754,
        "start_time": "2021-06-21T09:23:11.835Z"
      },
      {
        "duration": 993,
        "start_time": "2021-06-21T09:23:25.501Z"
      },
      {
        "duration": 665,
        "start_time": "2021-06-21T09:23:37.441Z"
      },
      {
        "duration": 679,
        "start_time": "2021-06-21T09:24:06.586Z"
      },
      {
        "duration": 428,
        "start_time": "2021-06-21T09:24:09.113Z"
      },
      {
        "duration": 79,
        "start_time": "2021-06-21T09:24:18.377Z"
      },
      {
        "duration": 1438,
        "start_time": "2021-06-21T09:27:50.790Z"
      },
      {
        "duration": 590,
        "start_time": "2021-06-21T09:27:52.230Z"
      },
      {
        "duration": 156,
        "start_time": "2021-06-21T09:27:52.823Z"
      },
      {
        "duration": 379,
        "start_time": "2021-06-21T09:27:52.982Z"
      },
      {
        "duration": 713,
        "start_time": "2021-06-21T09:27:53.364Z"
      },
      {
        "duration": 83,
        "start_time": "2021-06-21T09:27:54.079Z"
      },
      {
        "duration": 692,
        "start_time": "2021-06-21T09:27:54.164Z"
      },
      {
        "duration": 100,
        "start_time": "2021-06-21T09:27:54.863Z"
      },
      {
        "duration": 81,
        "start_time": "2021-06-21T09:28:03.600Z"
      },
      {
        "duration": 1833,
        "start_time": "2021-06-21T09:28:09.712Z"
      },
      {
        "duration": 583,
        "start_time": "2021-06-21T09:28:11.549Z"
      },
      {
        "duration": 156,
        "start_time": "2021-06-21T09:28:12.136Z"
      },
      {
        "duration": 481,
        "start_time": "2021-06-21T09:28:12.295Z"
      },
      {
        "duration": 768,
        "start_time": "2021-06-21T09:28:12.779Z"
      },
      {
        "duration": 71,
        "start_time": "2021-06-21T09:28:13.549Z"
      },
      {
        "duration": 709,
        "start_time": "2021-06-21T09:28:13.622Z"
      },
      {
        "duration": 90,
        "start_time": "2021-06-21T09:28:14.334Z"
      },
      {
        "duration": 1345,
        "start_time": "2021-06-21T09:29:03.292Z"
      },
      {
        "duration": 574,
        "start_time": "2021-06-21T09:29:04.640Z"
      },
      {
        "duration": 154,
        "start_time": "2021-06-21T09:29:05.216Z"
      },
      {
        "duration": 373,
        "start_time": "2021-06-21T09:29:05.372Z"
      },
      {
        "duration": 710,
        "start_time": "2021-06-21T09:29:05.748Z"
      },
      {
        "duration": 684,
        "start_time": "2021-06-21T09:29:06.463Z"
      },
      {
        "duration": 88,
        "start_time": "2021-06-21T09:29:07.151Z"
      },
      {
        "duration": 501,
        "start_time": "2021-06-21T09:50:10.890Z"
      },
      {
        "duration": 378,
        "start_time": "2021-06-21T09:50:19.878Z"
      },
      {
        "duration": 993,
        "start_time": "2021-06-21T09:50:54.177Z"
      },
      {
        "duration": 1408,
        "start_time": "2021-06-21T09:51:29.015Z"
      },
      {
        "duration": 592,
        "start_time": "2021-06-21T09:51:30.425Z"
      },
      {
        "duration": 167,
        "start_time": "2021-06-21T09:51:31.020Z"
      },
      {
        "duration": 374,
        "start_time": "2021-06-21T09:51:31.189Z"
      },
      {
        "duration": 685,
        "start_time": "2021-06-21T09:51:31.565Z"
      },
      {
        "duration": 648,
        "start_time": "2021-06-21T09:51:32.252Z"
      },
      {
        "duration": 671,
        "start_time": "2021-06-21T09:51:32.902Z"
      },
      {
        "duration": 96,
        "start_time": "2021-06-21T09:51:33.577Z"
      },
      {
        "duration": 129,
        "start_time": "2021-06-21T10:18:08.569Z"
      },
      {
        "duration": 800,
        "start_time": "2021-06-21T10:43:30.390Z"
      },
      {
        "duration": 379,
        "start_time": "2021-06-21T10:56:06.658Z"
      },
      {
        "duration": 697,
        "start_time": "2021-06-21T10:56:45.120Z"
      },
      {
        "duration": 98,
        "start_time": "2021-06-21T10:56:51.629Z"
      },
      {
        "duration": 685,
        "start_time": "2021-06-21T10:57:33.078Z"
      },
      {
        "duration": 92,
        "start_time": "2021-06-21T10:57:36.824Z"
      },
      {
        "duration": 6919,
        "start_time": "2021-06-21T11:02:34.877Z"
      },
      {
        "duration": 104,
        "start_time": "2021-06-21T11:02:41.800Z"
      },
      {
        "duration": 812,
        "start_time": "2021-06-21T11:03:28.983Z"
      },
      {
        "duration": 88,
        "start_time": "2021-06-21T11:03:29.710Z"
      },
      {
        "duration": 1011,
        "start_time": "2021-06-21T11:04:47.885Z"
      },
      {
        "duration": 5807,
        "start_time": "2021-06-21T11:05:15.238Z"
      },
      {
        "duration": 67,
        "start_time": "2021-06-21T11:05:20.982Z"
      },
      {
        "duration": 131,
        "start_time": "2021-06-21T11:07:56.474Z"
      },
      {
        "duration": 128,
        "start_time": "2021-06-21T11:08:03.243Z"
      },
      {
        "duration": 6973,
        "start_time": "2021-06-21T11:08:12.029Z"
      },
      {
        "duration": 106,
        "start_time": "2021-06-21T11:08:18.900Z"
      },
      {
        "duration": 881,
        "start_time": "2021-06-21T11:09:08.037Z"
      },
      {
        "duration": 633,
        "start_time": "2021-06-21T11:09:15.052Z"
      },
      {
        "duration": 78,
        "start_time": "2021-06-21T11:09:23.936Z"
      },
      {
        "duration": 2313,
        "start_time": "2021-06-21T11:10:09.066Z"
      },
      {
        "duration": 111,
        "start_time": "2021-06-21T11:10:11.382Z"
      },
      {
        "duration": 66,
        "start_time": "2021-06-21T11:13:20.739Z"
      },
      {
        "duration": 64,
        "start_time": "2021-06-21T11:13:20.743Z"
      },
      {
        "duration": 1737,
        "start_time": "2021-06-21T11:13:24.512Z"
      },
      {
        "duration": 828,
        "start_time": "2021-06-21T11:13:26.253Z"
      },
      {
        "duration": 224,
        "start_time": "2021-06-21T11:13:27.085Z"
      },
      {
        "duration": 542,
        "start_time": "2021-06-21T11:13:27.313Z"
      },
      {
        "duration": 1201,
        "start_time": "2021-06-21T11:13:27.858Z"
      },
      {
        "duration": 1175,
        "start_time": "2021-06-21T11:13:29.062Z"
      },
      {
        "duration": 19759,
        "start_time": "2021-06-21T11:13:30.240Z"
      },
      {
        "duration": 66,
        "start_time": "2021-06-21T11:13:49.935Z"
      },
      {
        "duration": 917,
        "start_time": "2021-06-21T11:14:13.698Z"
      },
      {
        "duration": 117,
        "start_time": "2021-06-21T11:14:14.501Z"
      },
      {
        "duration": 93,
        "start_time": "2021-06-21T11:14:50.343Z"
      },
      {
        "duration": 126,
        "start_time": "2021-06-21T11:15:10.574Z"
      },
      {
        "duration": 1350,
        "start_time": "2021-06-22T08:10:08.684Z"
      },
      {
        "duration": 590,
        "start_time": "2021-06-22T08:10:10.036Z"
      },
      {
        "duration": 164,
        "start_time": "2021-06-22T08:10:10.630Z"
      },
      {
        "duration": 383,
        "start_time": "2021-06-22T08:10:10.798Z"
      },
      {
        "duration": 712,
        "start_time": "2021-06-22T08:10:11.183Z"
      },
      {
        "duration": 683,
        "start_time": "2021-06-22T08:10:11.897Z"
      },
      {
        "duration": 709,
        "start_time": "2021-06-22T08:10:12.582Z"
      },
      {
        "duration": 99,
        "start_time": "2021-06-22T08:10:13.295Z"
      },
      {
        "duration": 460,
        "start_time": "2021-06-22T08:13:05.831Z"
      },
      {
        "duration": 1323,
        "start_time": "2021-06-22T08:15:07.611Z"
      },
      {
        "duration": 568,
        "start_time": "2021-06-22T08:15:08.937Z"
      },
      {
        "duration": 166,
        "start_time": "2021-06-22T08:15:09.509Z"
      },
      {
        "duration": 367,
        "start_time": "2021-06-22T08:15:09.678Z"
      },
      {
        "duration": 718,
        "start_time": "2021-06-22T08:15:10.048Z"
      },
      {
        "duration": 678,
        "start_time": "2021-06-22T08:15:10.768Z"
      },
      {
        "duration": 87,
        "start_time": "2021-06-22T08:15:11.448Z"
      },
      {
        "duration": 478,
        "start_time": "2021-06-22T08:16:59.769Z"
      },
      {
        "duration": 80,
        "start_time": "2021-06-22T08:17:00.684Z"
      },
      {
        "duration": 615,
        "start_time": "2021-06-22T08:17:35.860Z"
      },
      {
        "duration": 135,
        "start_time": "2021-06-22T08:17:38.257Z"
      },
      {
        "duration": 972,
        "start_time": "2021-06-22T08:18:37.993Z"
      },
      {
        "duration": 129,
        "start_time": "2021-06-22T08:18:38.969Z"
      },
      {
        "duration": 1709,
        "start_time": "2021-06-22T08:57:44.710Z"
      },
      {
        "duration": 802,
        "start_time": "2021-06-22T08:57:46.422Z"
      },
      {
        "duration": 226,
        "start_time": "2021-06-22T08:57:47.229Z"
      },
      {
        "duration": 568,
        "start_time": "2021-06-22T08:57:47.458Z"
      },
      {
        "duration": 1052,
        "start_time": "2021-06-22T08:57:48.029Z"
      },
      {
        "duration": 679,
        "start_time": "2021-06-22T08:57:49.084Z"
      },
      {
        "duration": 640,
        "start_time": "2021-06-22T08:57:49.766Z"
      },
      {
        "duration": 96,
        "start_time": "2021-06-22T08:57:50.410Z"
      },
      {
        "duration": 170,
        "start_time": "2021-06-22T09:05:38.814Z"
      },
      {
        "duration": 87,
        "start_time": "2021-06-22T09:05:51.384Z"
      },
      {
        "duration": 84,
        "start_time": "2021-06-22T09:07:37.208Z"
      },
      {
        "duration": 972,
        "start_time": "2021-06-22T09:08:33.000Z"
      },
      {
        "duration": 98,
        "start_time": "2021-06-22T09:08:33.976Z"
      },
      {
        "duration": 85,
        "start_time": "2021-06-22T09:08:45.433Z"
      },
      {
        "duration": 118,
        "start_time": "2021-06-22T10:01:59.461Z"
      },
      {
        "duration": 84,
        "start_time": "2021-06-22T10:02:06.733Z"
      },
      {
        "duration": 83,
        "start_time": "2021-06-22T10:02:43.358Z"
      },
      {
        "duration": 9,
        "start_time": "2021-06-22T10:30:07.822Z"
      },
      {
        "duration": 461,
        "start_time": "2021-06-22T10:34:25.623Z"
      },
      {
        "duration": 343,
        "start_time": "2021-06-22T10:38:49.722Z"
      },
      {
        "duration": 1307,
        "start_time": "2021-06-22T10:40:45.209Z"
      },
      {
        "duration": 570,
        "start_time": "2021-06-22T10:40:46.518Z"
      },
      {
        "duration": 158,
        "start_time": "2021-06-22T10:40:47.092Z"
      },
      {
        "duration": 375,
        "start_time": "2021-06-22T10:40:47.253Z"
      },
      {
        "duration": 809,
        "start_time": "2021-06-22T10:40:47.630Z"
      },
      {
        "duration": 667,
        "start_time": "2021-06-22T10:40:48.441Z"
      },
      {
        "duration": 954,
        "start_time": "2021-06-22T10:40:49.110Z"
      },
      {
        "duration": 4,
        "start_time": "2021-06-22T10:40:50.068Z"
      },
      {
        "duration": 1334,
        "start_time": "2021-06-23T03:12:58.178Z"
      },
      {
        "duration": 578,
        "start_time": "2021-06-23T03:12:59.515Z"
      },
      {
        "duration": 149,
        "start_time": "2021-06-23T03:13:00.096Z"
      },
      {
        "duration": 367,
        "start_time": "2021-06-23T03:13:00.248Z"
      },
      {
        "duration": 682,
        "start_time": "2021-06-23T03:13:00.618Z"
      },
      {
        "duration": 847,
        "start_time": "2021-06-23T03:13:01.302Z"
      },
      {
        "duration": 669,
        "start_time": "2021-06-23T03:13:02.154Z"
      },
      {
        "duration": 3,
        "start_time": "2021-06-23T03:13:02.827Z"
      },
      {
        "duration": 392,
        "start_time": "2021-06-23T03:55:01.819Z"
      },
      {
        "duration": 2344,
        "start_time": "2021-06-23T03:55:09.989Z"
      },
      {
        "duration": 2068,
        "start_time": "2021-06-23T03:55:21.021Z"
      },
      {
        "duration": 297,
        "start_time": "2021-06-23T03:56:05.500Z"
      },
      {
        "duration": 32,
        "start_time": "2021-06-23T04:02:28.859Z"
      },
      {
        "duration": 1002,
        "start_time": "2021-06-23T06:59:49.258Z"
      },
      {
        "duration": 445,
        "start_time": "2021-06-23T06:59:50.262Z"
      },
      {
        "duration": 106,
        "start_time": "2021-06-23T06:59:50.709Z"
      },
      {
        "duration": 236,
        "start_time": "2021-06-23T06:59:50.817Z"
      },
      {
        "duration": 380,
        "start_time": "2021-06-23T06:59:51.055Z"
      },
      {
        "duration": 350,
        "start_time": "2021-06-23T06:59:51.437Z"
      },
      {
        "duration": 297,
        "start_time": "2021-06-23T06:59:51.788Z"
      },
      {
        "duration": 1003,
        "start_time": "2021-06-23T06:59:52.088Z"
      },
      {
        "duration": 378,
        "start_time": "2021-06-23T06:59:53.092Z"
      },
      {
        "duration": 28,
        "start_time": "2021-06-23T06:59:53.471Z"
      },
      {
        "duration": 10,
        "start_time": "2021-06-23T06:59:53.500Z"
      },
      {
        "duration": 364,
        "start_time": "2021-06-23T07:00:14.193Z"
      },
      {
        "duration": 16,
        "start_time": "2021-06-23T07:01:32.828Z"
      },
      {
        "duration": 988,
        "start_time": "2021-06-23T07:07:26.176Z"
      },
      {
        "duration": 430,
        "start_time": "2021-06-23T07:07:27.166Z"
      },
      {
        "duration": 101,
        "start_time": "2021-06-23T07:07:27.598Z"
      },
      {
        "duration": 235,
        "start_time": "2021-06-23T07:07:27.700Z"
      },
      {
        "duration": 372,
        "start_time": "2021-06-23T07:07:27.936Z"
      },
      {
        "duration": 359,
        "start_time": "2021-06-23T07:07:28.310Z"
      },
      {
        "duration": 989,
        "start_time": "2021-06-23T07:07:28.670Z"
      },
      {
        "duration": 379,
        "start_time": "2021-06-23T07:07:29.661Z"
      },
      {
        "duration": 19,
        "start_time": "2021-06-23T07:07:30.042Z"
      },
      {
        "duration": 22,
        "start_time": "2021-06-23T07:07:30.063Z"
      },
      {
        "duration": 4610,
        "start_time": "2021-06-23T07:16:01.711Z"
      },
      {
        "duration": 7,
        "start_time": "2021-06-23T07:18:46.861Z"
      },
      {
        "duration": 6,
        "start_time": "2021-06-23T07:19:28.738Z"
      },
      {
        "duration": 32,
        "start_time": "2021-06-23T07:22:31.482Z"
      },
      {
        "duration": 953,
        "start_time": "2021-06-23T07:24:46.713Z"
      },
      {
        "duration": 429,
        "start_time": "2021-06-23T07:24:47.673Z"
      },
      {
        "duration": 106,
        "start_time": "2021-06-23T07:24:48.104Z"
      },
      {
        "duration": 251,
        "start_time": "2021-06-23T07:24:48.212Z"
      },
      {
        "duration": 3551,
        "start_time": "2021-06-23T07:24:48.465Z"
      },
      {
        "duration": -86,
        "start_time": "2021-06-23T07:24:52.104Z"
      },
      {
        "duration": -106,
        "start_time": "2021-06-23T07:24:52.125Z"
      },
      {
        "duration": -106,
        "start_time": "2021-06-23T07:24:52.126Z"
      },
      {
        "duration": -107,
        "start_time": "2021-06-23T07:24:52.128Z"
      },
      {
        "duration": -107,
        "start_time": "2021-06-23T07:24:52.129Z"
      },
      {
        "duration": -108,
        "start_time": "2021-06-23T07:24:52.131Z"
      },
      {
        "duration": -108,
        "start_time": "2021-06-23T07:24:52.132Z"
      },
      {
        "duration": 3218,
        "start_time": "2021-06-23T07:26:00.879Z"
      },
      {
        "duration": 936,
        "start_time": "2021-06-23T07:26:41.323Z"
      },
      {
        "duration": 430,
        "start_time": "2021-06-23T07:26:42.260Z"
      },
      {
        "duration": 104,
        "start_time": "2021-06-23T07:26:42.692Z"
      },
      {
        "duration": 248,
        "start_time": "2021-06-23T07:26:42.798Z"
      },
      {
        "duration": 3719,
        "start_time": "2021-06-23T07:26:43.047Z"
      },
      {
        "duration": -276,
        "start_time": "2021-06-23T07:26:47.045Z"
      },
      {
        "duration": -277,
        "start_time": "2021-06-23T07:26:47.046Z"
      },
      {
        "duration": -278,
        "start_time": "2021-06-23T07:26:47.048Z"
      },
      {
        "duration": -278,
        "start_time": "2021-06-23T07:26:47.049Z"
      },
      {
        "duration": -278,
        "start_time": "2021-06-23T07:26:47.050Z"
      },
      {
        "duration": -278,
        "start_time": "2021-06-23T07:26:47.051Z"
      },
      {
        "duration": -278,
        "start_time": "2021-06-23T07:26:47.052Z"
      },
      {
        "duration": 980,
        "start_time": "2021-06-23T07:27:11.780Z"
      },
      {
        "duration": 432,
        "start_time": "2021-06-23T07:27:12.762Z"
      },
      {
        "duration": 108,
        "start_time": "2021-06-23T07:27:13.196Z"
      },
      {
        "duration": 243,
        "start_time": "2021-06-23T07:27:13.305Z"
      },
      {
        "duration": 382,
        "start_time": "2021-06-23T07:27:13.550Z"
      },
      {
        "duration": 4138,
        "start_time": "2021-06-23T07:27:13.934Z"
      },
      {
        "duration": -87,
        "start_time": "2021-06-23T07:27:18.161Z"
      },
      {
        "duration": -88,
        "start_time": "2021-06-23T07:27:18.163Z"
      },
      {
        "duration": -88,
        "start_time": "2021-06-23T07:27:18.164Z"
      },
      {
        "duration": -89,
        "start_time": "2021-06-23T07:27:18.166Z"
      },
      {
        "duration": -89,
        "start_time": "2021-06-23T07:27:18.167Z"
      },
      {
        "duration": -90,
        "start_time": "2021-06-23T07:27:18.169Z"
      },
      {
        "duration": 911,
        "start_time": "2021-06-23T07:27:33.746Z"
      },
      {
        "duration": 437,
        "start_time": "2021-06-23T07:27:34.659Z"
      },
      {
        "duration": 115,
        "start_time": "2021-06-23T07:27:35.099Z"
      },
      {
        "duration": 241,
        "start_time": "2021-06-23T07:27:35.217Z"
      },
      {
        "duration": 377,
        "start_time": "2021-06-23T07:27:35.460Z"
      },
      {
        "duration": 372,
        "start_time": "2021-06-23T07:27:35.839Z"
      },
      {
        "duration": 1062,
        "start_time": "2021-06-23T07:27:36.212Z"
      },
      {
        "duration": 394,
        "start_time": "2021-06-23T07:27:37.276Z"
      },
      {
        "duration": 14,
        "start_time": "2021-06-23T07:27:37.672Z"
      },
      {
        "duration": 32,
        "start_time": "2021-06-23T07:27:37.687Z"
      },
      {
        "duration": 15,
        "start_time": "2021-06-23T07:27:37.720Z"
      },
      {
        "duration": 4,
        "start_time": "2021-06-23T07:27:37.736Z"
      },
      {
        "duration": 963,
        "start_time": "2021-06-23T07:29:09.997Z"
      },
      {
        "duration": 454,
        "start_time": "2021-06-23T07:29:10.962Z"
      },
      {
        "duration": 101,
        "start_time": "2021-06-23T07:29:11.418Z"
      },
      {
        "duration": 247,
        "start_time": "2021-06-23T07:29:11.521Z"
      },
      {
        "duration": 400,
        "start_time": "2021-06-23T07:29:11.770Z"
      },
      {
        "duration": 360,
        "start_time": "2021-06-23T07:29:12.171Z"
      },
      {
        "duration": 1007,
        "start_time": "2021-06-23T07:29:12.532Z"
      },
      {
        "duration": 364,
        "start_time": "2021-06-23T07:29:13.541Z"
      },
      {
        "duration": 6,
        "start_time": "2021-06-23T07:29:13.906Z"
      },
      {
        "duration": 34,
        "start_time": "2021-06-23T07:29:13.914Z"
      },
      {
        "duration": 15,
        "start_time": "2021-06-23T07:29:13.950Z"
      },
      {
        "duration": 2,
        "start_time": "2021-06-23T07:29:13.984Z"
      },
      {
        "duration": 32,
        "start_time": "2021-06-23T07:33:48.901Z"
      },
      {
        "duration": 982,
        "start_time": "2021-06-23T07:36:03.788Z"
      },
      {
        "duration": 440,
        "start_time": "2021-06-23T07:36:04.772Z"
      },
      {
        "duration": 106,
        "start_time": "2021-06-23T07:36:05.214Z"
      },
      {
        "duration": 240,
        "start_time": "2021-06-23T07:36:05.322Z"
      },
      {
        "duration": 416,
        "start_time": "2021-06-23T07:36:05.564Z"
      },
      {
        "duration": 367,
        "start_time": "2021-06-23T07:36:05.984Z"
      },
      {
        "duration": 1021,
        "start_time": "2021-06-23T07:36:06.352Z"
      },
      {
        "duration": 346,
        "start_time": "2021-06-23T07:36:07.375Z"
      },
      {
        "duration": 6,
        "start_time": "2021-06-23T07:36:07.723Z"
      },
      {
        "duration": 32,
        "start_time": "2021-06-23T07:36:07.730Z"
      },
      {
        "duration": 47,
        "start_time": "2021-06-23T07:36:07.763Z"
      },
      {
        "duration": 15,
        "start_time": "2021-06-23T07:36:07.812Z"
      },
      {
        "duration": 3,
        "start_time": "2021-06-23T07:36:07.829Z"
      },
      {
        "duration": 995,
        "start_time": "2021-06-23T07:41:33.368Z"
      },
      {
        "duration": 453,
        "start_time": "2021-06-23T07:41:34.365Z"
      },
      {
        "duration": 105,
        "start_time": "2021-06-23T07:41:34.820Z"
      },
      {
        "duration": 246,
        "start_time": "2021-06-23T07:41:34.927Z"
      },
      {
        "duration": 382,
        "start_time": "2021-06-23T07:41:35.175Z"
      },
      {
        "duration": 377,
        "start_time": "2021-06-23T07:41:35.559Z"
      },
      {
        "duration": 1034,
        "start_time": "2021-06-23T07:41:35.937Z"
      },
      {
        "duration": 358,
        "start_time": "2021-06-23T07:41:36.973Z"
      },
      {
        "duration": 6,
        "start_time": "2021-06-23T07:41:37.333Z"
      },
      {
        "duration": 48,
        "start_time": "2021-06-23T07:41:37.340Z"
      },
      {
        "duration": 31,
        "start_time": "2021-06-23T07:41:37.389Z"
      },
      {
        "duration": 16,
        "start_time": "2021-06-23T07:41:37.421Z"
      },
      {
        "duration": 4,
        "start_time": "2021-06-23T07:41:37.438Z"
      },
      {
        "duration": 994,
        "start_time": "2021-06-23T07:44:01.208Z"
      },
      {
        "duration": 449,
        "start_time": "2021-06-23T07:44:02.204Z"
      },
      {
        "duration": 94,
        "start_time": "2021-06-23T07:44:02.655Z"
      },
      {
        "duration": 251,
        "start_time": "2021-06-23T07:44:02.751Z"
      },
      {
        "duration": 395,
        "start_time": "2021-06-23T07:44:03.004Z"
      },
      {
        "duration": 378,
        "start_time": "2021-06-23T07:44:03.401Z"
      },
      {
        "duration": 1047,
        "start_time": "2021-06-23T07:44:03.781Z"
      },
      {
        "duration": 408,
        "start_time": "2021-06-23T07:44:04.830Z"
      },
      {
        "duration": 6,
        "start_time": "2021-06-23T07:44:05.240Z"
      },
      {
        "duration": 58,
        "start_time": "2021-06-23T07:44:05.248Z"
      },
      {
        "duration": 31,
        "start_time": "2021-06-23T07:44:05.307Z"
      },
      {
        "duration": 17,
        "start_time": "2021-06-23T07:44:05.340Z"
      },
      {
        "duration": 3,
        "start_time": "2021-06-23T07:44:05.359Z"
      },
      {
        "duration": 932,
        "start_time": "2021-06-23T07:45:56.729Z"
      },
      {
        "duration": 431,
        "start_time": "2021-06-23T07:45:57.663Z"
      },
      {
        "duration": 107,
        "start_time": "2021-06-23T07:45:58.095Z"
      },
      {
        "duration": 236,
        "start_time": "2021-06-23T07:45:58.203Z"
      },
      {
        "duration": 372,
        "start_time": "2021-06-23T07:45:58.441Z"
      },
      {
        "duration": 360,
        "start_time": "2021-06-23T07:45:58.815Z"
      },
      {
        "duration": 1055,
        "start_time": "2021-06-23T07:45:59.176Z"
      },
      {
        "duration": 374,
        "start_time": "2021-06-23T07:46:00.233Z"
      },
      {
        "duration": 6,
        "start_time": "2021-06-23T07:46:00.610Z"
      },
      {
        "duration": 41,
        "start_time": "2021-06-23T07:46:00.617Z"
      },
      {
        "duration": 45,
        "start_time": "2021-06-23T07:46:00.660Z"
      },
      {
        "duration": 18,
        "start_time": "2021-06-23T07:46:00.707Z"
      },
      {
        "duration": 8,
        "start_time": "2021-06-23T07:46:00.727Z"
      },
      {
        "duration": 286,
        "start_time": "2021-06-23T07:59:40.088Z"
      },
      {
        "duration": 203,
        "start_time": "2021-06-23T07:59:53.885Z"
      },
      {
        "duration": 3597,
        "start_time": "2021-06-23T08:00:01.461Z"
      },
      {
        "duration": 79,
        "start_time": "2021-06-23T08:01:23.697Z"
      },
      {
        "duration": 66,
        "start_time": "2021-06-23T08:01:53.452Z"
      },
      {
        "duration": 73,
        "start_time": "2021-06-23T08:02:36.186Z"
      },
      {
        "duration": 4257,
        "start_time": "2021-06-23T08:02:54.865Z"
      },
      {
        "duration": 4364,
        "start_time": "2021-06-23T08:03:49.138Z"
      },
      {
        "duration": 59,
        "start_time": "2021-06-23T08:04:44.819Z"
      },
      {
        "duration": 3368,
        "start_time": "2021-06-23T08:04:51.730Z"
      },
      {
        "duration": 67,
        "start_time": "2021-06-23T08:06:34.854Z"
      },
      {
        "duration": 68,
        "start_time": "2021-06-23T08:09:06.988Z"
      },
      {
        "duration": 3269,
        "start_time": "2021-06-23T08:10:21.250Z"
      },
      {
        "duration": 65,
        "start_time": "2021-06-23T08:10:56.438Z"
      },
      {
        "duration": 68,
        "start_time": "2021-06-23T08:11:05.047Z"
      },
      {
        "duration": 68,
        "start_time": "2021-06-23T08:11:33.229Z"
      },
      {
        "duration": 72,
        "start_time": "2021-06-23T08:17:37.259Z"
      },
      {
        "duration": 68,
        "start_time": "2021-06-23T08:20:08.515Z"
      },
      {
        "duration": 970,
        "start_time": "2021-06-23T08:23:12.285Z"
      },
      {
        "duration": 428,
        "start_time": "2021-06-23T08:23:13.257Z"
      },
      {
        "duration": 100,
        "start_time": "2021-06-23T08:23:13.687Z"
      },
      {
        "duration": 242,
        "start_time": "2021-06-23T08:23:13.789Z"
      },
      {
        "duration": 373,
        "start_time": "2021-06-23T08:23:14.033Z"
      },
      {
        "duration": 372,
        "start_time": "2021-06-23T08:23:14.408Z"
      },
      {
        "duration": 1002,
        "start_time": "2021-06-23T08:23:14.784Z"
      },
      {
        "duration": 371,
        "start_time": "2021-06-23T08:23:15.788Z"
      },
      {
        "duration": 6,
        "start_time": "2021-06-23T08:23:16.160Z"
      },
      {
        "duration": 43,
        "start_time": "2021-06-23T08:23:16.167Z"
      },
      {
        "duration": 28,
        "start_time": "2021-06-23T08:23:16.212Z"
      },
      {
        "duration": 85,
        "start_time": "2021-06-23T08:23:16.242Z"
      },
      {
        "duration": 15,
        "start_time": "2021-06-23T08:23:16.328Z"
      },
      {
        "duration": 4,
        "start_time": "2021-06-23T08:23:16.345Z"
      },
      {
        "duration": 68,
        "start_time": "2021-06-23T08:25:45.145Z"
      },
      {
        "duration": 66,
        "start_time": "2021-06-23T08:25:52.088Z"
      },
      {
        "duration": 76,
        "start_time": "2021-06-23T08:26:26.427Z"
      },
      {
        "duration": 69,
        "start_time": "2021-06-23T08:26:32.781Z"
      },
      {
        "duration": 70,
        "start_time": "2021-06-23T08:26:57.712Z"
      },
      {
        "duration": 1000,
        "start_time": "2021-06-23T08:27:53.366Z"
      },
      {
        "duration": 432,
        "start_time": "2021-06-23T08:27:54.368Z"
      },
      {
        "duration": 102,
        "start_time": "2021-06-23T08:27:54.802Z"
      },
      {
        "duration": 245,
        "start_time": "2021-06-23T08:27:54.906Z"
      },
      {
        "duration": 378,
        "start_time": "2021-06-23T08:27:55.153Z"
      },
      {
        "duration": 375,
        "start_time": "2021-06-23T08:27:55.533Z"
      },
      {
        "duration": 1035,
        "start_time": "2021-06-23T08:27:55.909Z"
      },
      {
        "duration": 389,
        "start_time": "2021-06-23T08:27:56.947Z"
      },
      {
        "duration": 6,
        "start_time": "2021-06-23T08:27:57.339Z"
      },
      {
        "duration": 51,
        "start_time": "2021-06-23T08:27:57.347Z"
      },
      {
        "duration": 29,
        "start_time": "2021-06-23T08:27:57.400Z"
      },
      {
        "duration": 3537,
        "start_time": "2021-06-23T08:27:57.431Z"
      },
      {
        "duration": -58,
        "start_time": "2021-06-23T08:28:01.027Z"
      },
      {
        "duration": -60,
        "start_time": "2021-06-23T08:28:01.030Z"
      },
      {
        "duration": 3633,
        "start_time": "2021-06-23T08:28:32.204Z"
      },
      {
        "duration": 87,
        "start_time": "2021-06-23T08:29:08.215Z"
      },
      {
        "duration": 79,
        "start_time": "2021-06-23T08:37:22.446Z"
      },
      {
        "duration": 78,
        "start_time": "2021-06-23T08:37:31.663Z"
      },
      {
        "duration": 1069,
        "start_time": "2021-06-23T08:40:20.466Z"
      },
      {
        "duration": 429,
        "start_time": "2021-06-23T08:40:21.538Z"
      },
      {
        "duration": 96,
        "start_time": "2021-06-23T08:40:21.969Z"
      },
      {
        "duration": 242,
        "start_time": "2021-06-23T08:40:22.067Z"
      },
      {
        "duration": 389,
        "start_time": "2021-06-23T08:40:22.311Z"
      },
      {
        "duration": 378,
        "start_time": "2021-06-23T08:40:22.702Z"
      },
      {
        "duration": 1106,
        "start_time": "2021-06-23T08:40:23.082Z"
      },
      {
        "duration": 403,
        "start_time": "2021-06-23T08:40:24.190Z"
      },
      {
        "duration": 6,
        "start_time": "2021-06-23T08:40:24.596Z"
      },
      {
        "duration": 32,
        "start_time": "2021-06-23T08:40:24.603Z"
      },
      {
        "duration": 54,
        "start_time": "2021-06-23T08:40:24.637Z"
      },
      {
        "duration": 92,
        "start_time": "2021-06-23T08:40:24.693Z"
      },
      {
        "duration": 2,
        "start_time": "2021-06-23T08:40:24.786Z"
      },
      {
        "duration": 19,
        "start_time": "2021-06-23T08:40:24.790Z"
      },
      {
        "duration": 3,
        "start_time": "2021-06-23T08:40:24.811Z"
      },
      {
        "duration": 541,
        "start_time": "2021-06-23T08:43:05.323Z"
      },
      {
        "duration": 34,
        "start_time": "2021-06-23T08:43:30.153Z"
      },
      {
        "duration": 1071,
        "start_time": "2021-06-23T08:47:36.765Z"
      },
      {
        "duration": 443,
        "start_time": "2021-06-23T08:47:37.837Z"
      },
      {
        "duration": 121,
        "start_time": "2021-06-23T08:47:38.284Z"
      },
      {
        "duration": 240,
        "start_time": "2021-06-23T08:47:38.407Z"
      },
      {
        "duration": 373,
        "start_time": "2021-06-23T08:47:38.649Z"
      },
      {
        "duration": 370,
        "start_time": "2021-06-23T08:47:39.025Z"
      },
      {
        "duration": 1009,
        "start_time": "2021-06-23T08:47:39.396Z"
      },
      {
        "duration": 330,
        "start_time": "2021-06-23T08:47:40.408Z"
      },
      {
        "duration": 6,
        "start_time": "2021-06-23T08:47:40.740Z"
      },
      {
        "duration": 306,
        "start_time": "2021-06-23T08:47:40.748Z"
      },
      {
        "duration": -5,
        "start_time": "2021-06-23T08:47:41.061Z"
      },
      {
        "duration": -5,
        "start_time": "2021-06-23T08:47:41.063Z"
      },
      {
        "duration": -6,
        "start_time": "2021-06-23T08:47:41.065Z"
      },
      {
        "duration": -43,
        "start_time": "2021-06-23T08:47:41.104Z"
      },
      {
        "duration": -44,
        "start_time": "2021-06-23T08:47:41.106Z"
      },
      {
        "duration": 30,
        "start_time": "2021-06-23T08:47:46.266Z"
      },
      {
        "duration": 29,
        "start_time": "2021-06-23T08:47:47.419Z"
      },
      {
        "duration": 1038,
        "start_time": "2021-06-23T08:48:51.737Z"
      },
      {
        "duration": 445,
        "start_time": "2021-06-23T08:48:52.777Z"
      },
      {
        "duration": 124,
        "start_time": "2021-06-23T08:48:53.224Z"
      },
      {
        "duration": 237,
        "start_time": "2021-06-23T08:48:53.351Z"
      },
      {
        "duration": 386,
        "start_time": "2021-06-23T08:48:53.589Z"
      },
      {
        "duration": 374,
        "start_time": "2021-06-23T08:48:53.984Z"
      },
      {
        "duration": 1052,
        "start_time": "2021-06-23T08:48:54.360Z"
      },
      {
        "duration": 54,
        "start_time": "2021-06-23T08:48:55.414Z"
      },
      {
        "duration": 17,
        "start_time": "2021-06-23T08:48:55.470Z"
      },
      {
        "duration": 274,
        "start_time": "2021-06-23T08:48:55.489Z"
      },
      {
        "duration": -44,
        "start_time": "2021-06-23T08:48:55.809Z"
      },
      {
        "duration": -48,
        "start_time": "2021-06-23T08:48:55.814Z"
      },
      {
        "duration": -50,
        "start_time": "2021-06-23T08:48:55.817Z"
      },
      {
        "duration": -53,
        "start_time": "2021-06-23T08:48:55.821Z"
      },
      {
        "duration": -56,
        "start_time": "2021-06-23T08:48:55.825Z"
      },
      {
        "duration": 1028,
        "start_time": "2021-06-23T08:49:08.314Z"
      },
      {
        "duration": 428,
        "start_time": "2021-06-23T08:49:09.344Z"
      },
      {
        "duration": 91,
        "start_time": "2021-06-23T08:49:09.774Z"
      },
      {
        "duration": 247,
        "start_time": "2021-06-23T08:49:09.867Z"
      },
      {
        "duration": 366,
        "start_time": "2021-06-23T08:49:10.115Z"
      },
      {
        "duration": 359,
        "start_time": "2021-06-23T08:49:10.484Z"
      },
      {
        "duration": 1028,
        "start_time": "2021-06-23T08:49:10.845Z"
      },
      {
        "duration": 337,
        "start_time": "2021-06-23T08:49:11.876Z"
      },
      {
        "duration": 4,
        "start_time": "2021-06-23T08:49:12.215Z"
      },
      {
        "duration": 33,
        "start_time": "2021-06-23T08:49:12.221Z"
      },
      {
        "duration": 42,
        "start_time": "2021-06-23T08:49:12.256Z"
      },
      {
        "duration": 62,
        "start_time": "2021-06-23T08:49:12.299Z"
      },
      {
        "duration": 1,
        "start_time": "2021-06-23T08:49:12.363Z"
      },
      {
        "duration": 17,
        "start_time": "2021-06-23T08:49:12.385Z"
      },
      {
        "duration": 4,
        "start_time": "2021-06-23T08:49:12.403Z"
      },
      {
        "duration": 1066,
        "start_time": "2021-06-23T08:51:37.350Z"
      },
      {
        "duration": 433,
        "start_time": "2021-06-23T08:51:38.418Z"
      },
      {
        "duration": 94,
        "start_time": "2021-06-23T08:51:38.853Z"
      },
      {
        "duration": 240,
        "start_time": "2021-06-23T08:51:38.949Z"
      },
      {
        "duration": 382,
        "start_time": "2021-06-23T08:51:39.191Z"
      },
      {
        "duration": 366,
        "start_time": "2021-06-23T08:51:39.575Z"
      },
      {
        "duration": 1030,
        "start_time": "2021-06-23T08:51:39.943Z"
      },
      {
        "duration": 326,
        "start_time": "2021-06-23T08:51:40.976Z"
      },
      {
        "duration": 6,
        "start_time": "2021-06-23T08:51:41.305Z"
      },
      {
        "duration": 28,
        "start_time": "2021-06-23T08:51:41.313Z"
      },
      {
        "duration": 53,
        "start_time": "2021-06-23T08:51:41.343Z"
      },
      {
        "duration": 63,
        "start_time": "2021-06-23T08:51:41.398Z"
      },
      {
        "duration": 2,
        "start_time": "2021-06-23T08:51:41.462Z"
      },
      {
        "duration": 15,
        "start_time": "2021-06-23T08:51:41.484Z"
      },
      {
        "duration": 3,
        "start_time": "2021-06-23T08:51:41.500Z"
      },
      {
        "duration": 576,
        "start_time": "2021-06-23T08:52:18.037Z"
      },
      {
        "duration": 302,
        "start_time": "2021-06-23T08:52:40.897Z"
      },
      {
        "duration": 313,
        "start_time": "2021-06-23T08:53:02.429Z"
      },
      {
        "duration": 6,
        "start_time": "2021-06-23T08:53:03.070Z"
      },
      {
        "duration": 31,
        "start_time": "2021-06-23T08:53:04.680Z"
      },
      {
        "duration": 30,
        "start_time": "2021-06-23T08:53:06.083Z"
      },
      {
        "duration": 69,
        "start_time": "2021-06-23T08:53:06.259Z"
      },
      {
        "duration": 2,
        "start_time": "2021-06-23T08:53:06.955Z"
      },
      {
        "duration": 15,
        "start_time": "2021-06-23T08:53:07.525Z"
      },
      {
        "duration": 3,
        "start_time": "2021-06-23T08:53:07.697Z"
      },
      {
        "duration": 1044,
        "start_time": "2021-06-23T08:53:31.490Z"
      },
      {
        "duration": 436,
        "start_time": "2021-06-23T08:53:32.536Z"
      },
      {
        "duration": 94,
        "start_time": "2021-06-23T08:53:32.974Z"
      },
      {
        "duration": 238,
        "start_time": "2021-06-23T08:53:33.069Z"
      },
      {
        "duration": 382,
        "start_time": "2021-06-23T08:53:33.309Z"
      },
      {
        "duration": 366,
        "start_time": "2021-06-23T08:53:33.693Z"
      },
      {
        "duration": 1031,
        "start_time": "2021-06-23T08:53:34.061Z"
      },
      {
        "duration": 327,
        "start_time": "2021-06-23T08:53:35.094Z"
      },
      {
        "duration": 5,
        "start_time": "2021-06-23T08:53:35.423Z"
      },
      {
        "duration": 32,
        "start_time": "2021-06-23T08:53:35.429Z"
      },
      {
        "duration": 43,
        "start_time": "2021-06-23T08:53:35.463Z"
      },
      {
        "duration": 78,
        "start_time": "2021-06-23T08:53:35.508Z"
      },
      {
        "duration": 2,
        "start_time": "2021-06-23T08:53:35.588Z"
      },
      {
        "duration": 26,
        "start_time": "2021-06-23T08:53:35.591Z"
      },
      {
        "duration": 14,
        "start_time": "2021-06-23T08:53:35.618Z"
      },
      {
        "duration": 1359,
        "start_time": "2021-06-23T08:54:50.639Z"
      },
      {
        "duration": 1763,
        "start_time": "2021-06-23T08:55:18.034Z"
      },
      {
        "duration": 1529,
        "start_time": "2021-06-23T08:55:31.332Z"
      },
      {
        "duration": 1405,
        "start_time": "2021-06-23T08:55:49.618Z"
      },
      {
        "duration": 1414,
        "start_time": "2021-06-23T08:56:08.929Z"
      },
      {
        "duration": 1320,
        "start_time": "2021-06-23T08:56:20.796Z"
      },
      {
        "duration": 1365,
        "start_time": "2021-06-23T08:56:29.551Z"
      },
      {
        "duration": 1464,
        "start_time": "2021-06-23T08:57:52.044Z"
      },
      {
        "duration": 4,
        "start_time": "2021-06-23T09:31:43.674Z"
      },
      {
        "duration": 5,
        "start_time": "2021-06-23T09:31:52.387Z"
      },
      {
        "duration": 5,
        "start_time": "2021-06-23T09:32:03.147Z"
      },
      {
        "duration": 295,
        "start_time": "2021-06-23T09:51:04.144Z"
      },
      {
        "duration": 9,
        "start_time": "2021-06-23T09:54:40.543Z"
      },
      {
        "duration": 15,
        "start_time": "2021-06-23T09:55:18.298Z"
      },
      {
        "duration": 12,
        "start_time": "2021-06-23T09:56:29.011Z"
      },
      {
        "duration": 15,
        "start_time": "2021-06-23T09:57:42.520Z"
      },
      {
        "duration": 19,
        "start_time": "2021-06-23T10:01:10.728Z"
      },
      {
        "duration": 20,
        "start_time": "2021-06-23T10:01:25.670Z"
      },
      {
        "duration": 1069,
        "start_time": "2021-06-23T10:48:14.917Z"
      },
      {
        "duration": 1089,
        "start_time": "2021-06-23T10:51:38.173Z"
      },
      {
        "duration": 437,
        "start_time": "2021-06-23T10:51:39.264Z"
      },
      {
        "duration": 127,
        "start_time": "2021-06-23T10:51:39.704Z"
      },
      {
        "duration": 254,
        "start_time": "2021-06-23T10:51:39.833Z"
      },
      {
        "duration": 378,
        "start_time": "2021-06-23T10:51:40.088Z"
      },
      {
        "duration": 367,
        "start_time": "2021-06-23T10:51:40.468Z"
      },
      {
        "duration": 1044,
        "start_time": "2021-06-23T10:51:40.837Z"
      },
      {
        "duration": 346,
        "start_time": "2021-06-23T10:51:41.884Z"
      },
      {
        "duration": 5,
        "start_time": "2021-06-23T10:51:42.231Z"
      },
      {
        "duration": 28,
        "start_time": "2021-06-23T10:51:42.238Z"
      },
      {
        "duration": 44,
        "start_time": "2021-06-23T10:51:42.267Z"
      },
      {
        "duration": 95,
        "start_time": "2021-06-23T10:51:42.313Z"
      },
      {
        "duration": 1480,
        "start_time": "2021-06-23T10:51:42.410Z"
      },
      {
        "duration": 1393,
        "start_time": "2021-06-23T10:51:43.892Z"
      },
      {
        "duration": 5,
        "start_time": "2021-06-23T10:51:45.287Z"
      },
      {
        "duration": 18,
        "start_time": "2021-06-23T10:51:45.295Z"
      },
      {
        "duration": 1077,
        "start_time": "2021-06-23T10:52:57.603Z"
      },
      {
        "duration": 1046,
        "start_time": "2021-06-23T10:53:27.239Z"
      },
      {
        "duration": 1073,
        "start_time": "2021-06-23T10:54:45.471Z"
      },
      {
        "duration": 1076,
        "start_time": "2021-06-23T10:55:26.993Z"
      },
      {
        "duration": 433,
        "start_time": "2021-06-23T10:55:28.071Z"
      },
      {
        "duration": 108,
        "start_time": "2021-06-23T10:55:28.506Z"
      },
      {
        "duration": 249,
        "start_time": "2021-06-23T10:55:28.616Z"
      },
      {
        "duration": 373,
        "start_time": "2021-06-23T10:55:28.867Z"
      },
      {
        "duration": 369,
        "start_time": "2021-06-23T10:55:29.241Z"
      },
      {
        "duration": 1083,
        "start_time": "2021-06-23T10:55:29.611Z"
      },
      {
        "duration": 341,
        "start_time": "2021-06-23T10:55:30.696Z"
      },
      {
        "duration": 8,
        "start_time": "2021-06-23T10:55:31.040Z"
      },
      {
        "duration": 50,
        "start_time": "2021-06-23T10:55:31.050Z"
      },
      {
        "duration": 29,
        "start_time": "2021-06-23T10:55:31.102Z"
      },
      {
        "duration": 89,
        "start_time": "2021-06-23T10:55:31.133Z"
      },
      {
        "duration": 1398,
        "start_time": "2021-06-23T10:55:31.224Z"
      },
      {
        "duration": 1341,
        "start_time": "2021-06-23T10:55:32.624Z"
      },
      {
        "duration": 5,
        "start_time": "2021-06-23T10:55:33.967Z"
      },
      {
        "duration": 27,
        "start_time": "2021-06-23T10:55:33.974Z"
      },
      {
        "duration": 1069,
        "start_time": "2021-06-23T10:57:58.169Z"
      },
      {
        "duration": 446,
        "start_time": "2021-06-23T10:57:59.240Z"
      },
      {
        "duration": 101,
        "start_time": "2021-06-23T10:57:59.688Z"
      },
      {
        "duration": 260,
        "start_time": "2021-06-23T10:57:59.791Z"
      },
      {
        "duration": 378,
        "start_time": "2021-06-23T10:58:00.052Z"
      },
      {
        "duration": 380,
        "start_time": "2021-06-23T10:58:00.432Z"
      },
      {
        "duration": 1078,
        "start_time": "2021-06-23T10:58:00.814Z"
      },
      {
        "duration": 348,
        "start_time": "2021-06-23T10:58:01.894Z"
      },
      {
        "duration": 5,
        "start_time": "2021-06-23T10:58:02.244Z"
      },
      {
        "duration": 40,
        "start_time": "2021-06-23T10:58:02.251Z"
      },
      {
        "duration": 28,
        "start_time": "2021-06-23T10:58:02.293Z"
      },
      {
        "duration": 87,
        "start_time": "2021-06-23T10:58:02.323Z"
      },
      {
        "duration": 1382,
        "start_time": "2021-06-23T10:58:02.412Z"
      },
      {
        "duration": 1383,
        "start_time": "2021-06-23T10:58:03.796Z"
      },
      {
        "duration": 5,
        "start_time": "2021-06-23T10:58:05.184Z"
      },
      {
        "duration": 19,
        "start_time": "2021-06-23T10:58:05.191Z"
      },
      {
        "duration": 1468,
        "start_time": "2021-06-23T11:03:55.147Z"
      },
      {
        "duration": 588,
        "start_time": "2021-06-23T11:03:56.618Z"
      },
      {
        "duration": 161,
        "start_time": "2021-06-23T11:03:57.209Z"
      },
      {
        "duration": 346,
        "start_time": "2021-06-23T11:03:57.374Z"
      },
      {
        "duration": 673,
        "start_time": "2021-06-23T11:03:57.723Z"
      },
      {
        "duration": 658,
        "start_time": "2021-06-23T11:03:58.399Z"
      },
      {
        "duration": 2303,
        "start_time": "2021-06-23T11:03:59.060Z"
      },
      {
        "duration": 594,
        "start_time": "2021-06-23T11:04:01.367Z"
      },
      {
        "duration": 7,
        "start_time": "2021-06-23T11:04:01.963Z"
      },
      {
        "duration": 49,
        "start_time": "2021-06-23T11:04:01.973Z"
      },
      {
        "duration": 66,
        "start_time": "2021-06-23T11:04:02.024Z"
      },
      {
        "duration": 124,
        "start_time": "2021-06-23T11:04:02.092Z"
      },
      {
        "duration": 2044,
        "start_time": "2021-06-23T11:04:02.218Z"
      },
      {
        "duration": 2068,
        "start_time": "2021-06-23T11:04:04.264Z"
      },
      {
        "duration": 7,
        "start_time": "2021-06-23T11:04:06.335Z"
      },
      {
        "duration": 37,
        "start_time": "2021-06-23T11:04:06.344Z"
      },
      {
        "duration": 32,
        "start_time": "2021-06-23T11:13:09.542Z"
      },
      {
        "duration": 31,
        "start_time": "2021-06-23T11:17:54.688Z"
      },
      {
        "duration": 428,
        "start_time": "2021-06-24T02:36:47.257Z"
      },
      {
        "duration": 1000,
        "start_time": "2021-06-24T02:37:00.935Z"
      },
      {
        "duration": 435,
        "start_time": "2021-06-24T02:37:01.937Z"
      },
      {
        "duration": 347,
        "start_time": "2021-06-24T02:37:02.374Z"
      },
      {
        "duration": 236,
        "start_time": "2021-06-24T02:37:02.487Z"
      },
      {
        "duration": 234,
        "start_time": "2021-06-24T02:37:02.490Z"
      },
      {
        "duration": 232,
        "start_time": "2021-06-24T02:37:02.493Z"
      },
      {
        "duration": 232,
        "start_time": "2021-06-24T02:37:02.495Z"
      },
      {
        "duration": 231,
        "start_time": "2021-06-24T02:37:02.497Z"
      },
      {
        "duration": 230,
        "start_time": "2021-06-24T02:37:02.499Z"
      },
      {
        "duration": 228,
        "start_time": "2021-06-24T02:37:02.502Z"
      },
      {
        "duration": 227,
        "start_time": "2021-06-24T02:37:02.504Z"
      },
      {
        "duration": 225,
        "start_time": "2021-06-24T02:37:02.507Z"
      },
      {
        "duration": 225,
        "start_time": "2021-06-24T02:37:02.508Z"
      },
      {
        "duration": 224,
        "start_time": "2021-06-24T02:37:02.510Z"
      },
      {
        "duration": 223,
        "start_time": "2021-06-24T02:37:02.512Z"
      },
      {
        "duration": 222,
        "start_time": "2021-06-24T02:37:02.514Z"
      },
      {
        "duration": 221,
        "start_time": "2021-06-24T02:37:02.516Z"
      },
      {
        "duration": 984,
        "start_time": "2021-06-24T02:37:28.448Z"
      },
      {
        "duration": 449,
        "start_time": "2021-06-24T02:37:29.433Z"
      },
      {
        "duration": 79,
        "start_time": "2021-06-24T02:37:29.884Z"
      },
      {
        "duration": 258,
        "start_time": "2021-06-24T02:37:29.965Z"
      },
      {
        "duration": 380,
        "start_time": "2021-06-24T02:37:30.224Z"
      },
      {
        "duration": 365,
        "start_time": "2021-06-24T02:37:30.606Z"
      },
      {
        "duration": 1021,
        "start_time": "2021-06-24T02:37:30.973Z"
      },
      {
        "duration": 320,
        "start_time": "2021-06-24T02:37:31.997Z"
      },
      {
        "duration": 20,
        "start_time": "2021-06-24T02:37:32.319Z"
      },
      {
        "duration": 4,
        "start_time": "2021-06-24T02:37:32.341Z"
      },
      {
        "duration": 50,
        "start_time": "2021-06-24T02:37:32.347Z"
      },
      {
        "duration": 29,
        "start_time": "2021-06-24T02:37:32.398Z"
      },
      {
        "duration": 88,
        "start_time": "2021-06-24T02:37:32.429Z"
      },
      {
        "duration": 1290,
        "start_time": "2021-06-24T02:37:32.519Z"
      },
      {
        "duration": 1340,
        "start_time": "2021-06-24T02:37:33.811Z"
      },
      {
        "duration": 5,
        "start_time": "2021-06-24T02:37:35.152Z"
      },
      {
        "duration": 32,
        "start_time": "2021-06-24T02:37:35.159Z"
      },
      {
        "duration": 973,
        "start_time": "2021-06-24T02:40:32.850Z"
      },
      {
        "duration": 439,
        "start_time": "2021-06-24T02:40:33.825Z"
      },
      {
        "duration": 79,
        "start_time": "2021-06-24T02:40:34.266Z"
      },
      {
        "duration": 237,
        "start_time": "2021-06-24T02:40:34.347Z"
      },
      {
        "duration": 375,
        "start_time": "2021-06-24T02:40:34.586Z"
      },
      {
        "duration": 359,
        "start_time": "2021-06-24T02:40:34.962Z"
      },
      {
        "duration": 1044,
        "start_time": "2021-06-24T02:40:35.322Z"
      },
      {
        "duration": 347,
        "start_time": "2021-06-24T02:40:36.368Z"
      },
      {
        "duration": 20,
        "start_time": "2021-06-24T02:40:36.716Z"
      },
      {
        "duration": 5,
        "start_time": "2021-06-24T02:40:36.737Z"
      },
      {
        "duration": 49,
        "start_time": "2021-06-24T02:40:36.743Z"
      },
      {
        "duration": 26,
        "start_time": "2021-06-24T02:40:36.794Z"
      },
      {
        "duration": 82,
        "start_time": "2021-06-24T02:40:36.821Z"
      },
      {
        "duration": 1300,
        "start_time": "2021-06-24T02:40:36.905Z"
      },
      {
        "duration": 1346,
        "start_time": "2021-06-24T02:40:38.208Z"
      },
      {
        "duration": 5,
        "start_time": "2021-06-24T02:40:39.555Z"
      },
      {
        "duration": 31,
        "start_time": "2021-06-24T02:40:39.562Z"
      },
      {
        "duration": 265,
        "start_time": "2021-06-24T02:56:03.837Z"
      },
      {
        "duration": 21,
        "start_time": "2021-06-24T02:56:08.998Z"
      },
      {
        "duration": 27,
        "start_time": "2021-06-24T02:56:50.512Z"
      },
      {
        "duration": 27,
        "start_time": "2021-06-24T02:57:00.239Z"
      },
      {
        "duration": 226,
        "start_time": "2021-06-24T02:57:30.161Z"
      },
      {
        "duration": 5,
        "start_time": "2021-06-24T03:07:21.686Z"
      },
      {
        "duration": 231,
        "start_time": "2021-06-24T03:07:47.343Z"
      },
      {
        "duration": 157,
        "start_time": "2021-06-24T03:08:06.167Z"
      },
      {
        "duration": 148,
        "start_time": "2021-06-24T03:08:10.537Z"
      },
      {
        "duration": 14,
        "start_time": "2021-06-24T03:08:11.103Z"
      },
      {
        "duration": 1012,
        "start_time": "2021-06-24T03:08:18.415Z"
      },
      {
        "duration": 435,
        "start_time": "2021-06-24T03:08:19.429Z"
      },
      {
        "duration": 81,
        "start_time": "2021-06-24T03:08:19.867Z"
      },
      {
        "duration": 162,
        "start_time": "2021-06-24T03:08:19.950Z"
      },
      {
        "duration": 15,
        "start_time": "2021-06-24T03:08:20.113Z"
      },
      {
        "duration": 377,
        "start_time": "2021-06-24T03:08:20.131Z"
      },
      {
        "duration": 370,
        "start_time": "2021-06-24T03:08:20.510Z"
      },
      {
        "duration": 1051,
        "start_time": "2021-06-24T03:08:20.883Z"
      },
      {
        "duration": 342,
        "start_time": "2021-06-24T03:08:21.936Z"
      },
      {
        "duration": 21,
        "start_time": "2021-06-24T03:08:22.284Z"
      },
      {
        "duration": 6,
        "start_time": "2021-06-24T03:08:22.307Z"
      },
      {
        "duration": 30,
        "start_time": "2021-06-24T03:08:22.315Z"
      },
      {
        "duration": 63,
        "start_time": "2021-06-24T03:08:22.346Z"
      },
      {
        "duration": 83,
        "start_time": "2021-06-24T03:08:22.411Z"
      },
      {
        "duration": 1361,
        "start_time": "2021-06-24T03:08:22.496Z"
      },
      {
        "duration": 1336,
        "start_time": "2021-06-24T03:08:23.859Z"
      },
      {
        "duration": 4,
        "start_time": "2021-06-24T03:08:25.197Z"
      },
      {
        "duration": 18,
        "start_time": "2021-06-24T03:08:25.203Z"
      },
      {
        "duration": 319,
        "start_time": "2021-06-24T03:09:21.742Z"
      },
      {
        "duration": 236,
        "start_time": "2021-06-24T03:09:45.395Z"
      },
      {
        "duration": 223,
        "start_time": "2021-06-24T03:12:05.351Z"
      },
      {
        "duration": 1005,
        "start_time": "2021-06-24T03:13:58.719Z"
      },
      {
        "duration": 445,
        "start_time": "2021-06-24T03:13:59.725Z"
      },
      {
        "duration": 81,
        "start_time": "2021-06-24T03:14:00.171Z"
      },
      {
        "duration": 323,
        "start_time": "2021-06-24T03:14:00.254Z"
      },
      {
        "duration": 341,
        "start_time": "2021-06-24T03:14:00.238Z"
      },
      {
        "duration": 340,
        "start_time": "2021-06-24T03:14:00.240Z"
      },
      {
        "duration": 339,
        "start_time": "2021-06-24T03:14:00.242Z"
      },
      {
        "duration": 338,
        "start_time": "2021-06-24T03:14:00.244Z"
      },
      {
        "duration": 293,
        "start_time": "2021-06-24T03:14:00.290Z"
      },
      {
        "duration": 285,
        "start_time": "2021-06-24T03:14:00.299Z"
      },
      {
        "duration": 282,
        "start_time": "2021-06-24T03:14:00.303Z"
      },
      {
        "duration": 278,
        "start_time": "2021-06-24T03:14:00.307Z"
      },
      {
        "duration": 276,
        "start_time": "2021-06-24T03:14:00.310Z"
      },
      {
        "duration": 273,
        "start_time": "2021-06-24T03:14:00.314Z"
      },
      {
        "duration": 271,
        "start_time": "2021-06-24T03:14:00.317Z"
      },
      {
        "duration": 268,
        "start_time": "2021-06-24T03:14:00.321Z"
      },
      {
        "duration": 266,
        "start_time": "2021-06-24T03:14:00.324Z"
      },
      {
        "duration": 263,
        "start_time": "2021-06-24T03:14:00.328Z"
      },
      {
        "duration": 354,
        "start_time": "2021-06-24T03:17:23.661Z"
      },
      {
        "duration": 220,
        "start_time": "2021-06-24T03:17:36.738Z"
      },
      {
        "duration": 230,
        "start_time": "2021-06-24T03:17:48.930Z"
      },
      {
        "duration": 232,
        "start_time": "2021-06-24T03:17:58.721Z"
      },
      {
        "duration": 225,
        "start_time": "2021-06-24T03:18:11.476Z"
      },
      {
        "duration": 502,
        "start_time": "2021-06-24T03:18:19.680Z"
      },
      {
        "duration": 228,
        "start_time": "2021-06-24T03:18:43.483Z"
      },
      {
        "duration": 218,
        "start_time": "2021-06-24T03:19:21.668Z"
      },
      {
        "duration": 226,
        "start_time": "2021-06-24T03:19:49.697Z"
      },
      {
        "duration": 226,
        "start_time": "2021-06-24T03:20:19.289Z"
      },
      {
        "duration": 234,
        "start_time": "2021-06-24T03:20:34.951Z"
      },
      {
        "duration": 242,
        "start_time": "2021-06-24T03:20:51.649Z"
      },
      {
        "duration": 146,
        "start_time": "2021-06-24T03:23:55.614Z"
      },
      {
        "duration": 14,
        "start_time": "2021-06-24T03:24:00.518Z"
      },
      {
        "duration": 1038,
        "start_time": "2021-06-24T03:24:18.284Z"
      },
      {
        "duration": 432,
        "start_time": "2021-06-24T03:24:19.324Z"
      },
      {
        "duration": 81,
        "start_time": "2021-06-24T03:24:19.758Z"
      },
      {
        "duration": 148,
        "start_time": "2021-06-24T03:24:19.841Z"
      },
      {
        "duration": 14,
        "start_time": "2021-06-24T03:24:19.990Z"
      },
      {
        "duration": 380,
        "start_time": "2021-06-24T03:24:20.005Z"
      },
      {
        "duration": 356,
        "start_time": "2021-06-24T03:24:20.386Z"
      },
      {
        "duration": 1024,
        "start_time": "2021-06-24T03:24:20.744Z"
      },
      {
        "duration": 334,
        "start_time": "2021-06-24T03:24:21.770Z"
      },
      {
        "duration": 20,
        "start_time": "2021-06-24T03:24:22.106Z"
      },
      {
        "duration": 5,
        "start_time": "2021-06-24T03:24:22.128Z"
      },
      {
        "duration": 52,
        "start_time": "2021-06-24T03:24:22.134Z"
      },
      {
        "duration": 27,
        "start_time": "2021-06-24T03:24:22.187Z"
      },
      {
        "duration": 84,
        "start_time": "2021-06-24T03:24:22.215Z"
      },
      {
        "duration": 1350,
        "start_time": "2021-06-24T03:24:22.301Z"
      },
      {
        "duration": 1316,
        "start_time": "2021-06-24T03:24:23.653Z"
      },
      {
        "duration": 4,
        "start_time": "2021-06-24T03:24:24.971Z"
      },
      {
        "duration": 17,
        "start_time": "2021-06-24T03:24:24.985Z"
      },
      {
        "duration": 224,
        "start_time": "2021-06-24T03:24:45.443Z"
      },
      {
        "duration": 12,
        "start_time": "2021-06-24T03:24:47.966Z"
      },
      {
        "duration": 1046,
        "start_time": "2021-06-24T03:25:04.981Z"
      },
      {
        "duration": 447,
        "start_time": "2021-06-24T03:25:06.029Z"
      },
      {
        "duration": 77,
        "start_time": "2021-06-24T03:25:06.478Z"
      },
      {
        "duration": 159,
        "start_time": "2021-06-24T03:25:06.556Z"
      },
      {
        "duration": 13,
        "start_time": "2021-06-24T03:25:06.716Z"
      },
      {
        "duration": 369,
        "start_time": "2021-06-24T03:25:06.731Z"
      },
      {
        "duration": 354,
        "start_time": "2021-06-24T03:25:07.101Z"
      },
      {
        "duration": 1045,
        "start_time": "2021-06-24T03:25:07.457Z"
      },
      {
        "duration": 332,
        "start_time": "2021-06-24T03:25:08.504Z"
      },
      {
        "duration": 18,
        "start_time": "2021-06-24T03:25:08.838Z"
      },
      {
        "duration": 4,
        "start_time": "2021-06-24T03:25:08.858Z"
      },
      {
        "duration": 43,
        "start_time": "2021-06-24T03:25:08.864Z"
      },
      {
        "duration": 27,
        "start_time": "2021-06-24T03:25:08.909Z"
      },
      {
        "duration": 86,
        "start_time": "2021-06-24T03:25:08.937Z"
      },
      {
        "duration": 1361,
        "start_time": "2021-06-24T03:25:09.024Z"
      },
      {
        "duration": 1365,
        "start_time": "2021-06-24T03:25:10.387Z"
      },
      {
        "duration": 5,
        "start_time": "2021-06-24T03:25:11.754Z"
      },
      {
        "duration": 33,
        "start_time": "2021-06-24T03:25:11.761Z"
      },
      {
        "duration": 12,
        "start_time": "2021-06-24T03:26:45.878Z"
      },
      {
        "duration": 155,
        "start_time": "2021-06-24T03:27:45.184Z"
      },
      {
        "duration": 12,
        "start_time": "2021-06-24T03:27:47.125Z"
      },
      {
        "duration": 1036,
        "start_time": "2021-06-24T03:30:10.304Z"
      },
      {
        "duration": 447,
        "start_time": "2021-06-24T03:30:11.341Z"
      },
      {
        "duration": 97,
        "start_time": "2021-06-24T03:30:11.790Z"
      },
      {
        "duration": 150,
        "start_time": "2021-06-24T03:30:11.889Z"
      },
      {
        "duration": 13,
        "start_time": "2021-06-24T03:30:12.041Z"
      },
      {
        "duration": 398,
        "start_time": "2021-06-24T03:30:12.056Z"
      },
      {
        "duration": 356,
        "start_time": "2021-06-24T03:30:12.456Z"
      },
      {
        "duration": 1013,
        "start_time": "2021-06-24T03:30:12.815Z"
      },
      {
        "duration": 340,
        "start_time": "2021-06-24T03:30:13.830Z"
      },
      {
        "duration": 23,
        "start_time": "2021-06-24T03:30:14.172Z"
      },
      {
        "duration": 5,
        "start_time": "2021-06-24T03:30:14.197Z"
      },
      {
        "duration": 30,
        "start_time": "2021-06-24T03:30:14.203Z"
      },
      {
        "duration": 52,
        "start_time": "2021-06-24T03:30:14.234Z"
      },
      {
        "duration": 64,
        "start_time": "2021-06-24T03:30:14.287Z"
      },
      {
        "duration": 1333,
        "start_time": "2021-06-24T03:30:14.353Z"
      },
      {
        "duration": 1343,
        "start_time": "2021-06-24T03:30:15.688Z"
      },
      {
        "duration": 5,
        "start_time": "2021-06-24T03:30:17.033Z"
      },
      {
        "duration": 19,
        "start_time": "2021-06-24T03:30:17.039Z"
      },
      {
        "duration": 34,
        "start_time": "2021-06-24T03:33:56.143Z"
      },
      {
        "duration": 471,
        "start_time": "2021-06-24T03:34:14.912Z"
      },
      {
        "duration": 162,
        "start_time": "2021-06-24T03:34:43.500Z"
      },
      {
        "duration": 23,
        "start_time": "2021-06-24T03:34:44.428Z"
      },
      {
        "duration": 982,
        "start_time": "2021-06-24T03:34:57.044Z"
      },
      {
        "duration": 432,
        "start_time": "2021-06-24T03:34:58.028Z"
      },
      {
        "duration": 78,
        "start_time": "2021-06-24T03:34:58.461Z"
      },
      {
        "duration": 158,
        "start_time": "2021-06-24T03:34:58.540Z"
      },
      {
        "duration": 23,
        "start_time": "2021-06-24T03:34:58.699Z"
      },
      {
        "duration": 363,
        "start_time": "2021-06-24T03:34:58.724Z"
      },
      {
        "duration": 356,
        "start_time": "2021-06-24T03:34:59.089Z"
      },
      {
        "duration": 1023,
        "start_time": "2021-06-24T03:34:59.448Z"
      },
      {
        "duration": 346,
        "start_time": "2021-06-24T03:35:00.473Z"
      },
      {
        "duration": 18,
        "start_time": "2021-06-24T03:35:00.821Z"
      },
      {
        "duration": 6,
        "start_time": "2021-06-24T03:35:00.841Z"
      },
      {
        "duration": 43,
        "start_time": "2021-06-24T03:35:00.848Z"
      },
      {
        "duration": 27,
        "start_time": "2021-06-24T03:35:00.892Z"
      },
      {
        "duration": 81,
        "start_time": "2021-06-24T03:35:00.920Z"
      },
      {
        "duration": 1594,
        "start_time": "2021-06-24T03:35:01.003Z"
      },
      {
        "duration": 1313,
        "start_time": "2021-06-24T03:35:02.598Z"
      },
      {
        "duration": 4,
        "start_time": "2021-06-24T03:35:03.913Z"
      },
      {
        "duration": 17,
        "start_time": "2021-06-24T03:35:03.918Z"
      },
      {
        "duration": 1079,
        "start_time": "2021-06-24T03:35:31.258Z"
      },
      {
        "duration": 432,
        "start_time": "2021-06-24T03:35:32.339Z"
      },
      {
        "duration": 79,
        "start_time": "2021-06-24T03:35:32.773Z"
      },
      {
        "duration": 467,
        "start_time": "2021-06-24T03:35:32.854Z"
      },
      {
        "duration": 275,
        "start_time": "2021-06-24T03:35:33.048Z"
      },
      {
        "duration": 271,
        "start_time": "2021-06-24T03:35:33.053Z"
      },
      {
        "duration": 269,
        "start_time": "2021-06-24T03:35:33.056Z"
      },
      {
        "duration": 266,
        "start_time": "2021-06-24T03:35:33.060Z"
      },
      {
        "duration": 263,
        "start_time": "2021-06-24T03:35:33.064Z"
      },
      {
        "duration": 262,
        "start_time": "2021-06-24T03:35:33.067Z"
      },
      {
        "duration": 259,
        "start_time": "2021-06-24T03:35:33.071Z"
      },
      {
        "duration": 256,
        "start_time": "2021-06-24T03:35:33.075Z"
      },
      {
        "duration": 253,
        "start_time": "2021-06-24T03:35:33.079Z"
      },
      {
        "duration": 252,
        "start_time": "2021-06-24T03:35:33.081Z"
      },
      {
        "duration": 251,
        "start_time": "2021-06-24T03:35:33.083Z"
      },
      {
        "duration": 249,
        "start_time": "2021-06-24T03:35:33.085Z"
      },
      {
        "duration": 249,
        "start_time": "2021-06-24T03:35:33.086Z"
      },
      {
        "duration": 249,
        "start_time": "2021-06-24T03:35:33.088Z"
      },
      {
        "duration": 233,
        "start_time": "2021-06-24T03:36:44.641Z"
      },
      {
        "duration": 363,
        "start_time": "2021-06-24T03:37:09.558Z"
      },
      {
        "duration": 108,
        "start_time": "2021-06-24T03:40:49.804Z"
      },
      {
        "duration": 23,
        "start_time": "2021-06-24T03:40:51.781Z"
      },
      {
        "duration": 708,
        "start_time": "2021-06-24T03:56:11.270Z"
      },
      {
        "duration": 37,
        "start_time": "2021-06-24T03:56:12.440Z"
      },
      {
        "duration": 85,
        "start_time": "2021-06-24T03:56:27.720Z"
      },
      {
        "duration": 20,
        "start_time": "2021-06-24T03:56:28.803Z"
      },
      {
        "duration": 110,
        "start_time": "2021-06-24T03:57:02.638Z"
      },
      {
        "duration": 19,
        "start_time": "2021-06-24T03:57:03.382Z"
      },
      {
        "duration": 121,
        "start_time": "2021-06-24T03:58:53.546Z"
      },
      {
        "duration": 24,
        "start_time": "2021-06-24T03:58:54.568Z"
      },
      {
        "duration": 111,
        "start_time": "2021-06-24T03:59:15.339Z"
      },
      {
        "duration": 20,
        "start_time": "2021-06-24T03:59:18.388Z"
      },
      {
        "duration": 29,
        "start_time": "2021-06-24T03:59:36.283Z"
      },
      {
        "duration": 231,
        "start_time": "2021-06-24T04:05:08.256Z"
      },
      {
        "duration": 28,
        "start_time": "2021-06-24T04:05:09.409Z"
      },
      {
        "duration": 277,
        "start_time": "2021-06-24T04:05:17.523Z"
      },
      {
        "duration": 30,
        "start_time": "2021-06-24T04:05:18.296Z"
      },
      {
        "duration": 989,
        "start_time": "2021-06-24T04:06:49.140Z"
      },
      {
        "duration": 437,
        "start_time": "2021-06-24T04:06:50.131Z"
      },
      {
        "duration": 78,
        "start_time": "2021-06-24T04:06:50.569Z"
      },
      {
        "duration": 321,
        "start_time": "2021-06-24T04:06:50.649Z"
      },
      {
        "duration": 264,
        "start_time": "2021-06-24T04:06:50.708Z"
      },
      {
        "duration": 253,
        "start_time": "2021-06-24T04:06:50.719Z"
      },
      {
        "duration": 250,
        "start_time": "2021-06-24T04:06:50.723Z"
      },
      {
        "duration": 248,
        "start_time": "2021-06-24T04:06:50.726Z"
      },
      {
        "duration": 248,
        "start_time": "2021-06-24T04:06:50.727Z"
      },
      {
        "duration": 247,
        "start_time": "2021-06-24T04:06:50.729Z"
      },
      {
        "duration": 240,
        "start_time": "2021-06-24T04:06:50.737Z"
      },
      {
        "duration": 238,
        "start_time": "2021-06-24T04:06:50.739Z"
      },
      {
        "duration": 238,
        "start_time": "2021-06-24T04:06:50.740Z"
      },
      {
        "duration": 237,
        "start_time": "2021-06-24T04:06:50.742Z"
      },
      {
        "duration": 237,
        "start_time": "2021-06-24T04:06:50.743Z"
      },
      {
        "duration": 235,
        "start_time": "2021-06-24T04:06:50.745Z"
      },
      {
        "duration": 235,
        "start_time": "2021-06-24T04:06:50.746Z"
      },
      {
        "duration": 234,
        "start_time": "2021-06-24T04:06:50.748Z"
      },
      {
        "duration": 274,
        "start_time": "2021-06-24T04:07:40.114Z"
      },
      {
        "duration": 1004,
        "start_time": "2021-06-24T04:08:08.123Z"
      },
      {
        "duration": 448,
        "start_time": "2021-06-24T04:08:09.130Z"
      },
      {
        "duration": 79,
        "start_time": "2021-06-24T04:08:09.580Z"
      },
      {
        "duration": 320,
        "start_time": "2021-06-24T04:08:09.661Z"
      },
      {
        "duration": 261,
        "start_time": "2021-06-24T04:08:09.723Z"
      },
      {
        "duration": 259,
        "start_time": "2021-06-24T04:08:09.726Z"
      },
      {
        "duration": 259,
        "start_time": "2021-06-24T04:08:09.728Z"
      },
      {
        "duration": 256,
        "start_time": "2021-06-24T04:08:09.732Z"
      },
      {
        "duration": 255,
        "start_time": "2021-06-24T04:08:09.734Z"
      },
      {
        "duration": 254,
        "start_time": "2021-06-24T04:08:09.737Z"
      },
      {
        "duration": 240,
        "start_time": "2021-06-24T04:08:09.752Z"
      },
      {
        "duration": 240,
        "start_time": "2021-06-24T04:08:09.754Z"
      },
      {
        "duration": 240,
        "start_time": "2021-06-24T04:08:09.755Z"
      },
      {
        "duration": 240,
        "start_time": "2021-06-24T04:08:09.757Z"
      },
      {
        "duration": 240,
        "start_time": "2021-06-24T04:08:09.758Z"
      },
      {
        "duration": 239,
        "start_time": "2021-06-24T04:08:09.760Z"
      },
      {
        "duration": 240,
        "start_time": "2021-06-24T04:08:09.761Z"
      },
      {
        "duration": 239,
        "start_time": "2021-06-24T04:08:09.763Z"
      },
      {
        "duration": 157,
        "start_time": "2021-06-24T04:08:45.684Z"
      },
      {
        "duration": 37,
        "start_time": "2021-06-24T04:08:46.680Z"
      },
      {
        "duration": 360,
        "start_time": "2021-06-24T04:09:32.224Z"
      },
      {
        "duration": 37,
        "start_time": "2021-06-24T04:09:32.970Z"
      },
      {
        "duration": 140,
        "start_time": "2021-06-24T04:12:42.244Z"
      },
      {
        "duration": 30,
        "start_time": "2021-06-24T04:12:42.908Z"
      },
      {
        "duration": 28,
        "start_time": "2021-06-24T04:12:59.088Z"
      },
      {
        "duration": 212,
        "start_time": "2021-06-24T04:19:15.184Z"
      },
      {
        "duration": 436,
        "start_time": "2021-06-24T04:20:59.505Z"
      },
      {
        "duration": 221,
        "start_time": "2021-06-24T04:21:00.274Z"
      },
      {
        "duration": 328,
        "start_time": "2021-06-24T04:22:11.309Z"
      },
      {
        "duration": 39,
        "start_time": "2021-06-24T04:22:11.802Z"
      },
      {
        "duration": 23,
        "start_time": "2021-06-24T04:22:23.607Z"
      },
      {
        "duration": 326,
        "start_time": "2021-06-24T04:23:24.764Z"
      },
      {
        "duration": 234,
        "start_time": "2021-06-24T04:23:24.858Z"
      },
      {
        "duration": 308,
        "start_time": "2021-06-24T04:23:43.258Z"
      },
      {
        "duration": 324,
        "start_time": "2021-06-24T04:24:12.035Z"
      },
      {
        "duration": 134,
        "start_time": "2021-06-24T04:24:33.608Z"
      },
      {
        "duration": 39,
        "start_time": "2021-06-24T04:25:00.180Z"
      },
      {
        "duration": 378,
        "start_time": "2021-06-24T04:25:56.258Z"
      },
      {
        "duration": 35,
        "start_time": "2021-06-24T04:25:56.774Z"
      },
      {
        "duration": 318,
        "start_time": "2021-06-24T04:31:49.159Z"
      },
      {
        "duration": 353,
        "start_time": "2021-06-24T04:32:04.530Z"
      },
      {
        "duration": 320,
        "start_time": "2021-06-24T04:33:59.440Z"
      },
      {
        "duration": 326,
        "start_time": "2021-06-24T04:34:19.471Z"
      },
      {
        "duration": 140,
        "start_time": "2021-06-24T04:36:11.437Z"
      },
      {
        "duration": 27,
        "start_time": "2021-06-24T04:36:24.625Z"
      },
      {
        "duration": 142,
        "start_time": "2021-06-24T04:36:48.731Z"
      },
      {
        "duration": 28,
        "start_time": "2021-06-24T04:36:49.521Z"
      },
      {
        "duration": 142,
        "start_time": "2021-06-24T04:37:17.579Z"
      },
      {
        "duration": 145,
        "start_time": "2021-06-24T04:39:00.443Z"
      },
      {
        "duration": 136,
        "start_time": "2021-06-24T04:40:27.463Z"
      },
      {
        "duration": 144,
        "start_time": "2021-06-24T04:40:54.431Z"
      },
      {
        "duration": 20,
        "start_time": "2021-06-24T04:40:59.675Z"
      },
      {
        "duration": 149,
        "start_time": "2021-06-24T04:41:19.875Z"
      },
      {
        "duration": 33,
        "start_time": "2021-06-24T04:41:20.331Z"
      },
      {
        "duration": 140,
        "start_time": "2021-06-24T04:41:44.206Z"
      },
      {
        "duration": 64,
        "start_time": "2021-06-24T04:42:09.370Z"
      },
      {
        "duration": 309,
        "start_time": "2021-06-24T04:45:31.411Z"
      },
      {
        "duration": 35,
        "start_time": "2021-06-24T04:45:32.424Z"
      },
      {
        "duration": 431,
        "start_time": "2021-06-24T04:45:43.448Z"
      },
      {
        "duration": 28,
        "start_time": "2021-06-24T04:45:44.075Z"
      },
      {
        "duration": 441,
        "start_time": "2021-06-24T04:46:07.462Z"
      },
      {
        "duration": 244,
        "start_time": "2021-06-24T04:46:07.661Z"
      },
      {
        "duration": 435,
        "start_time": "2021-06-24T04:46:49.953Z"
      },
      {
        "duration": 453,
        "start_time": "2021-06-24T04:47:14.236Z"
      },
      {
        "duration": 31,
        "start_time": "2021-06-24T04:47:15.063Z"
      },
      {
        "duration": 61,
        "start_time": "2021-06-24T04:48:13.161Z"
      },
      {
        "duration": 28,
        "start_time": "2021-06-24T04:48:13.900Z"
      },
      {
        "duration": 159,
        "start_time": "2021-06-24T04:48:23.729Z"
      },
      {
        "duration": 29,
        "start_time": "2021-06-24T04:48:24.634Z"
      },
      {
        "duration": 159,
        "start_time": "2021-06-24T04:48:54.113Z"
      },
      {
        "duration": 30,
        "start_time": "2021-06-24T04:48:54.720Z"
      },
      {
        "duration": 31,
        "start_time": "2021-06-24T04:49:08.519Z"
      },
      {
        "duration": 156,
        "start_time": "2021-06-24T04:49:25.092Z"
      },
      {
        "duration": 28,
        "start_time": "2021-06-24T04:49:25.706Z"
      },
      {
        "duration": 429,
        "start_time": "2021-06-24T04:54:44.309Z"
      },
      {
        "duration": 27,
        "start_time": "2021-06-24T04:54:44.948Z"
      },
      {
        "duration": 430,
        "start_time": "2021-06-24T04:55:13.230Z"
      },
      {
        "duration": 27,
        "start_time": "2021-06-24T04:55:13.669Z"
      },
      {
        "duration": 437,
        "start_time": "2021-06-24T04:56:26.100Z"
      },
      {
        "duration": 29,
        "start_time": "2021-06-24T04:56:26.896Z"
      },
      {
        "duration": 157,
        "start_time": "2021-06-24T04:57:24.928Z"
      },
      {
        "duration": 33,
        "start_time": "2021-06-24T04:57:25.599Z"
      },
      {
        "duration": 152,
        "start_time": "2021-06-24T04:58:47.446Z"
      },
      {
        "duration": 31,
        "start_time": "2021-06-24T04:58:48.110Z"
      },
      {
        "duration": 20,
        "start_time": "2021-06-24T04:59:36.006Z"
      },
      {
        "duration": 15,
        "start_time": "2021-06-24T05:00:06.473Z"
      },
      {
        "duration": 193,
        "start_time": "2021-06-24T05:01:31.902Z"
      },
      {
        "duration": 205,
        "start_time": "2021-06-24T05:01:43.176Z"
      },
      {
        "duration": 191,
        "start_time": "2021-06-24T05:01:51.106Z"
      },
      {
        "duration": 15,
        "start_time": "2021-06-24T05:02:06.471Z"
      },
      {
        "duration": 154,
        "start_time": "2021-06-24T05:05:21.638Z"
      },
      {
        "duration": 15,
        "start_time": "2021-06-24T05:05:28.184Z"
      },
      {
        "duration": 22,
        "start_time": "2021-06-24T05:06:31.272Z"
      },
      {
        "duration": 151,
        "start_time": "2021-06-24T05:07:12.836Z"
      },
      {
        "duration": 25,
        "start_time": "2021-06-24T05:07:13.282Z"
      },
      {
        "duration": 155,
        "start_time": "2021-06-24T05:08:25.395Z"
      },
      {
        "duration": 27,
        "start_time": "2021-06-24T05:08:25.932Z"
      },
      {
        "duration": 159,
        "start_time": "2021-06-24T05:09:09.394Z"
      },
      {
        "duration": 23,
        "start_time": "2021-06-24T05:09:10.086Z"
      },
      {
        "duration": 152,
        "start_time": "2021-06-24T05:10:09.938Z"
      },
      {
        "duration": 17,
        "start_time": "2021-06-24T05:10:25.324Z"
      },
      {
        "duration": 3505,
        "start_time": "2021-06-24T05:37:38.810Z"
      },
      {
        "duration": 4978,
        "start_time": "2021-06-24T05:38:35.675Z"
      },
      {
        "duration": 8,
        "start_time": "2021-06-24T05:39:54.945Z"
      },
      {
        "duration": 14,
        "start_time": "2021-06-24T05:40:12.415Z"
      },
      {
        "duration": 298,
        "start_time": "2021-06-24T05:40:55.025Z"
      },
      {
        "duration": 552,
        "start_time": "2021-06-24T05:41:26.959Z"
      },
      {
        "duration": 313,
        "start_time": "2021-06-24T05:45:33.267Z"
      },
      {
        "duration": 312,
        "start_time": "2021-06-24T05:46:07.096Z"
      },
      {
        "duration": 322,
        "start_time": "2021-06-24T08:39:30.137Z"
      },
      {
        "duration": 10,
        "start_time": "2021-06-24T08:41:08.176Z"
      },
      {
        "duration": 16,
        "start_time": "2021-06-24T08:41:12.462Z"
      },
      {
        "duration": 1070,
        "start_time": "2021-06-24T08:41:20.160Z"
      },
      {
        "duration": 466,
        "start_time": "2021-06-24T08:41:21.232Z"
      },
      {
        "duration": 98,
        "start_time": "2021-06-24T08:41:21.700Z"
      },
      {
        "duration": 171,
        "start_time": "2021-06-24T08:41:21.800Z"
      },
      {
        "duration": 19,
        "start_time": "2021-06-24T08:41:21.972Z"
      },
      {
        "duration": 19,
        "start_time": "2021-06-24T08:41:21.992Z"
      },
      {
        "duration": 20,
        "start_time": "2021-06-24T08:41:22.012Z"
      },
      {
        "duration": 3683,
        "start_time": "2021-06-24T08:41:22.034Z"
      },
      {
        "duration": 339,
        "start_time": "2021-06-24T08:41:25.380Z"
      },
      {
        "duration": 338,
        "start_time": "2021-06-24T08:41:25.382Z"
      },
      {
        "duration": 337,
        "start_time": "2021-06-24T08:41:25.384Z"
      },
      {
        "duration": 337,
        "start_time": "2021-06-24T08:41:25.385Z"
      },
      {
        "duration": 335,
        "start_time": "2021-06-24T08:41:25.387Z"
      },
      {
        "duration": 335,
        "start_time": "2021-06-24T08:41:25.388Z"
      },
      {
        "duration": 335,
        "start_time": "2021-06-24T08:41:25.389Z"
      },
      {
        "duration": 334,
        "start_time": "2021-06-24T08:41:25.391Z"
      },
      {
        "duration": 334,
        "start_time": "2021-06-24T08:41:25.392Z"
      },
      {
        "duration": 332,
        "start_time": "2021-06-24T08:41:25.394Z"
      },
      {
        "duration": 332,
        "start_time": "2021-06-24T08:41:25.395Z"
      },
      {
        "duration": 331,
        "start_time": "2021-06-24T08:41:25.397Z"
      },
      {
        "duration": 314,
        "start_time": "2021-06-24T08:57:51.366Z"
      },
      {
        "duration": 9,
        "start_time": "2021-06-24T08:58:11.264Z"
      },
      {
        "duration": 14,
        "start_time": "2021-06-24T08:58:13.862Z"
      },
      {
        "duration": 19,
        "start_time": "2021-06-24T08:58:41.448Z"
      },
      {
        "duration": 1076,
        "start_time": "2021-06-24T08:59:00.843Z"
      },
      {
        "duration": 500,
        "start_time": "2021-06-24T08:59:01.921Z"
      },
      {
        "duration": 100,
        "start_time": "2021-06-24T08:59:02.423Z"
      },
      {
        "duration": 187,
        "start_time": "2021-06-24T08:59:02.525Z"
      },
      {
        "duration": 17,
        "start_time": "2021-06-24T08:59:02.714Z"
      },
      {
        "duration": 483,
        "start_time": "2021-06-24T08:59:02.733Z"
      },
      {
        "duration": 377,
        "start_time": "2021-06-24T08:59:02.841Z"
      },
      {
        "duration": 374,
        "start_time": "2021-06-24T08:59:02.845Z"
      },
      {
        "duration": 373,
        "start_time": "2021-06-24T08:59:02.847Z"
      },
      {
        "duration": 358,
        "start_time": "2021-06-24T08:59:02.863Z"
      },
      {
        "duration": 357,
        "start_time": "2021-06-24T08:59:02.865Z"
      },
      {
        "duration": 357,
        "start_time": "2021-06-24T08:59:02.866Z"
      },
      {
        "duration": 356,
        "start_time": "2021-06-24T08:59:02.868Z"
      },
      {
        "duration": 355,
        "start_time": "2021-06-24T08:59:02.869Z"
      },
      {
        "duration": 354,
        "start_time": "2021-06-24T08:59:02.871Z"
      },
      {
        "duration": 354,
        "start_time": "2021-06-24T08:59:02.872Z"
      },
      {
        "duration": 353,
        "start_time": "2021-06-24T08:59:02.874Z"
      },
      {
        "duration": 351,
        "start_time": "2021-06-24T08:59:02.876Z"
      },
      {
        "duration": 351,
        "start_time": "2021-06-24T08:59:02.877Z"
      },
      {
        "duration": 347,
        "start_time": "2021-06-24T08:59:02.882Z"
      },
      {
        "duration": 329,
        "start_time": "2021-06-24T09:00:03.965Z"
      },
      {
        "duration": 385,
        "start_time": "2021-06-24T09:00:30.080Z"
      },
      {
        "duration": 320,
        "start_time": "2021-06-24T09:01:08.335Z"
      },
      {
        "duration": 308,
        "start_time": "2021-06-24T09:01:23.946Z"
      },
      {
        "duration": 194,
        "start_time": "2021-06-24T09:08:03.427Z"
      },
      {
        "duration": 200,
        "start_time": "2021-06-24T09:08:31.945Z"
      },
      {
        "duration": 16,
        "start_time": "2021-06-24T09:08:35.892Z"
      },
      {
        "duration": 28,
        "start_time": "2021-06-24T09:11:38.497Z"
      },
      {
        "duration": 1094,
        "start_time": "2021-06-24T09:11:49.372Z"
      },
      {
        "duration": 488,
        "start_time": "2021-06-24T09:11:50.467Z"
      },
      {
        "duration": 82,
        "start_time": "2021-06-24T09:11:50.957Z"
      },
      {
        "duration": 171,
        "start_time": "2021-06-24T09:11:51.042Z"
      },
      {
        "duration": 16,
        "start_time": "2021-06-24T09:11:51.215Z"
      },
      {
        "duration": 23,
        "start_time": "2021-06-24T09:11:51.233Z"
      },
      {
        "duration": 35,
        "start_time": "2021-06-24T09:11:51.257Z"
      },
      {
        "duration": 3394,
        "start_time": "2021-06-24T09:11:51.295Z"
      },
      {
        "duration": -114,
        "start_time": "2021-06-24T09:11:54.805Z"
      },
      {
        "duration": -114,
        "start_time": "2021-06-24T09:11:54.806Z"
      },
      {
        "duration": -115,
        "start_time": "2021-06-24T09:11:54.808Z"
      },
      {
        "duration": -135,
        "start_time": "2021-06-24T09:11:54.829Z"
      },
      {
        "duration": -156,
        "start_time": "2021-06-24T09:11:54.850Z"
      },
      {
        "duration": -178,
        "start_time": "2021-06-24T09:11:54.873Z"
      },
      {
        "duration": -188,
        "start_time": "2021-06-24T09:11:54.884Z"
      },
      {
        "duration": -227,
        "start_time": "2021-06-24T09:11:54.924Z"
      },
      {
        "duration": -261,
        "start_time": "2021-06-24T09:11:54.958Z"
      },
      {
        "duration": -262,
        "start_time": "2021-06-24T09:11:54.960Z"
      },
      {
        "duration": -282,
        "start_time": "2021-06-24T09:11:54.981Z"
      },
      {
        "duration": -288,
        "start_time": "2021-06-24T09:11:54.988Z"
      },
      {
        "duration": 321,
        "start_time": "2021-06-24T09:13:07.690Z"
      },
      {
        "duration": 319,
        "start_time": "2021-06-24T09:13:18.924Z"
      },
      {
        "duration": 358,
        "start_time": "2021-06-24T09:13:51.314Z"
      },
      {
        "duration": 317,
        "start_time": "2021-06-24T09:14:02.590Z"
      },
      {
        "duration": 567,
        "start_time": "2021-06-24T09:24:45.126Z"
      },
      {
        "duration": 15,
        "start_time": "2021-06-24T09:24:51.056Z"
      },
      {
        "duration": 267,
        "start_time": "2021-06-24T09:25:04.671Z"
      },
      {
        "duration": 14,
        "start_time": "2021-06-24T09:25:09.306Z"
      },
      {
        "duration": 4479,
        "start_time": "2021-06-24T09:25:33.589Z"
      },
      {
        "duration": 337,
        "start_time": "2021-06-24T09:25:37.733Z"
      },
      {
        "duration": 60,
        "start_time": "2021-06-24T09:26:03.839Z"
      },
      {
        "duration": 196,
        "start_time": "2021-06-24T09:26:15.922Z"
      },
      {
        "duration": 14,
        "start_time": "2021-06-24T09:26:23.829Z"
      },
      {
        "duration": 186,
        "start_time": "2021-06-24T09:27:24.148Z"
      },
      {
        "duration": 23,
        "start_time": "2021-06-24T09:27:41.173Z"
      },
      {
        "duration": 14,
        "start_time": "2021-06-24T09:27:46.587Z"
      },
      {
        "duration": 197,
        "start_time": "2021-06-24T09:34:26.230Z"
      },
      {
        "duration": 186,
        "start_time": "2021-06-24T09:34:37.230Z"
      },
      {
        "duration": 10,
        "start_time": "2021-06-24T09:34:38.317Z"
      },
      {
        "duration": 476,
        "start_time": "2021-06-24T09:36:37.578Z"
      },
      {
        "duration": 448,
        "start_time": "2021-06-24T09:36:54.755Z"
      },
      {
        "duration": 463,
        "start_time": "2021-06-24T09:37:05.521Z"
      },
      {
        "duration": 446,
        "start_time": "2021-06-24T09:37:35.552Z"
      },
      {
        "duration": 203,
        "start_time": "2021-06-24T09:38:04.208Z"
      },
      {
        "duration": 483,
        "start_time": "2021-06-24T09:38:58.876Z"
      },
      {
        "duration": 11,
        "start_time": "2021-06-24T09:39:00.721Z"
      },
      {
        "duration": 18,
        "start_time": "2021-06-24T09:39:13.950Z"
      },
      {
        "duration": 19,
        "start_time": "2021-06-24T09:39:17.855Z"
      },
      {
        "duration": 1075,
        "start_time": "2021-06-24T09:39:41.301Z"
      },
      {
        "duration": 480,
        "start_time": "2021-06-24T09:39:42.378Z"
      },
      {
        "duration": 82,
        "start_time": "2021-06-24T09:39:42.860Z"
      },
      {
        "duration": 171,
        "start_time": "2021-06-24T09:39:42.944Z"
      },
      {
        "duration": 16,
        "start_time": "2021-06-24T09:39:43.116Z"
      },
      {
        "duration": 34,
        "start_time": "2021-06-24T09:39:43.133Z"
      },
      {
        "duration": 27,
        "start_time": "2021-06-24T09:39:43.169Z"
      },
      {
        "duration": 6200,
        "start_time": "2021-06-24T09:39:43.199Z"
      },
      {
        "duration": 303,
        "start_time": "2021-06-24T09:39:49.098Z"
      },
      {
        "duration": 302,
        "start_time": "2021-06-24T09:39:49.100Z"
      },
      {
        "duration": 302,
        "start_time": "2021-06-24T09:39:49.101Z"
      },
      {
        "duration": 301,
        "start_time": "2021-06-24T09:39:49.103Z"
      },
      {
        "duration": 301,
        "start_time": "2021-06-24T09:39:49.104Z"
      },
      {
        "duration": 256,
        "start_time": "2021-06-24T09:39:49.150Z"
      },
      {
        "duration": 251,
        "start_time": "2021-06-24T09:39:49.155Z"
      },
      {
        "duration": 251,
        "start_time": "2021-06-24T09:39:49.156Z"
      },
      {
        "duration": 250,
        "start_time": "2021-06-24T09:39:49.158Z"
      },
      {
        "duration": 249,
        "start_time": "2021-06-24T09:39:49.160Z"
      },
      {
        "duration": 249,
        "start_time": "2021-06-24T09:39:49.161Z"
      },
      {
        "duration": 249,
        "start_time": "2021-06-24T09:39:49.162Z"
      },
      {
        "duration": 452,
        "start_time": "2021-06-24T09:40:32.483Z"
      },
      {
        "duration": 30,
        "start_time": "2021-06-24T09:45:35.278Z"
      },
      {
        "duration": 558,
        "start_time": "2021-06-24T09:47:17.794Z"
      },
      {
        "duration": 159,
        "start_time": "2021-06-24T09:47:34.329Z"
      },
      {
        "duration": 33,
        "start_time": "2021-06-24T09:49:35.410Z"
      },
      {
        "duration": 35,
        "start_time": "2021-06-24T09:53:52.706Z"
      },
      {
        "duration": 33,
        "start_time": "2021-06-24T09:54:13.668Z"
      },
      {
        "duration": 38,
        "start_time": "2021-06-24T09:54:53.216Z"
      },
      {
        "duration": 1144,
        "start_time": "2021-06-24T09:55:03.974Z"
      },
      {
        "duration": 471,
        "start_time": "2021-06-24T09:55:05.121Z"
      },
      {
        "duration": 97,
        "start_time": "2021-06-24T09:55:05.594Z"
      },
      {
        "duration": 168,
        "start_time": "2021-06-24T09:55:05.693Z"
      },
      {
        "duration": 44,
        "start_time": "2021-06-24T09:55:05.862Z"
      },
      {
        "duration": 34,
        "start_time": "2021-06-24T09:55:05.908Z"
      },
      {
        "duration": 14,
        "start_time": "2021-06-24T09:55:05.943Z"
      },
      {
        "duration": 3392,
        "start_time": "2021-06-24T09:55:05.959Z"
      },
      {
        "duration": 259,
        "start_time": "2021-06-24T09:55:09.094Z"
      },
      {
        "duration": 254,
        "start_time": "2021-06-24T09:55:09.100Z"
      },
      {
        "duration": 251,
        "start_time": "2021-06-24T09:55:09.105Z"
      },
      {
        "duration": 249,
        "start_time": "2021-06-24T09:55:09.108Z"
      },
      {
        "duration": 248,
        "start_time": "2021-06-24T09:55:09.110Z"
      },
      {
        "duration": 246,
        "start_time": "2021-06-24T09:55:09.113Z"
      },
      {
        "duration": 245,
        "start_time": "2021-06-24T09:55:09.115Z"
      },
      {
        "duration": 243,
        "start_time": "2021-06-24T09:55:09.118Z"
      },
      {
        "duration": 242,
        "start_time": "2021-06-24T09:55:09.120Z"
      },
      {
        "duration": 241,
        "start_time": "2021-06-24T09:55:09.122Z"
      },
      {
        "duration": 239,
        "start_time": "2021-06-24T09:55:09.125Z"
      },
      {
        "duration": 238,
        "start_time": "2021-06-24T09:55:09.127Z"
      },
      {
        "duration": 89,
        "start_time": "2021-06-24T09:59:22.316Z"
      },
      {
        "duration": 986,
        "start_time": "2021-06-24T09:59:34.247Z"
      },
      {
        "duration": 437,
        "start_time": "2021-06-24T09:59:35.235Z"
      },
      {
        "duration": 80,
        "start_time": "2021-06-24T09:59:35.673Z"
      },
      {
        "duration": 173,
        "start_time": "2021-06-24T09:59:35.755Z"
      },
      {
        "duration": 30,
        "start_time": "2021-06-24T09:59:35.929Z"
      },
      {
        "duration": 291,
        "start_time": "2021-06-24T09:59:35.961Z"
      },
      {
        "duration": 368,
        "start_time": "2021-06-24T09:59:35.886Z"
      },
      {
        "duration": 359,
        "start_time": "2021-06-24T09:59:35.896Z"
      },
      {
        "duration": 356,
        "start_time": "2021-06-24T09:59:35.900Z"
      },
      {
        "duration": 354,
        "start_time": "2021-06-24T09:59:35.904Z"
      },
      {
        "duration": 352,
        "start_time": "2021-06-24T09:59:35.907Z"
      },
      {
        "duration": 349,
        "start_time": "2021-06-24T09:59:35.911Z"
      },
      {
        "duration": 348,
        "start_time": "2021-06-24T09:59:35.913Z"
      },
      {
        "duration": 346,
        "start_time": "2021-06-24T09:59:35.916Z"
      },
      {
        "duration": 344,
        "start_time": "2021-06-24T09:59:35.919Z"
      },
      {
        "duration": 343,
        "start_time": "2021-06-24T09:59:35.921Z"
      },
      {
        "duration": 340,
        "start_time": "2021-06-24T09:59:35.925Z"
      },
      {
        "duration": 338,
        "start_time": "2021-06-24T09:59:35.928Z"
      },
      {
        "duration": 336,
        "start_time": "2021-06-24T09:59:35.931Z"
      },
      {
        "duration": 335,
        "start_time": "2021-06-24T09:59:35.933Z"
      },
      {
        "duration": 225,
        "start_time": "2021-06-24T10:00:13.551Z"
      },
      {
        "duration": 150,
        "start_time": "2021-06-24T10:01:49.600Z"
      },
      {
        "duration": 190,
        "start_time": "2021-06-24T10:02:35.313Z"
      },
      {
        "duration": 29,
        "start_time": "2021-06-24T10:03:42.143Z"
      },
      {
        "duration": 25,
        "start_time": "2021-06-24T10:04:06.000Z"
      },
      {
        "duration": 25,
        "start_time": "2021-06-24T10:04:34.719Z"
      },
      {
        "duration": 1020,
        "start_time": "2021-06-24T10:04:49.116Z"
      },
      {
        "duration": 440,
        "start_time": "2021-06-24T10:04:50.138Z"
      },
      {
        "duration": 78,
        "start_time": "2021-06-24T10:04:50.580Z"
      },
      {
        "duration": 168,
        "start_time": "2021-06-24T10:04:50.660Z"
      },
      {
        "duration": 29,
        "start_time": "2021-06-24T10:04:50.830Z"
      },
      {
        "duration": 37,
        "start_time": "2021-06-24T10:04:50.860Z"
      },
      {
        "duration": 11,
        "start_time": "2021-06-24T10:04:50.898Z"
      },
      {
        "duration": 3112,
        "start_time": "2021-06-24T10:04:50.911Z"
      },
      {
        "duration": 323,
        "start_time": "2021-06-24T10:04:53.702Z"
      },
      {
        "duration": 320,
        "start_time": "2021-06-24T10:04:53.706Z"
      },
      {
        "duration": 318,
        "start_time": "2021-06-24T10:04:53.709Z"
      },
      {
        "duration": 317,
        "start_time": "2021-06-24T10:04:53.711Z"
      },
      {
        "duration": 316,
        "start_time": "2021-06-24T10:04:53.713Z"
      },
      {
        "duration": 314,
        "start_time": "2021-06-24T10:04:53.716Z"
      },
      {
        "duration": 313,
        "start_time": "2021-06-24T10:04:53.718Z"
      },
      {
        "duration": 312,
        "start_time": "2021-06-24T10:04:53.720Z"
      },
      {
        "duration": 311,
        "start_time": "2021-06-24T10:04:53.722Z"
      },
      {
        "duration": 303,
        "start_time": "2021-06-24T10:04:53.731Z"
      },
      {
        "duration": 302,
        "start_time": "2021-06-24T10:04:53.733Z"
      },
      {
        "duration": 301,
        "start_time": "2021-06-24T10:04:53.735Z"
      },
      {
        "duration": 197,
        "start_time": "2021-06-24T10:11:37.163Z"
      },
      {
        "duration": 4433,
        "start_time": "2021-06-24T10:14:51.892Z"
      },
      {
        "duration": 202,
        "start_time": "2021-06-24T10:15:33.932Z"
      },
      {
        "duration": 204,
        "start_time": "2021-06-24T10:15:56.486Z"
      },
      {
        "duration": 195,
        "start_time": "2021-06-24T10:25:46.900Z"
      },
      {
        "duration": 188,
        "start_time": "2021-06-24T10:31:45.998Z"
      },
      {
        "duration": 190,
        "start_time": "2021-06-24T10:32:31.075Z"
      },
      {
        "duration": 321,
        "start_time": "2021-06-24T10:39:53.114Z"
      },
      {
        "duration": 54,
        "start_time": "2021-06-24T10:40:49.398Z"
      },
      {
        "duration": 309,
        "start_time": "2021-06-24T10:41:14.684Z"
      },
      {
        "duration": 308,
        "start_time": "2021-06-24T10:43:07.418Z"
      },
      {
        "duration": 316,
        "start_time": "2021-06-24T10:43:17.283Z"
      },
      {
        "duration": 310,
        "start_time": "2021-06-24T10:43:38.203Z"
      },
      {
        "duration": 342,
        "start_time": "2021-06-24T10:43:48.094Z"
      },
      {
        "duration": 320,
        "start_time": "2021-06-24T10:43:57.381Z"
      },
      {
        "duration": 412,
        "start_time": "2021-06-24T10:51:01.638Z"
      },
      {
        "duration": 297,
        "start_time": "2021-06-24T10:51:29.762Z"
      },
      {
        "duration": 302,
        "start_time": "2021-06-24T10:51:39.781Z"
      },
      {
        "duration": 166,
        "start_time": "2021-06-24T10:57:44.143Z"
      },
      {
        "duration": 163,
        "start_time": "2021-06-24T10:57:56.373Z"
      },
      {
        "duration": 168,
        "start_time": "2021-06-24T10:58:07.424Z"
      },
      {
        "duration": 319,
        "start_time": "2021-06-24T10:59:10.845Z"
      },
      {
        "duration": 9,
        "start_time": "2021-06-24T11:00:28.488Z"
      },
      {
        "duration": 15,
        "start_time": "2021-06-24T11:00:33.712Z"
      },
      {
        "duration": 167,
        "start_time": "2021-06-24T11:01:52.523Z"
      },
      {
        "duration": 172,
        "start_time": "2021-06-24T11:04:00.618Z"
      },
      {
        "duration": 166,
        "start_time": "2021-06-24T11:05:50.904Z"
      },
      {
        "duration": 1106,
        "start_time": "2021-06-24T11:06:01.223Z"
      },
      {
        "duration": 458,
        "start_time": "2021-06-24T11:06:02.331Z"
      },
      {
        "duration": 80,
        "start_time": "2021-06-24T11:06:02.790Z"
      },
      {
        "duration": 195,
        "start_time": "2021-06-24T11:06:02.872Z"
      },
      {
        "duration": 35,
        "start_time": "2021-06-24T11:06:03.069Z"
      },
      {
        "duration": 10,
        "start_time": "2021-06-24T11:06:03.106Z"
      },
      {
        "duration": 17,
        "start_time": "2021-06-24T11:06:03.117Z"
      },
      {
        "duration": 5479,
        "start_time": "2021-06-24T11:06:03.137Z"
      },
      {
        "duration": 384,
        "start_time": "2021-06-24T11:06:08.235Z"
      },
      {
        "duration": 384,
        "start_time": "2021-06-24T11:06:08.237Z"
      },
      {
        "duration": 383,
        "start_time": "2021-06-24T11:06:08.239Z"
      },
      {
        "duration": 381,
        "start_time": "2021-06-24T11:06:08.242Z"
      },
      {
        "duration": 367,
        "start_time": "2021-06-24T11:06:08.258Z"
      },
      {
        "duration": 366,
        "start_time": "2021-06-24T11:06:08.260Z"
      },
      {
        "duration": 364,
        "start_time": "2021-06-24T11:06:08.264Z"
      },
      {
        "duration": 363,
        "start_time": "2021-06-24T11:06:08.266Z"
      },
      {
        "duration": 363,
        "start_time": "2021-06-24T11:06:08.267Z"
      },
      {
        "duration": 362,
        "start_time": "2021-06-24T11:06:08.269Z"
      },
      {
        "duration": 362,
        "start_time": "2021-06-24T11:06:08.270Z"
      },
      {
        "duration": 362,
        "start_time": "2021-06-24T11:06:08.271Z"
      },
      {
        "duration": 1095,
        "start_time": "2021-06-25T02:18:10.860Z"
      },
      {
        "duration": 507,
        "start_time": "2021-06-25T02:18:11.957Z"
      },
      {
        "duration": 80,
        "start_time": "2021-06-25T02:18:12.466Z"
      },
      {
        "duration": 189,
        "start_time": "2021-06-25T02:18:12.548Z"
      },
      {
        "duration": 27,
        "start_time": "2021-06-25T02:18:12.738Z"
      },
      {
        "duration": 24,
        "start_time": "2021-06-25T02:18:12.766Z"
      },
      {
        "duration": 17,
        "start_time": "2021-06-25T02:18:12.791Z"
      },
      {
        "duration": 5552,
        "start_time": "2021-06-25T02:18:12.810Z"
      },
      {
        "duration": 648,
        "start_time": "2021-06-25T02:18:17.716Z"
      },
      {
        "duration": 647,
        "start_time": "2021-06-25T02:18:17.718Z"
      },
      {
        "duration": 646,
        "start_time": "2021-06-25T02:18:17.720Z"
      },
      {
        "duration": 645,
        "start_time": "2021-06-25T02:18:17.722Z"
      },
      {
        "duration": 645,
        "start_time": "2021-06-25T02:18:17.723Z"
      },
      {
        "duration": 628,
        "start_time": "2021-06-25T02:18:17.741Z"
      },
      {
        "duration": 627,
        "start_time": "2021-06-25T02:18:17.743Z"
      },
      {
        "duration": 626,
        "start_time": "2021-06-25T02:18:17.745Z"
      },
      {
        "duration": 625,
        "start_time": "2021-06-25T02:18:17.747Z"
      },
      {
        "duration": 624,
        "start_time": "2021-06-25T02:18:17.748Z"
      },
      {
        "duration": 623,
        "start_time": "2021-06-25T02:18:17.750Z"
      },
      {
        "duration": 623,
        "start_time": "2021-06-25T02:18:17.751Z"
      },
      {
        "duration": 1085,
        "start_time": "2021-06-25T02:24:04.194Z"
      },
      {
        "duration": 475,
        "start_time": "2021-06-25T02:24:05.281Z"
      },
      {
        "duration": 82,
        "start_time": "2021-06-25T02:24:05.758Z"
      },
      {
        "duration": 180,
        "start_time": "2021-06-25T02:24:05.842Z"
      },
      {
        "duration": 28,
        "start_time": "2021-06-25T02:24:06.024Z"
      },
      {
        "duration": 32,
        "start_time": "2021-06-25T02:24:06.054Z"
      },
      {
        "duration": 15,
        "start_time": "2021-06-25T02:24:06.088Z"
      },
      {
        "duration": 3333,
        "start_time": "2021-06-25T02:24:06.106Z"
      },
      {
        "duration": 634,
        "start_time": "2021-06-25T02:24:08.808Z"
      },
      {
        "duration": 629,
        "start_time": "2021-06-25T02:24:08.814Z"
      },
      {
        "duration": 621,
        "start_time": "2021-06-25T02:24:08.823Z"
      },
      {
        "duration": 619,
        "start_time": "2021-06-25T02:24:08.825Z"
      },
      {
        "duration": 618,
        "start_time": "2021-06-25T02:24:08.827Z"
      },
      {
        "duration": 616,
        "start_time": "2021-06-25T02:24:08.830Z"
      },
      {
        "duration": 615,
        "start_time": "2021-06-25T02:24:08.832Z"
      },
      {
        "duration": 609,
        "start_time": "2021-06-25T02:24:08.839Z"
      },
      {
        "duration": 608,
        "start_time": "2021-06-25T02:24:08.841Z"
      },
      {
        "duration": 607,
        "start_time": "2021-06-25T02:24:08.843Z"
      },
      {
        "duration": 606,
        "start_time": "2021-06-25T02:24:08.845Z"
      },
      {
        "duration": 606,
        "start_time": "2021-06-25T02:24:08.846Z"
      },
      {
        "duration": 6,
        "start_time": "2021-06-25T02:29:49.483Z"
      },
      {
        "duration": 223,
        "start_time": "2021-06-25T02:30:06.003Z"
      },
      {
        "duration": 360,
        "start_time": "2021-06-25T02:51:26.725Z"
      },
      {
        "duration": 311,
        "start_time": "2021-06-25T02:53:26.619Z"
      },
      {
        "duration": 305,
        "start_time": "2021-06-25T02:53:58.634Z"
      },
      {
        "duration": 6,
        "start_time": "2021-06-25T02:59:13.977Z"
      },
      {
        "duration": 210,
        "start_time": "2021-06-25T03:01:47.680Z"
      },
      {
        "duration": 201,
        "start_time": "2021-06-25T03:02:18.203Z"
      },
      {
        "duration": 219,
        "start_time": "2021-06-25T03:02:45.762Z"
      },
      {
        "duration": 210,
        "start_time": "2021-06-25T03:03:06.787Z"
      },
      {
        "duration": 213,
        "start_time": "2021-06-25T03:03:27.287Z"
      },
      {
        "duration": 321,
        "start_time": "2021-06-25T03:04:10.156Z"
      },
      {
        "duration": 312,
        "start_time": "2021-06-25T03:04:57.171Z"
      },
      {
        "duration": 317,
        "start_time": "2021-06-25T03:07:35.865Z"
      },
      {
        "duration": 317,
        "start_time": "2021-06-25T03:08:12.722Z"
      },
      {
        "duration": 3672,
        "start_time": "2021-06-25T03:10:24.384Z"
      },
      {
        "duration": 3111,
        "start_time": "2021-06-25T03:49:46.876Z"
      },
      {
        "duration": 4,
        "start_time": "2021-06-25T03:50:42.648Z"
      },
      {
        "duration": 322,
        "start_time": "2021-06-25T03:50:53.455Z"
      },
      {
        "duration": 323,
        "start_time": "2021-06-25T05:40:26.147Z"
      },
      {
        "duration": 297,
        "start_time": "2021-06-25T05:44:05.280Z"
      },
      {
        "duration": 310,
        "start_time": "2021-06-25T05:44:17.902Z"
      },
      {
        "duration": 290,
        "start_time": "2021-06-25T05:44:26.877Z"
      },
      {
        "duration": 358,
        "start_time": "2021-06-25T05:47:04.886Z"
      },
      {
        "duration": 10,
        "start_time": "2021-06-25T05:48:59.304Z"
      },
      {
        "duration": 17,
        "start_time": "2021-06-25T05:49:00.318Z"
      },
      {
        "duration": 5116,
        "start_time": "2021-06-25T05:49:04.486Z"
      },
      {
        "duration": 9,
        "start_time": "2021-06-25T05:49:51.188Z"
      },
      {
        "duration": 16,
        "start_time": "2021-06-25T05:49:52.077Z"
      },
      {
        "duration": 1116,
        "start_time": "2021-06-25T06:42:53.214Z"
      },
      {
        "duration": 483,
        "start_time": "2021-06-25T06:42:54.332Z"
      },
      {
        "duration": 100,
        "start_time": "2021-06-25T06:42:54.817Z"
      },
      {
        "duration": 189,
        "start_time": "2021-06-25T06:42:54.919Z"
      },
      {
        "duration": 28,
        "start_time": "2021-06-25T06:42:55.109Z"
      },
      {
        "duration": 10,
        "start_time": "2021-06-25T06:42:55.138Z"
      },
      {
        "duration": 41,
        "start_time": "2021-06-25T06:42:55.149Z"
      },
      {
        "duration": 231,
        "start_time": "2021-06-25T06:42:55.192Z"
      },
      {
        "duration": 404,
        "start_time": "2021-06-25T06:42:55.425Z"
      },
      {
        "duration": 450,
        "start_time": "2021-06-25T06:42:55.381Z"
      },
      {
        "duration": 435,
        "start_time": "2021-06-25T06:42:55.397Z"
      },
      {
        "duration": 433,
        "start_time": "2021-06-25T06:42:55.400Z"
      },
      {
        "duration": 412,
        "start_time": "2021-06-25T06:42:55.422Z"
      },
      {
        "duration": 389,
        "start_time": "2021-06-25T06:42:55.446Z"
      },
      {
        "duration": 365,
        "start_time": "2021-06-25T06:42:55.471Z"
      },
      {
        "duration": 346,
        "start_time": "2021-06-25T06:42:55.491Z"
      },
      {
        "duration": 327,
        "start_time": "2021-06-25T06:42:55.511Z"
      },
      {
        "duration": 306,
        "start_time": "2021-06-25T06:42:55.533Z"
      },
      {
        "duration": 290,
        "start_time": "2021-06-25T06:42:55.550Z"
      },
      {
        "duration": 268,
        "start_time": "2021-06-25T06:42:55.573Z"
      },
      {
        "duration": 249,
        "start_time": "2021-06-25T06:42:55.593Z"
      },
      {
        "duration": 215,
        "start_time": "2021-06-25T06:43:28.537Z"
      },
      {
        "duration": 218,
        "start_time": "2021-06-25T06:43:34.409Z"
      },
      {
        "duration": 343,
        "start_time": "2021-06-25T06:54:13.094Z"
      },
      {
        "duration": 309,
        "start_time": "2021-06-25T06:55:21.600Z"
      },
      {
        "duration": 305,
        "start_time": "2021-06-25T06:55:34.353Z"
      },
      {
        "duration": 305,
        "start_time": "2021-06-25T06:55:44.707Z"
      },
      {
        "duration": 292,
        "start_time": "2021-06-25T06:58:13.076Z"
      },
      {
        "duration": 296,
        "start_time": "2021-06-25T06:58:24.088Z"
      },
      {
        "duration": 336,
        "start_time": "2021-06-25T06:58:31.223Z"
      },
      {
        "duration": 213,
        "start_time": "2021-06-25T07:00:02.438Z"
      },
      {
        "duration": 322,
        "start_time": "2021-06-25T07:02:03.787Z"
      },
      {
        "duration": 1034,
        "start_time": "2021-06-25T07:02:48.302Z"
      },
      {
        "duration": 467,
        "start_time": "2021-06-25T07:02:49.338Z"
      },
      {
        "duration": 100,
        "start_time": "2021-06-25T07:02:49.807Z"
      },
      {
        "duration": 192,
        "start_time": "2021-06-25T07:02:49.909Z"
      },
      {
        "duration": 28,
        "start_time": "2021-06-25T07:02:50.102Z"
      },
      {
        "duration": 9,
        "start_time": "2021-06-25T07:02:50.131Z"
      },
      {
        "duration": 15,
        "start_time": "2021-06-25T07:02:50.142Z"
      },
      {
        "duration": 236,
        "start_time": "2021-06-25T07:02:50.159Z"
      },
      {
        "duration": 372,
        "start_time": "2021-06-25T07:02:50.397Z"
      },
      {
        "duration": 777,
        "start_time": "2021-06-25T07:02:49.994Z"
      },
      {
        "duration": 775,
        "start_time": "2021-06-25T07:02:49.997Z"
      },
      {
        "duration": 773,
        "start_time": "2021-06-25T07:02:50.000Z"
      },
      {
        "duration": 770,
        "start_time": "2021-06-25T07:02:50.004Z"
      },
      {
        "duration": 767,
        "start_time": "2021-06-25T07:02:50.008Z"
      },
      {
        "duration": 765,
        "start_time": "2021-06-25T07:02:50.011Z"
      },
      {
        "duration": 763,
        "start_time": "2021-06-25T07:02:50.014Z"
      },
      {
        "duration": 760,
        "start_time": "2021-06-25T07:02:50.018Z"
      },
      {
        "duration": 758,
        "start_time": "2021-06-25T07:02:50.021Z"
      },
      {
        "duration": 758,
        "start_time": "2021-06-25T07:02:50.022Z"
      },
      {
        "duration": 758,
        "start_time": "2021-06-25T07:02:50.023Z"
      },
      {
        "duration": 757,
        "start_time": "2021-06-25T07:02:50.025Z"
      },
      {
        "duration": 334,
        "start_time": "2021-06-25T07:03:56.805Z"
      },
      {
        "duration": 309,
        "start_time": "2021-06-25T07:04:05.290Z"
      },
      {
        "duration": 356,
        "start_time": "2021-06-25T07:04:38.476Z"
      },
      {
        "duration": 1056,
        "start_time": "2021-06-25T07:06:28.177Z"
      },
      {
        "duration": 469,
        "start_time": "2021-06-25T07:06:29.235Z"
      },
      {
        "duration": 98,
        "start_time": "2021-06-25T07:06:29.706Z"
      },
      {
        "duration": 180,
        "start_time": "2021-06-25T07:06:29.806Z"
      },
      {
        "duration": 27,
        "start_time": "2021-06-25T07:06:29.987Z"
      },
      {
        "duration": 10,
        "start_time": "2021-06-25T07:06:30.016Z"
      },
      {
        "duration": 19,
        "start_time": "2021-06-25T07:06:30.027Z"
      },
      {
        "duration": 247,
        "start_time": "2021-06-25T07:06:30.049Z"
      },
      {
        "duration": 293,
        "start_time": "2021-06-25T07:06:30.299Z"
      },
      {
        "duration": 801,
        "start_time": "2021-06-25T07:06:29.793Z"
      },
      {
        "duration": 798,
        "start_time": "2021-06-25T07:06:29.797Z"
      },
      {
        "duration": 788,
        "start_time": "2021-06-25T07:06:29.807Z"
      },
      {
        "duration": 787,
        "start_time": "2021-06-25T07:06:29.809Z"
      },
      {
        "duration": 786,
        "start_time": "2021-06-25T07:06:29.811Z"
      },
      {
        "duration": 773,
        "start_time": "2021-06-25T07:06:29.825Z"
      },
      {
        "duration": 773,
        "start_time": "2021-06-25T07:06:29.826Z"
      },
      {
        "duration": 772,
        "start_time": "2021-06-25T07:06:29.828Z"
      },
      {
        "duration": 769,
        "start_time": "2021-06-25T07:06:29.832Z"
      },
      {
        "duration": 767,
        "start_time": "2021-06-25T07:06:29.834Z"
      },
      {
        "duration": 766,
        "start_time": "2021-06-25T07:06:29.836Z"
      },
      {
        "duration": 308,
        "start_time": "2021-06-25T07:08:46.036Z"
      },
      {
        "duration": 398,
        "start_time": "2021-06-25T07:09:51.069Z"
      },
      {
        "duration": 356,
        "start_time": "2021-06-25T07:09:59.955Z"
      },
      {
        "duration": 309,
        "start_time": "2021-06-25T07:10:22.381Z"
      },
      {
        "duration": 183,
        "start_time": "2021-06-25T07:12:08.869Z"
      },
      {
        "duration": 204,
        "start_time": "2021-06-25T07:12:24.400Z"
      },
      {
        "duration": 185,
        "start_time": "2021-06-25T07:12:30.070Z"
      },
      {
        "duration": 186,
        "start_time": "2021-06-25T07:13:17.705Z"
      },
      {
        "duration": 317,
        "start_time": "2021-06-25T07:14:05.820Z"
      },
      {
        "duration": 328,
        "start_time": "2021-06-25T07:14:26.549Z"
      },
      {
        "duration": 317,
        "start_time": "2021-06-25T07:15:04.309Z"
      },
      {
        "duration": 208,
        "start_time": "2021-06-25T07:16:49.532Z"
      },
      {
        "duration": 507,
        "start_time": "2021-06-25T07:19:00.841Z"
      },
      {
        "duration": 217,
        "start_time": "2021-06-25T07:39:44.460Z"
      },
      {
        "duration": 232,
        "start_time": "2021-06-25T07:40:21.861Z"
      },
      {
        "duration": 180,
        "start_time": "2021-06-25T07:42:21.212Z"
      },
      {
        "duration": 355,
        "start_time": "2021-06-25T07:42:25.543Z"
      },
      {
        "duration": 184,
        "start_time": "2021-06-25T07:42:56.048Z"
      },
      {
        "duration": 300,
        "start_time": "2021-06-25T07:43:07.146Z"
      },
      {
        "duration": 65,
        "start_time": "2021-06-25T07:45:19.823Z"
      },
      {
        "duration": 330,
        "start_time": "2021-06-25T07:45:31.772Z"
      },
      {
        "duration": 297,
        "start_time": "2021-06-25T07:45:46.842Z"
      },
      {
        "duration": 318,
        "start_time": "2021-06-25T07:45:53.453Z"
      },
      {
        "duration": 4686,
        "start_time": "2021-06-25T07:47:00.435Z"
      },
      {
        "duration": 305,
        "start_time": "2021-06-25T07:48:10.014Z"
      },
      {
        "duration": 296,
        "start_time": "2021-06-25T07:48:34.966Z"
      },
      {
        "duration": 302,
        "start_time": "2021-06-25T07:49:01.215Z"
      },
      {
        "duration": 308,
        "start_time": "2021-06-25T07:51:31.915Z"
      },
      {
        "duration": 212,
        "start_time": "2021-06-25T07:53:10.196Z"
      },
      {
        "duration": 224,
        "start_time": "2021-06-25T07:54:38.628Z"
      },
      {
        "duration": 230,
        "start_time": "2021-06-25T07:55:53.164Z"
      },
      {
        "duration": 65,
        "start_time": "2021-06-25T07:57:18.782Z"
      },
      {
        "duration": 282,
        "start_time": "2021-06-25T07:57:43.634Z"
      },
      {
        "duration": 69,
        "start_time": "2021-06-25T07:57:54.972Z"
      },
      {
        "duration": 281,
        "start_time": "2021-06-25T08:03:04.390Z"
      },
      {
        "duration": 57,
        "start_time": "2021-06-25T08:03:13.871Z"
      },
      {
        "duration": 62,
        "start_time": "2021-06-25T08:03:26.661Z"
      },
      {
        "duration": 300,
        "start_time": "2021-06-25T08:03:41.159Z"
      },
      {
        "duration": 57,
        "start_time": "2021-06-25T08:03:47.533Z"
      },
      {
        "duration": 304,
        "start_time": "2021-06-25T08:05:41.566Z"
      },
      {
        "duration": 63,
        "start_time": "2021-06-25T09:54:48.797Z"
      },
      {
        "duration": 59,
        "start_time": "2021-06-25T09:56:20.102Z"
      },
      {
        "duration": 383,
        "start_time": "2021-06-25T09:56:40.783Z"
      },
      {
        "duration": 316,
        "start_time": "2021-06-25T09:56:50.787Z"
      },
      {
        "duration": 359,
        "start_time": "2021-06-25T09:57:37.747Z"
      },
      {
        "duration": 9,
        "start_time": "2021-06-25T09:58:06.575Z"
      },
      {
        "duration": 17,
        "start_time": "2021-06-25T09:58:08.073Z"
      },
      {
        "duration": 198,
        "start_time": "2021-06-25T09:58:59.414Z"
      },
      {
        "duration": 9,
        "start_time": "2021-06-25T09:59:07.815Z"
      },
      {
        "duration": 18,
        "start_time": "2021-06-25T09:59:09.762Z"
      },
      {
        "duration": 1041,
        "start_time": "2021-06-25T09:59:18.093Z"
      },
      {
        "duration": 461,
        "start_time": "2021-06-25T09:59:19.136Z"
      },
      {
        "duration": 89,
        "start_time": "2021-06-25T09:59:19.599Z"
      },
      {
        "duration": 175,
        "start_time": "2021-06-25T09:59:19.690Z"
      },
      {
        "duration": 31,
        "start_time": "2021-06-25T09:59:19.867Z"
      },
      {
        "duration": 8,
        "start_time": "2021-06-25T09:59:19.900Z"
      },
      {
        "duration": 18,
        "start_time": "2021-06-25T09:59:19.910Z"
      },
      {
        "duration": 270,
        "start_time": "2021-06-25T09:59:19.931Z"
      },
      {
        "duration": 1179,
        "start_time": "2021-06-25T09:59:19.024Z"
      },
      {
        "duration": 1175,
        "start_time": "2021-06-25T09:59:19.029Z"
      },
      {
        "duration": 1171,
        "start_time": "2021-06-25T09:59:19.034Z"
      },
      {
        "duration": 1168,
        "start_time": "2021-06-25T09:59:19.038Z"
      },
      {
        "duration": 1167,
        "start_time": "2021-06-25T09:59:19.040Z"
      },
      {
        "duration": 1165,
        "start_time": "2021-06-25T09:59:19.042Z"
      },
      {
        "duration": 1164,
        "start_time": "2021-06-25T09:59:19.044Z"
      },
      {
        "duration": 1163,
        "start_time": "2021-06-25T09:59:19.046Z"
      },
      {
        "duration": 1163,
        "start_time": "2021-06-25T09:59:19.047Z"
      },
      {
        "duration": 1161,
        "start_time": "2021-06-25T09:59:19.049Z"
      },
      {
        "duration": 1161,
        "start_time": "2021-06-25T09:59:19.050Z"
      },
      {
        "duration": 1160,
        "start_time": "2021-06-25T09:59:19.052Z"
      },
      {
        "duration": 1159,
        "start_time": "2021-06-25T09:59:19.054Z"
      },
      {
        "duration": 229,
        "start_time": "2021-06-25T09:59:55.959Z"
      },
      {
        "duration": 332,
        "start_time": "2021-06-25T10:03:32.293Z"
      },
      {
        "duration": 320,
        "start_time": "2021-06-25T10:03:46.583Z"
      },
      {
        "duration": 293,
        "start_time": "2021-06-25T10:07:28.966Z"
      },
      {
        "duration": 324,
        "start_time": "2021-06-25T10:07:50.986Z"
      },
      {
        "duration": 5262,
        "start_time": "2021-06-25T10:08:11.054Z"
      },
      {
        "duration": 97,
        "start_time": "2021-06-25T10:19:10.685Z"
      },
      {
        "duration": 220,
        "start_time": "2021-06-25T10:19:21.333Z"
      },
      {
        "duration": 8,
        "start_time": "2021-06-25T10:20:11.145Z"
      },
      {
        "duration": 16,
        "start_time": "2021-06-25T10:20:11.836Z"
      },
      {
        "duration": 1054,
        "start_time": "2021-06-25T10:20:18.373Z"
      },
      {
        "duration": 443,
        "start_time": "2021-06-25T10:20:19.429Z"
      },
      {
        "duration": 80,
        "start_time": "2021-06-25T10:20:19.874Z"
      },
      {
        "duration": 179,
        "start_time": "2021-06-25T10:20:19.956Z"
      },
      {
        "duration": 26,
        "start_time": "2021-06-25T10:20:20.137Z"
      },
      {
        "duration": 280,
        "start_time": "2021-06-25T10:20:20.165Z"
      },
      {
        "duration": 1230,
        "start_time": "2021-06-25T10:20:19.217Z"
      },
      {
        "duration": 1222,
        "start_time": "2021-06-25T10:20:19.226Z"
      },
      {
        "duration": 1219,
        "start_time": "2021-06-25T10:20:19.230Z"
      },
      {
        "duration": 1204,
        "start_time": "2021-06-25T10:20:19.246Z"
      },
      {
        "duration": 1202,
        "start_time": "2021-06-25T10:20:19.249Z"
      },
      {
        "duration": 1201,
        "start_time": "2021-06-25T10:20:19.251Z"
      },
      {
        "duration": 1199,
        "start_time": "2021-06-25T10:20:19.254Z"
      },
      {
        "duration": 1197,
        "start_time": "2021-06-25T10:20:19.256Z"
      },
      {
        "duration": 1196,
        "start_time": "2021-06-25T10:20:19.258Z"
      },
      {
        "duration": 1195,
        "start_time": "2021-06-25T10:20:19.260Z"
      },
      {
        "duration": 1195,
        "start_time": "2021-06-25T10:20:19.262Z"
      },
      {
        "duration": 1194,
        "start_time": "2021-06-25T10:20:19.264Z"
      },
      {
        "duration": 1193,
        "start_time": "2021-06-25T10:20:19.266Z"
      },
      {
        "duration": 1192,
        "start_time": "2021-06-25T10:20:19.268Z"
      },
      {
        "duration": 1192,
        "start_time": "2021-06-25T10:20:19.269Z"
      },
      {
        "duration": 10,
        "start_time": "2021-06-25T10:20:38.762Z"
      },
      {
        "duration": 15,
        "start_time": "2021-06-25T10:20:39.646Z"
      },
      {
        "duration": 211,
        "start_time": "2021-06-25T10:20:42.289Z"
      },
      {
        "duration": 11555,
        "start_time": "2021-06-25T10:20:46.520Z"
      },
      {
        "duration": 8,
        "start_time": "2021-06-25T10:21:29.723Z"
      },
      {
        "duration": 16,
        "start_time": "2021-06-25T10:21:30.413Z"
      },
      {
        "duration": 989,
        "start_time": "2021-06-25T10:21:35.740Z"
      },
      {
        "duration": 440,
        "start_time": "2021-06-25T10:21:36.731Z"
      },
      {
        "duration": 83,
        "start_time": "2021-06-25T10:21:37.174Z"
      },
      {
        "duration": 179,
        "start_time": "2021-06-25T10:21:37.259Z"
      },
      {
        "duration": 26,
        "start_time": "2021-06-25T10:21:37.440Z"
      },
      {
        "duration": 24,
        "start_time": "2021-06-25T10:21:37.467Z"
      },
      {
        "duration": 15,
        "start_time": "2021-06-25T10:21:37.493Z"
      },
      {
        "duration": 226,
        "start_time": "2021-06-25T10:21:37.510Z"
      },
      {
        "duration": 4823,
        "start_time": "2021-06-25T10:21:37.737Z"
      },
      {
        "duration": 1149,
        "start_time": "2021-06-25T10:21:41.414Z"
      },
      {
        "duration": 1146,
        "start_time": "2021-06-25T10:21:41.418Z"
      },
      {
        "duration": 1146,
        "start_time": "2021-06-25T10:21:41.420Z"
      },
      {
        "duration": 1145,
        "start_time": "2021-06-25T10:21:41.422Z"
      },
      {
        "duration": 1144,
        "start_time": "2021-06-25T10:21:41.425Z"
      },
      {
        "duration": 1143,
        "start_time": "2021-06-25T10:21:41.427Z"
      },
      {
        "duration": 1138,
        "start_time": "2021-06-25T10:21:41.434Z"
      },
      {
        "duration": 1137,
        "start_time": "2021-06-25T10:21:41.436Z"
      },
      {
        "duration": 1136,
        "start_time": "2021-06-25T10:21:41.438Z"
      },
      {
        "duration": 1137,
        "start_time": "2021-06-25T10:21:41.439Z"
      },
      {
        "duration": 1137,
        "start_time": "2021-06-25T10:21:41.440Z"
      },
      {
        "duration": 1137,
        "start_time": "2021-06-25T10:21:41.442Z"
      },
      {
        "duration": 482,
        "start_time": "2021-06-25T11:08:51.982Z"
      },
      {
        "duration": 1078,
        "start_time": "2021-06-27T10:56:40.404Z"
      },
      {
        "duration": 452,
        "start_time": "2021-06-27T10:56:41.484Z"
      },
      {
        "duration": 81,
        "start_time": "2021-06-27T10:56:41.938Z"
      },
      {
        "duration": 200,
        "start_time": "2021-06-27T10:56:42.021Z"
      },
      {
        "duration": 25,
        "start_time": "2021-06-27T10:56:42.223Z"
      },
      {
        "duration": 11,
        "start_time": "2021-06-27T10:56:42.250Z"
      },
      {
        "duration": 36,
        "start_time": "2021-06-27T10:56:42.262Z"
      },
      {
        "duration": 491,
        "start_time": "2021-06-27T10:56:42.301Z"
      },
      {
        "duration": 63,
        "start_time": "2021-06-27T10:56:42.794Z"
      },
      {
        "duration": 791,
        "start_time": "2021-06-27T10:56:42.067Z"
      },
      {
        "duration": 786,
        "start_time": "2021-06-27T10:56:42.073Z"
      },
      {
        "duration": 782,
        "start_time": "2021-06-27T10:56:42.078Z"
      },
      {
        "duration": 741,
        "start_time": "2021-06-27T10:56:42.120Z"
      },
      {
        "duration": 739,
        "start_time": "2021-06-27T10:56:42.123Z"
      },
      {
        "duration": 737,
        "start_time": "2021-06-27T10:56:42.126Z"
      },
      {
        "duration": 735,
        "start_time": "2021-06-27T10:56:42.129Z"
      },
      {
        "duration": 733,
        "start_time": "2021-06-27T10:56:42.132Z"
      },
      {
        "duration": 731,
        "start_time": "2021-06-27T10:56:42.135Z"
      },
      {
        "duration": 729,
        "start_time": "2021-06-27T10:56:42.138Z"
      },
      {
        "duration": 727,
        "start_time": "2021-06-27T10:56:42.140Z"
      },
      {
        "duration": 725,
        "start_time": "2021-06-27T10:56:42.144Z"
      },
      {
        "duration": 677,
        "start_time": "2021-06-27T11:09:14.846Z"
      },
      {
        "duration": 61,
        "start_time": "2021-06-27T11:10:37.037Z"
      },
      {
        "duration": 191,
        "start_time": "2021-06-27T11:11:55.172Z"
      },
      {
        "duration": 243,
        "start_time": "2021-06-27T11:14:31.449Z"
      },
      {
        "duration": 57,
        "start_time": "2021-06-27T11:16:03.589Z"
      },
      {
        "duration": 241,
        "start_time": "2021-06-27T11:16:10.748Z"
      },
      {
        "duration": 238,
        "start_time": "2021-06-27T11:18:12.958Z"
      },
      {
        "duration": 242,
        "start_time": "2021-06-27T11:19:05.446Z"
      },
      {
        "duration": 237,
        "start_time": "2021-06-27T11:20:42.410Z"
      },
      {
        "duration": 10,
        "start_time": "2021-06-27T11:21:20.000Z"
      },
      {
        "duration": 20,
        "start_time": "2021-06-27T11:21:21.225Z"
      },
      {
        "duration": 989,
        "start_time": "2021-06-27T11:21:37.245Z"
      },
      {
        "duration": 466,
        "start_time": "2021-06-27T11:21:38.236Z"
      },
      {
        "duration": 96,
        "start_time": "2021-06-27T11:21:38.706Z"
      },
      {
        "duration": 182,
        "start_time": "2021-06-27T11:21:38.804Z"
      },
      {
        "duration": 26,
        "start_time": "2021-06-27T11:21:38.988Z"
      },
      {
        "duration": 9,
        "start_time": "2021-06-27T11:21:39.016Z"
      },
      {
        "duration": 15,
        "start_time": "2021-06-27T11:21:39.028Z"
      },
      {
        "duration": 494,
        "start_time": "2021-06-27T11:21:39.045Z"
      },
      {
        "duration": 254,
        "start_time": "2021-06-27T11:21:39.541Z"
      },
      {
        "duration": 266,
        "start_time": "2021-06-27T11:21:39.797Z"
      },
      {
        "duration": -29,
        "start_time": "2021-06-27T11:21:40.094Z"
      },
      {
        "duration": -32,
        "start_time": "2021-06-27T11:21:40.099Z"
      },
      {
        "duration": -34,
        "start_time": "2021-06-27T11:21:40.102Z"
      },
      {
        "duration": -35,
        "start_time": "2021-06-27T11:21:40.104Z"
      },
      {
        "duration": -36,
        "start_time": "2021-06-27T11:21:40.106Z"
      },
      {
        "duration": -37,
        "start_time": "2021-06-27T11:21:40.108Z"
      },
      {
        "duration": -38,
        "start_time": "2021-06-27T11:21:40.110Z"
      },
      {
        "duration": -40,
        "start_time": "2021-06-27T11:21:40.113Z"
      },
      {
        "duration": -40,
        "start_time": "2021-06-27T11:21:40.115Z"
      },
      {
        "duration": -41,
        "start_time": "2021-06-27T11:21:40.117Z"
      },
      {
        "duration": -43,
        "start_time": "2021-06-27T11:21:40.120Z"
      },
      {
        "duration": 11,
        "start_time": "2021-06-27T11:23:03.714Z"
      },
      {
        "duration": 20,
        "start_time": "2021-06-27T11:23:05.483Z"
      },
      {
        "duration": 1083,
        "start_time": "2021-06-27T11:23:18.655Z"
      },
      {
        "duration": 431,
        "start_time": "2021-06-27T11:23:19.740Z"
      },
      {
        "duration": 124,
        "start_time": "2021-06-27T11:23:20.173Z"
      },
      {
        "duration": 173,
        "start_time": "2021-06-27T11:23:20.299Z"
      },
      {
        "duration": 29,
        "start_time": "2021-06-27T11:23:20.473Z"
      },
      {
        "duration": 9,
        "start_time": "2021-06-27T11:23:20.504Z"
      },
      {
        "duration": 13,
        "start_time": "2021-06-27T11:23:20.515Z"
      },
      {
        "duration": 498,
        "start_time": "2021-06-27T11:23:20.530Z"
      },
      {
        "duration": 251,
        "start_time": "2021-06-27T11:23:21.030Z"
      },
      {
        "duration": 252,
        "start_time": "2021-06-27T11:23:21.285Z"
      },
      {
        "duration": -14,
        "start_time": "2021-06-27T11:23:21.552Z"
      },
      {
        "duration": -19,
        "start_time": "2021-06-27T11:23:21.558Z"
      },
      {
        "duration": -24,
        "start_time": "2021-06-27T11:23:21.564Z"
      },
      {
        "duration": -29,
        "start_time": "2021-06-27T11:23:21.570Z"
      },
      {
        "duration": -45,
        "start_time": "2021-06-27T11:23:21.587Z"
      },
      {
        "duration": -49,
        "start_time": "2021-06-27T11:23:21.592Z"
      },
      {
        "duration": -51,
        "start_time": "2021-06-27T11:23:21.595Z"
      },
      {
        "duration": -53,
        "start_time": "2021-06-27T11:23:21.598Z"
      },
      {
        "duration": -56,
        "start_time": "2021-06-27T11:23:21.601Z"
      },
      {
        "duration": -58,
        "start_time": "2021-06-27T11:23:21.604Z"
      },
      {
        "duration": -59,
        "start_time": "2021-06-27T11:23:21.606Z"
      },
      {
        "duration": 258,
        "start_time": "2021-06-27T11:26:33.571Z"
      },
      {
        "duration": 215,
        "start_time": "2021-06-27T11:41:30.386Z"
      },
      {
        "duration": 76,
        "start_time": "2021-06-27T11:42:21.983Z"
      },
      {
        "duration": 59,
        "start_time": "2021-06-27T11:43:23.947Z"
      },
      {
        "duration": 60,
        "start_time": "2021-06-27T11:44:49.763Z"
      },
      {
        "duration": 271,
        "start_time": "2021-06-27T11:46:18.756Z"
      },
      {
        "duration": 253,
        "start_time": "2021-06-27T11:46:59.810Z"
      },
      {
        "duration": 244,
        "start_time": "2021-06-27T11:49:11.249Z"
      },
      {
        "duration": 245,
        "start_time": "2021-06-27T11:49:47.254Z"
      },
      {
        "duration": 262,
        "start_time": "2021-06-27T11:51:22.911Z"
      },
      {
        "duration": 246,
        "start_time": "2021-06-27T12:06:57.570Z"
      },
      {
        "duration": 259,
        "start_time": "2021-06-27T12:08:52.980Z"
      },
      {
        "duration": 245,
        "start_time": "2021-06-27T12:10:55.309Z"
      },
      {
        "duration": 258,
        "start_time": "2021-06-27T12:12:05.533Z"
      },
      {
        "duration": 296,
        "start_time": "2021-06-27T12:12:40.724Z"
      },
      {
        "duration": 261,
        "start_time": "2021-06-27T12:13:13.296Z"
      },
      {
        "duration": 480,
        "start_time": "2021-06-27T12:15:12.717Z"
      },
      {
        "duration": 508,
        "start_time": "2021-06-27T12:15:44.584Z"
      },
      {
        "duration": 64,
        "start_time": "2021-06-27T12:16:10.941Z"
      },
      {
        "duration": 67,
        "start_time": "2021-06-27T12:16:16.956Z"
      },
      {
        "duration": 64,
        "start_time": "2021-06-27T12:16:25.543Z"
      },
      {
        "duration": 482,
        "start_time": "2021-06-27T12:17:03.858Z"
      },
      {
        "duration": 498,
        "start_time": "2021-06-27T12:17:10.065Z"
      },
      {
        "duration": 495,
        "start_time": "2021-06-27T12:17:15.492Z"
      },
      {
        "duration": 671,
        "start_time": "2021-06-27T12:17:36.329Z"
      },
      {
        "duration": 694,
        "start_time": "2021-06-27T12:17:43.994Z"
      },
      {
        "duration": 60,
        "start_time": "2021-06-27T12:18:14.426Z"
      },
      {
        "duration": 732,
        "start_time": "2021-06-27T12:18:44.656Z"
      },
      {
        "duration": 1071,
        "start_time": "2021-06-27T12:19:02.667Z"
      },
      {
        "duration": 984,
        "start_time": "2021-06-27T12:42:59.501Z"
      },
      {
        "duration": 589,
        "start_time": "2021-06-27T12:43:34.271Z"
      },
      {
        "duration": 670,
        "start_time": "2021-06-27T12:43:55.638Z"
      },
      {
        "duration": 681,
        "start_time": "2021-06-27T12:44:47.766Z"
      },
      {
        "duration": 594,
        "start_time": "2021-06-27T12:45:01.648Z"
      },
      {
        "duration": 66,
        "start_time": "2021-06-27T12:45:25.217Z"
      },
      {
        "duration": 567,
        "start_time": "2021-06-27T12:47:57.977Z"
      },
      {
        "duration": 691,
        "start_time": "2021-06-27T12:49:19.515Z"
      },
      {
        "duration": 625,
        "start_time": "2021-06-27T12:49:56.326Z"
      },
      {
        "duration": 600,
        "start_time": "2021-06-27T12:51:24.318Z"
      },
      {
        "duration": 67,
        "start_time": "2021-06-27T12:53:40.486Z"
      },
      {
        "duration": 60,
        "start_time": "2021-06-27T12:53:45.234Z"
      },
      {
        "duration": 80,
        "start_time": "2021-06-27T12:53:55.880Z"
      },
      {
        "duration": 987,
        "start_time": "2021-06-27T12:55:16.539Z"
      },
      {
        "duration": 455,
        "start_time": "2021-06-27T12:55:17.528Z"
      },
      {
        "duration": 79,
        "start_time": "2021-06-27T12:55:17.984Z"
      },
      {
        "duration": 179,
        "start_time": "2021-06-27T12:55:18.065Z"
      },
      {
        "duration": 39,
        "start_time": "2021-06-27T12:55:18.246Z"
      },
      {
        "duration": 10,
        "start_time": "2021-06-27T12:55:18.287Z"
      },
      {
        "duration": 13,
        "start_time": "2021-06-27T12:55:18.299Z"
      },
      {
        "duration": 475,
        "start_time": "2021-06-27T12:55:18.315Z"
      },
      {
        "duration": 698,
        "start_time": "2021-06-27T12:55:18.792Z"
      },
      {
        "duration": 504,
        "start_time": "2021-06-27T12:55:19.492Z"
      },
      {
        "duration": -16,
        "start_time": "2021-06-27T12:55:20.014Z"
      },
      {
        "duration": -19,
        "start_time": "2021-06-27T12:55:20.018Z"
      },
      {
        "duration": -21,
        "start_time": "2021-06-27T12:55:20.020Z"
      },
      {
        "duration": -24,
        "start_time": "2021-06-27T12:55:20.024Z"
      },
      {
        "duration": -26,
        "start_time": "2021-06-27T12:55:20.027Z"
      },
      {
        "duration": -56,
        "start_time": "2021-06-27T12:55:20.058Z"
      },
      {
        "duration": -60,
        "start_time": "2021-06-27T12:55:20.063Z"
      },
      {
        "duration": -61,
        "start_time": "2021-06-27T12:55:20.065Z"
      },
      {
        "duration": -62,
        "start_time": "2021-06-27T12:55:20.067Z"
      },
      {
        "duration": -63,
        "start_time": "2021-06-27T12:55:20.069Z"
      },
      {
        "duration": -66,
        "start_time": "2021-06-27T12:55:20.073Z"
      },
      {
        "duration": 558,
        "start_time": "2021-06-27T12:57:03.939Z"
      },
      {
        "duration": 976,
        "start_time": "2021-06-27T12:57:51.074Z"
      },
      {
        "duration": 559,
        "start_time": "2021-06-27T12:58:31.891Z"
      },
      {
        "duration": 241,
        "start_time": "2021-06-27T12:59:00.196Z"
      },
      {
        "duration": 239,
        "start_time": "2021-06-27T12:59:23.515Z"
      },
      {
        "duration": 675,
        "start_time": "2021-06-27T13:00:01.158Z"
      },
      {
        "duration": 241,
        "start_time": "2021-06-27T13:00:37.887Z"
      },
      {
        "duration": 241,
        "start_time": "2021-06-27T13:07:55.486Z"
      },
      {
        "duration": 242,
        "start_time": "2021-06-27T13:08:26.598Z"
      },
      {
        "duration": 244,
        "start_time": "2021-06-27T13:09:02.859Z"
      },
      {
        "duration": 242,
        "start_time": "2021-06-27T13:09:15.671Z"
      },
      {
        "duration": 257,
        "start_time": "2021-06-27T13:09:27.162Z"
      },
      {
        "duration": 240,
        "start_time": "2021-06-27T13:09:53.379Z"
      },
      {
        "duration": 414,
        "start_time": "2021-06-27T13:10:14.634Z"
      },
      {
        "duration": 258,
        "start_time": "2021-06-27T13:10:23.003Z"
      },
      {
        "duration": 249,
        "start_time": "2021-06-27T13:10:34.763Z"
      },
      {
        "duration": 251,
        "start_time": "2021-06-27T13:15:05.860Z"
      },
      {
        "duration": 249,
        "start_time": "2021-06-27T13:57:24.346Z"
      },
      {
        "duration": 6,
        "start_time": "2021-06-27T13:57:58.308Z"
      },
      {
        "duration": 7,
        "start_time": "2021-06-27T14:19:05.977Z"
      },
      {
        "duration": 3,
        "start_time": "2021-06-27T14:20:20.275Z"
      },
      {
        "duration": 4,
        "start_time": "2021-06-27T14:20:32.195Z"
      },
      {
        "duration": 6,
        "start_time": "2021-06-27T14:24:23.911Z"
      },
      {
        "duration": 8,
        "start_time": "2021-06-27T14:25:09.192Z"
      },
      {
        "duration": 11,
        "start_time": "2021-06-27T14:25:20.151Z"
      },
      {
        "duration": 12,
        "start_time": "2021-06-27T14:26:05.823Z"
      },
      {
        "duration": 23,
        "start_time": "2021-06-27T14:26:21.803Z"
      },
      {
        "duration": 327,
        "start_time": "2021-06-27T14:32:14.449Z"
      },
      {
        "duration": 24,
        "start_time": "2021-06-27T14:32:32.123Z"
      },
      {
        "duration": 25,
        "start_time": "2021-06-27T14:34:14.381Z"
      },
      {
        "duration": 13,
        "start_time": "2021-06-27T14:34:21.157Z"
      },
      {
        "duration": 24,
        "start_time": "2021-06-27T14:35:47.999Z"
      },
      {
        "duration": 12,
        "start_time": "2021-06-27T14:37:42.672Z"
      },
      {
        "duration": 25,
        "start_time": "2021-06-27T14:38:11.736Z"
      },
      {
        "duration": 13,
        "start_time": "2021-06-27T14:41:09.284Z"
      },
      {
        "duration": 14,
        "start_time": "2021-06-27T14:42:35.311Z"
      },
      {
        "duration": 14,
        "start_time": "2021-06-27T14:44:29.940Z"
      },
      {
        "duration": 308,
        "start_time": "2021-06-27T14:45:24.468Z"
      },
      {
        "duration": 15,
        "start_time": "2021-06-27T14:45:42.972Z"
      },
      {
        "duration": 18,
        "start_time": "2021-06-27T14:46:34.252Z"
      },
      {
        "duration": 18,
        "start_time": "2021-06-27T14:47:17.736Z"
      },
      {
        "duration": 18,
        "start_time": "2021-06-27T14:47:29.216Z"
      },
      {
        "duration": 12,
        "start_time": "2021-06-27T14:51:25.452Z"
      },
      {
        "duration": 20,
        "start_time": "2021-06-27T14:51:26.098Z"
      },
      {
        "duration": 1082,
        "start_time": "2021-06-27T14:51:39.987Z"
      },
      {
        "duration": 426,
        "start_time": "2021-06-27T14:51:41.071Z"
      },
      {
        "duration": 95,
        "start_time": "2021-06-27T14:51:41.499Z"
      },
      {
        "duration": 182,
        "start_time": "2021-06-27T14:51:41.596Z"
      },
      {
        "duration": 28,
        "start_time": "2021-06-27T14:51:41.780Z"
      },
      {
        "duration": 9,
        "start_time": "2021-06-27T14:51:41.809Z"
      },
      {
        "duration": 13,
        "start_time": "2021-06-27T14:51:41.820Z"
      },
      {
        "duration": 510,
        "start_time": "2021-06-27T14:51:41.835Z"
      },
      {
        "duration": 263,
        "start_time": "2021-06-27T14:51:42.347Z"
      },
      {
        "duration": 6,
        "start_time": "2021-06-27T14:51:42.611Z"
      },
      {
        "duration": 17,
        "start_time": "2021-06-27T14:51:42.619Z"
      },
      {
        "duration": 2214,
        "start_time": "2021-06-27T14:51:42.637Z"
      },
      {
        "duration": -49,
        "start_time": "2021-06-27T14:51:44.903Z"
      },
      {
        "duration": -51,
        "start_time": "2021-06-27T14:51:44.906Z"
      },
      {
        "duration": -56,
        "start_time": "2021-06-27T14:51:44.912Z"
      },
      {
        "duration": -58,
        "start_time": "2021-06-27T14:51:44.915Z"
      },
      {
        "duration": -59,
        "start_time": "2021-06-27T14:51:44.917Z"
      },
      {
        "duration": -59,
        "start_time": "2021-06-27T14:51:44.918Z"
      },
      {
        "duration": -60,
        "start_time": "2021-06-27T14:51:44.920Z"
      },
      {
        "duration": -61,
        "start_time": "2021-06-27T14:51:44.922Z"
      },
      {
        "duration": -61,
        "start_time": "2021-06-27T14:51:44.923Z"
      },
      {
        "duration": -61,
        "start_time": "2021-06-27T14:51:44.924Z"
      },
      {
        "duration": 10,
        "start_time": "2021-06-27T14:52:10.945Z"
      },
      {
        "duration": 22,
        "start_time": "2021-06-27T14:52:12.225Z"
      },
      {
        "duration": 1095,
        "start_time": "2021-06-27T14:52:19.513Z"
      },
      {
        "duration": 431,
        "start_time": "2021-06-27T14:52:20.610Z"
      },
      {
        "duration": 83,
        "start_time": "2021-06-27T14:52:21.043Z"
      },
      {
        "duration": 181,
        "start_time": "2021-06-27T14:52:21.128Z"
      },
      {
        "duration": 26,
        "start_time": "2021-06-27T14:52:21.311Z"
      },
      {
        "duration": 10,
        "start_time": "2021-06-27T14:52:21.339Z"
      },
      {
        "duration": 40,
        "start_time": "2021-06-27T14:52:21.351Z"
      },
      {
        "duration": 499,
        "start_time": "2021-06-27T14:52:21.393Z"
      },
      {
        "duration": 258,
        "start_time": "2021-06-27T14:52:21.894Z"
      },
      {
        "duration": 6,
        "start_time": "2021-06-27T14:52:22.154Z"
      },
      {
        "duration": 32,
        "start_time": "2021-06-27T14:52:22.162Z"
      },
      {
        "duration": 531,
        "start_time": "2021-06-27T14:52:22.196Z"
      },
      {
        "duration": -51,
        "start_time": "2021-06-27T14:52:22.780Z"
      },
      {
        "duration": -52,
        "start_time": "2021-06-27T14:52:22.782Z"
      },
      {
        "duration": -53,
        "start_time": "2021-06-27T14:52:22.784Z"
      },
      {
        "duration": -54,
        "start_time": "2021-06-27T14:52:22.786Z"
      },
      {
        "duration": -54,
        "start_time": "2021-06-27T14:52:22.788Z"
      },
      {
        "duration": -55,
        "start_time": "2021-06-27T14:52:22.790Z"
      },
      {
        "duration": -56,
        "start_time": "2021-06-27T14:52:22.792Z"
      },
      {
        "duration": -57,
        "start_time": "2021-06-27T14:52:22.794Z"
      },
      {
        "duration": -59,
        "start_time": "2021-06-27T14:52:22.797Z"
      },
      {
        "duration": -59,
        "start_time": "2021-06-27T14:52:22.798Z"
      },
      {
        "duration": 19,
        "start_time": "2021-06-27T14:55:43.564Z"
      },
      {
        "duration": 19,
        "start_time": "2021-06-27T14:57:22.049Z"
      },
      {
        "duration": 311,
        "start_time": "2021-06-27T15:01:56.520Z"
      },
      {
        "duration": 309,
        "start_time": "2021-06-27T15:02:32.362Z"
      },
      {
        "duration": 193,
        "start_time": "2021-06-27T15:09:52.241Z"
      },
      {
        "duration": 16,
        "start_time": "2021-06-27T15:10:08.441Z"
      },
      {
        "duration": 703,
        "start_time": "2021-06-27T15:21:05.247Z"
      },
      {
        "duration": 186,
        "start_time": "2021-06-27T15:22:15.853Z"
      },
      {
        "duration": 16,
        "start_time": "2021-06-27T15:22:25.042Z"
      },
      {
        "duration": 18,
        "start_time": "2021-06-27T15:22:35.361Z"
      },
      {
        "duration": 190,
        "start_time": "2021-06-27T15:23:36.490Z"
      },
      {
        "duration": 236,
        "start_time": "2021-06-27T15:23:50.714Z"
      },
      {
        "duration": 18,
        "start_time": "2021-06-27T15:24:03.262Z"
      },
      {
        "duration": 22,
        "start_time": "2021-06-27T15:24:36.306Z"
      },
      {
        "duration": 21,
        "start_time": "2021-06-27T15:25:06.758Z"
      },
      {
        "duration": 23,
        "start_time": "2021-06-27T15:25:23.750Z"
      },
      {
        "duration": 40,
        "start_time": "2021-06-27T15:26:01.251Z"
      },
      {
        "duration": 191,
        "start_time": "2021-06-27T15:28:16.563Z"
      },
      {
        "duration": 30,
        "start_time": "2021-06-27T15:28:24.970Z"
      },
      {
        "duration": 16,
        "start_time": "2021-06-27T15:28:44.957Z"
      },
      {
        "duration": 16,
        "start_time": "2021-06-27T15:29:53.070Z"
      },
      {
        "duration": 5608,
        "start_time": "2021-06-27T15:35:24.322Z"
      },
      {
        "duration": 5154,
        "start_time": "2021-06-27T15:35:30.116Z"
      },
      {
        "duration": 16,
        "start_time": "2021-06-27T15:35:42.678Z"
      },
      {
        "duration": 23,
        "start_time": "2021-06-27T15:35:53.405Z"
      },
      {
        "duration": 15,
        "start_time": "2021-06-27T15:36:13.334Z"
      },
      {
        "duration": 23,
        "start_time": "2021-06-27T15:36:44.662Z"
      },
      {
        "duration": 183,
        "start_time": "2021-06-27T15:38:08.402Z"
      },
      {
        "duration": 23,
        "start_time": "2021-06-27T15:40:50.973Z"
      },
      {
        "duration": 36,
        "start_time": "2021-06-27T15:41:30.949Z"
      },
      {
        "duration": 40,
        "start_time": "2021-06-27T15:42:32.310Z"
      },
      {
        "duration": 18,
        "start_time": "2021-06-27T15:43:37.834Z"
      },
      {
        "duration": 5,
        "start_time": "2021-06-27T15:43:43.881Z"
      },
      {
        "duration": 197,
        "start_time": "2021-06-27T15:43:52.541Z"
      },
      {
        "duration": 60,
        "start_time": "2021-06-27T15:48:13.693Z"
      },
      {
        "duration": 68,
        "start_time": "2021-06-27T15:48:20.741Z"
      },
      {
        "duration": 58,
        "start_time": "2021-06-27T15:48:45.874Z"
      },
      {
        "duration": 66,
        "start_time": "2021-06-27T15:51:31.673Z"
      },
      {
        "duration": 57,
        "start_time": "2021-06-27T15:51:41.409Z"
      },
      {
        "duration": 65,
        "start_time": "2021-06-27T15:53:40.070Z"
      },
      {
        "duration": 62,
        "start_time": "2021-06-27T15:56:35.829Z"
      },
      {
        "duration": 81,
        "start_time": "2021-06-27T15:56:46.449Z"
      },
      {
        "duration": 223,
        "start_time": "2021-06-27T15:57:11.642Z"
      },
      {
        "duration": 61,
        "start_time": "2021-06-27T15:58:13.690Z"
      },
      {
        "duration": 62,
        "start_time": "2021-06-27T15:58:33.634Z"
      },
      {
        "duration": 55,
        "start_time": "2021-06-27T16:00:51.662Z"
      },
      {
        "duration": 60,
        "start_time": "2021-06-27T16:01:43.210Z"
      },
      {
        "duration": 61,
        "start_time": "2021-06-27T16:02:12.776Z"
      },
      {
        "duration": 66,
        "start_time": "2021-06-27T16:02:25.898Z"
      },
      {
        "duration": 57,
        "start_time": "2021-06-27T16:02:33.345Z"
      },
      {
        "duration": 65,
        "start_time": "2021-06-27T16:02:40.546Z"
      },
      {
        "duration": 24,
        "start_time": "2021-06-27T16:02:51.713Z"
      },
      {
        "duration": 26,
        "start_time": "2021-06-27T16:03:06.477Z"
      },
      {
        "duration": 25,
        "start_time": "2021-06-27T16:03:48.386Z"
      },
      {
        "duration": 18,
        "start_time": "2021-06-27T16:04:06.194Z"
      },
      {
        "duration": 5,
        "start_time": "2021-06-27T16:04:25.373Z"
      },
      {
        "duration": 22,
        "start_time": "2021-06-27T16:05:50.582Z"
      },
      {
        "duration": 21,
        "start_time": "2021-06-27T16:06:17.381Z"
      },
      {
        "duration": 4287,
        "start_time": "2021-06-27T16:06:41.222Z"
      },
      {
        "duration": 55,
        "start_time": "2021-06-27T16:08:31.215Z"
      },
      {
        "duration": 179,
        "start_time": "2021-06-27T16:09:13.605Z"
      },
      {
        "duration": 181,
        "start_time": "2021-06-27T16:09:16.381Z"
      },
      {
        "duration": 1406,
        "start_time": "2021-06-27T16:09:56.746Z"
      },
      {
        "duration": 1344,
        "start_time": "2021-06-27T16:10:01.751Z"
      },
      {
        "duration": 5,
        "start_time": "2021-06-27T16:13:12.758Z"
      },
      {
        "duration": 28,
        "start_time": "2021-06-27T16:13:30.775Z"
      },
      {
        "duration": 32,
        "start_time": "2021-06-27T16:14:03.362Z"
      },
      {
        "duration": 2161,
        "start_time": "2021-06-27T16:17:16.738Z"
      },
      {
        "duration": 2096,
        "start_time": "2021-06-27T16:19:07.706Z"
      },
      {
        "duration": 2344,
        "start_time": "2021-06-27T16:19:22.365Z"
      },
      {
        "duration": 2150,
        "start_time": "2021-06-27T16:19:46.253Z"
      },
      {
        "duration": 2426,
        "start_time": "2021-06-27T16:21:05.297Z"
      },
      {
        "duration": 2060,
        "start_time": "2021-06-27T16:21:39.295Z"
      },
      {
        "duration": 2220,
        "start_time": "2021-06-27T16:21:54.943Z"
      },
      {
        "duration": 2303,
        "start_time": "2021-06-27T16:22:04.543Z"
      },
      {
        "duration": 2307,
        "start_time": "2021-06-27T16:22:28.090Z"
      },
      {
        "duration": 2279,
        "start_time": "2021-06-27T16:22:36.334Z"
      },
      {
        "duration": 2325,
        "start_time": "2021-06-27T16:23:34.690Z"
      },
      {
        "duration": 2218,
        "start_time": "2021-06-27T16:23:49.434Z"
      },
      {
        "duration": 1603,
        "start_time": "2021-06-27T16:29:26.737Z"
      },
      {
        "duration": 4126,
        "start_time": "2021-06-27T16:29:48.818Z"
      },
      {
        "duration": 3949,
        "start_time": "2021-06-27T16:30:18.499Z"
      },
      {
        "duration": 4198,
        "start_time": "2021-06-27T16:31:22.831Z"
      },
      {
        "duration": 58,
        "start_time": "2021-06-27T16:35:46.659Z"
      },
      {
        "duration": 63,
        "start_time": "2021-06-27T16:36:02.811Z"
      },
      {
        "duration": 58,
        "start_time": "2021-06-27T16:37:25.791Z"
      },
      {
        "duration": 177,
        "start_time": "2021-06-27T16:37:31.166Z"
      },
      {
        "duration": 1484,
        "start_time": "2021-06-27T16:37:48.229Z"
      },
      {
        "duration": 751,
        "start_time": "2021-06-27T16:38:07.558Z"
      },
      {
        "duration": 71,
        "start_time": "2021-06-27T16:38:55.582Z"
      },
      {
        "duration": 59,
        "start_time": "2021-06-27T16:39:40.207Z"
      },
      {
        "duration": 68,
        "start_time": "2021-06-27T16:39:52.990Z"
      },
      {
        "duration": 184,
        "start_time": "2021-06-27T16:40:15.762Z"
      },
      {
        "duration": 1902,
        "start_time": "2021-06-27T16:40:41.658Z"
      },
      {
        "duration": 2189,
        "start_time": "2021-06-27T16:40:52.090Z"
      },
      {
        "duration": 1956,
        "start_time": "2021-06-27T16:41:54.490Z"
      },
      {
        "duration": 58,
        "start_time": "2021-06-27T16:55:04.279Z"
      },
      {
        "duration": 1102,
        "start_time": "2021-06-27T16:55:37.051Z"
      },
      {
        "duration": 1246,
        "start_time": "2021-06-27T16:55:38.155Z"
      },
      {
        "duration": 106,
        "start_time": "2021-06-27T16:55:39.404Z"
      },
      {
        "duration": 193,
        "start_time": "2021-06-27T16:55:39.512Z"
      },
      {
        "duration": 25,
        "start_time": "2021-06-27T16:55:39.707Z"
      },
      {
        "duration": 10,
        "start_time": "2021-06-27T16:55:39.734Z"
      },
      {
        "duration": 40,
        "start_time": "2021-06-27T16:55:39.746Z"
      },
      {
        "duration": 515,
        "start_time": "2021-06-27T16:55:39.790Z"
      },
      {
        "duration": 266,
        "start_time": "2021-06-27T16:55:40.307Z"
      },
      {
        "duration": 17,
        "start_time": "2021-06-27T16:55:40.574Z"
      },
      {
        "duration": 28,
        "start_time": "2021-06-27T16:55:40.593Z"
      },
      {
        "duration": 23,
        "start_time": "2021-06-27T16:55:40.622Z"
      },
      {
        "duration": 38,
        "start_time": "2021-06-27T16:55:40.647Z"
      },
      {
        "duration": 8,
        "start_time": "2021-06-27T16:55:40.688Z"
      },
      {
        "duration": 23,
        "start_time": "2021-06-27T16:55:40.699Z"
      },
      {
        "duration": 19,
        "start_time": "2021-06-27T16:55:40.724Z"
      },
      {
        "duration": 88,
        "start_time": "2021-06-27T16:55:40.744Z"
      },
      {
        "duration": 1924,
        "start_time": "2021-06-27T16:55:40.833Z"
      },
      {
        "duration": 1982,
        "start_time": "2021-06-27T16:55:42.759Z"
      },
      {
        "duration": 5,
        "start_time": "2021-06-27T16:55:44.743Z"
      },
      {
        "duration": 17,
        "start_time": "2021-06-27T16:55:44.750Z"
      },
      {
        "duration": 1127,
        "start_time": "2021-06-27T16:56:22.296Z"
      },
      {
        "duration": 493,
        "start_time": "2021-06-27T16:56:23.425Z"
      },
      {
        "duration": 106,
        "start_time": "2021-06-27T16:56:23.920Z"
      },
      {
        "duration": 198,
        "start_time": "2021-06-27T16:56:24.028Z"
      },
      {
        "duration": 28,
        "start_time": "2021-06-27T16:56:24.228Z"
      },
      {
        "duration": 27,
        "start_time": "2021-06-27T16:56:24.258Z"
      },
      {
        "duration": 21,
        "start_time": "2021-06-27T16:56:24.287Z"
      },
      {
        "duration": 521,
        "start_time": "2021-06-27T16:56:24.311Z"
      },
      {
        "duration": 271,
        "start_time": "2021-06-27T16:56:24.834Z"
      },
      {
        "duration": 7,
        "start_time": "2021-06-27T16:56:25.106Z"
      },
      {
        "duration": 22,
        "start_time": "2021-06-27T16:56:25.114Z"
      },
      {
        "duration": 23,
        "start_time": "2021-06-27T16:56:25.138Z"
      },
      {
        "duration": 41,
        "start_time": "2021-06-27T16:56:25.162Z"
      },
      {
        "duration": 7,
        "start_time": "2021-06-27T16:56:25.205Z"
      },
      {
        "duration": 22,
        "start_time": "2021-06-27T16:56:25.213Z"
      },
      {
        "duration": 50,
        "start_time": "2021-06-27T16:56:25.237Z"
      },
      {
        "duration": 58,
        "start_time": "2021-06-27T16:56:25.288Z"
      },
      {
        "duration": 2030,
        "start_time": "2021-06-27T16:56:25.348Z"
      },
      {
        "duration": 1947,
        "start_time": "2021-06-27T16:56:27.384Z"
      },
      {
        "duration": 5,
        "start_time": "2021-06-27T16:56:29.333Z"
      },
      {
        "duration": 18,
        "start_time": "2021-06-27T16:56:29.340Z"
      },
      {
        "duration": 347,
        "start_time": "2021-06-28T11:18:57.771Z"
      },
      {
        "duration": 273,
        "start_time": "2021-06-28T11:18:59.741Z"
      },
      {
        "duration": 1847,
        "start_time": "2021-06-28T11:18:58.171Z"
      },
      {
        "duration": 1842,
        "start_time": "2021-06-28T11:18:58.178Z"
      },
      {
        "duration": 1837,
        "start_time": "2021-06-28T11:18:58.184Z"
      },
      {
        "duration": 1835,
        "start_time": "2021-06-28T11:18:58.188Z"
      },
      {
        "duration": 1831,
        "start_time": "2021-06-28T11:18:58.193Z"
      },
      {
        "duration": 1826,
        "start_time": "2021-06-28T11:18:58.199Z"
      },
      {
        "duration": 1823,
        "start_time": "2021-06-28T11:18:58.204Z"
      },
      {
        "duration": 1820,
        "start_time": "2021-06-28T11:18:58.208Z"
      },
      {
        "duration": 1810,
        "start_time": "2021-06-28T11:18:58.220Z"
      },
      {
        "duration": 1807,
        "start_time": "2021-06-28T11:18:58.224Z"
      },
      {
        "duration": 1805,
        "start_time": "2021-06-28T11:18:58.228Z"
      },
      {
        "duration": 1801,
        "start_time": "2021-06-28T11:18:58.233Z"
      },
      {
        "duration": 1801,
        "start_time": "2021-06-28T11:18:58.237Z"
      },
      {
        "duration": 1493,
        "start_time": "2021-06-28T11:19:06.795Z"
      },
      {
        "duration": 593,
        "start_time": "2021-06-28T11:19:08.292Z"
      },
      {
        "duration": 121,
        "start_time": "2021-06-28T11:19:08.888Z"
      },
      {
        "duration": 268,
        "start_time": "2021-06-28T11:19:09.012Z"
      },
      {
        "duration": 56,
        "start_time": "2021-06-28T11:19:09.282Z"
      },
      {
        "duration": 17,
        "start_time": "2021-06-28T11:19:09.340Z"
      },
      {
        "duration": 49,
        "start_time": "2021-06-28T11:19:09.360Z"
      },
      {
        "duration": 947,
        "start_time": "2021-06-28T11:19:09.412Z"
      },
      {
        "duration": 458,
        "start_time": "2021-06-28T11:19:10.362Z"
      },
      {
        "duration": 12,
        "start_time": "2021-06-28T11:19:11.616Z"
      },
      {
        "duration": 7,
        "start_time": "2021-06-28T11:19:15.309Z"
      },
      {
        "duration": 7054,
        "start_time": "2021-06-28T11:21:34.020Z"
      },
      {
        "duration": 7472,
        "start_time": "2021-06-28T11:22:58.993Z"
      },
      {
        "duration": 8,
        "start_time": "2021-06-28T11:23:06.467Z"
      },
      {
        "duration": 53,
        "start_time": "2021-06-28T11:23:06.478Z"
      },
      {
        "duration": 35,
        "start_time": "2021-06-28T11:23:06.534Z"
      },
      {
        "duration": 46,
        "start_time": "2021-06-28T11:23:06.572Z"
      },
      {
        "duration": 10,
        "start_time": "2021-06-28T11:23:06.621Z"
      },
      {
        "duration": 34,
        "start_time": "2021-06-28T11:23:06.634Z"
      },
      {
        "duration": 52,
        "start_time": "2021-06-28T11:23:06.672Z"
      },
      {
        "duration": 107,
        "start_time": "2021-06-28T11:23:06.727Z"
      },
      {
        "duration": 2672,
        "start_time": "2021-06-28T11:23:06.836Z"
      },
      {
        "duration": 2832,
        "start_time": "2021-06-28T11:23:09.510Z"
      },
      {
        "duration": 8,
        "start_time": "2021-06-28T11:23:12.344Z"
      },
      {
        "duration": 50,
        "start_time": "2021-06-28T11:23:12.354Z"
      },
      {
        "duration": 3,
        "start_time": "2021-06-28T11:24:05.841Z"
      },
      {
        "duration": 26,
        "start_time": "2021-06-28T11:24:34.034Z"
      },
      {
        "duration": 37,
        "start_time": "2021-06-28T11:25:47.808Z"
      },
      {
        "duration": 380,
        "start_time": "2021-06-28T11:30:19.056Z"
      },
      {
        "duration": 49,
        "start_time": "2021-06-28T11:30:39.613Z"
      },
      {
        "duration": 346,
        "start_time": "2021-06-28T11:31:47.914Z"
      },
      {
        "duration": 91,
        "start_time": "2021-06-28T11:32:15.032Z"
      },
      {
        "duration": 614,
        "start_time": "2021-06-28T11:33:18.756Z"
      },
      {
        "duration": 635,
        "start_time": "2021-06-28T11:33:25.546Z"
      },
      {
        "duration": 157,
        "start_time": "2021-06-28T15:37:32.890Z"
      },
      {
        "duration": 65,
        "start_time": "2021-06-28T15:38:23.977Z"
      },
      {
        "duration": 15,
        "start_time": "2021-06-28T15:38:58.711Z"
      },
      {
        "duration": 15,
        "start_time": "2021-06-28T15:39:01.082Z"
      },
      {
        "duration": 23,
        "start_time": "2021-06-28T15:39:16.409Z"
      },
      {
        "duration": 364,
        "start_time": "2021-06-28T15:44:01.442Z"
      },
      {
        "duration": 367,
        "start_time": "2021-06-28T15:44:21.097Z"
      },
      {
        "duration": 391,
        "start_time": "2021-06-28T15:44:37.665Z"
      },
      {
        "duration": 466,
        "start_time": "2021-06-28T15:51:50.198Z"
      },
      {
        "duration": 499,
        "start_time": "2021-06-28T15:52:08.437Z"
      },
      {
        "duration": 378,
        "start_time": "2021-06-28T15:52:15.037Z"
      },
      {
        "duration": 352,
        "start_time": "2021-06-28T15:53:54.608Z"
      },
      {
        "duration": 358,
        "start_time": "2021-06-28T15:55:35.554Z"
      },
      {
        "duration": 1443,
        "start_time": "2021-06-28T22:45:59.010Z"
      },
      {
        "duration": 668,
        "start_time": "2021-06-28T22:46:00.456Z"
      },
      {
        "duration": 159,
        "start_time": "2021-06-28T22:46:01.128Z"
      },
      {
        "duration": 275,
        "start_time": "2021-06-28T22:46:01.291Z"
      },
      {
        "duration": 47,
        "start_time": "2021-06-28T22:46:01.569Z"
      },
      {
        "duration": 17,
        "start_time": "2021-06-28T22:46:01.618Z"
      },
      {
        "duration": 54,
        "start_time": "2021-06-28T22:46:01.637Z"
      },
      {
        "duration": 1023,
        "start_time": "2021-06-28T22:46:01.694Z"
      },
      {
        "duration": 491,
        "start_time": "2021-06-28T22:46:05.420Z"
      },
      {
        "duration": 14,
        "start_time": "2021-06-28T22:46:10.667Z"
      },
      {
        "duration": 71,
        "start_time": "2021-06-28T22:46:10.685Z"
      },
      {
        "duration": 52,
        "start_time": "2021-06-28T22:46:10.760Z"
      },
      {
        "duration": 3,
        "start_time": "2021-06-28T22:46:10.815Z"
      },
      {
        "duration": 38,
        "start_time": "2021-06-28T22:46:10.820Z"
      },
      {
        "duration": 47,
        "start_time": "2021-06-28T22:46:10.861Z"
      },
      {
        "duration": 51,
        "start_time": "2021-06-28T22:46:10.911Z"
      },
      {
        "duration": 122,
        "start_time": "2021-06-28T22:46:10.966Z"
      },
      {
        "duration": 47,
        "start_time": "2021-06-28T22:46:11.091Z"
      },
      {
        "duration": 122,
        "start_time": "2021-06-28T22:46:11.140Z"
      },
      {
        "duration": 625,
        "start_time": "2021-06-28T22:46:11.267Z"
      },
      {
        "duration": 1137,
        "start_time": "2021-06-28T22:46:11.895Z"
      },
      {
        "duration": 612,
        "start_time": "2021-06-28T22:46:13.035Z"
      },
      {
        "duration": 631,
        "start_time": "2021-06-28T22:46:13.649Z"
      },
      {
        "duration": 7,
        "start_time": "2021-06-28T22:46:14.284Z"
      },
      {
        "duration": 118,
        "start_time": "2021-06-28T22:46:14.293Z"
      }
    ],
    "colab": {
      "provenance": [],
      "toc_visible": true
    },
    "kernelspec": {
      "display_name": "Python 3 (ipykernel)",
      "language": "python",
      "name": "python3"
    },
    "language_info": {
      "codemirror_mode": {
        "name": "ipython",
        "version": 3
      },
      "file_extension": ".py",
      "mimetype": "text/x-python",
      "name": "python",
      "nbconvert_exporter": "python",
      "pygments_lexer": "ipython3",
      "version": "3.9.13"
    },
    "toc": {
      "base_numbering": 1,
      "nav_menu": {
        "height": "99px",
        "width": "297px"
      },
      "number_sections": true,
      "sideBar": true,
      "skip_h1_title": true,
      "title_cell": "Содержание проекта",
      "title_sidebar": "Contents",
      "toc_cell": true,
      "toc_position": {
        "height": "calc(100% - 180px)",
        "left": "10px",
        "top": "150px",
        "width": "255px"
      },
      "toc_section_display": true,
      "toc_window_display": true
    }
  },
  "nbformat": 4,
  "nbformat_minor": 0
}
